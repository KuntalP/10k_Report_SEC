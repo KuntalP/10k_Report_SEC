{
 "cells": [
  {
   "cell_type": "markdown",
   "metadata": {},
   "source": [
    "# Long Term Stock Price growth prediction using NLP on 10- K Financial Reports\n",
    "\n",
    "Document Details – The details and description provided in this document refers to the analysis, EDA, corpus details of the solution. Further, the document also describes the approach and the thought process to solve the problem statement. \n",
    "Intended Audience – The document is intended for the data scientists, professors and other data science faculty at INSOFE, Bangalore. \n",
    "\n",
    "\n",
    "#### Abstract \n",
    "We investigate the importance of text analysis to analyse the long term stock performance of a company. In particular, we introduce a system that forecasts the stock performance in response to the financial events that are reported in the 1-k documents. Our results indicate that using text boost predictions accuracy. We shall analyse how combined technique of using NLP and model building using machine learning technique can overall boost the prediction accuracy and predict the impact for a long term stock performance of a company. \n"
   ]
  },
  {
   "cell_type": "code",
   "execution_count": null,
   "metadata": {},
   "outputs": [],
   "source": [
    "#Importing the libraries"
   ]
  },
  {
   "cell_type": "code",
   "execution_count": 1,
   "metadata": {},
   "outputs": [],
   "source": [
    "import pandas as pd\n",
    "import numpy as np\n",
    "import requests\n",
    "from bs4 import BeautifulSoup as bs\n",
    "import numpy as np\n",
    "import pandas as pd\n",
    "import urllib.request as url \n",
    "import re, string, unicodedata\n",
    "import nltk\n",
    "from bs4 import BeautifulSoup\n",
    "from nltk import word_tokenize, sent_tokenize\n",
    "from nltk.corpus import stopwords\n",
    "from nltk.stem import LancasterStemmer, WordNetLemmatizer\n",
    "import string"
   ]
  },
  {
   "cell_type": "code",
   "execution_count": 2,
   "metadata": {},
   "outputs": [],
   "source": [
    "first = pd.read_csv('train_first_half.csv', encoding='utf-8')"
   ]
  },
  {
   "cell_type": "code",
   "execution_count": 3,
   "metadata": {},
   "outputs": [
    {
     "data": {
      "text/html": [
       "<div>\n",
       "<style scoped>\n",
       "    .dataframe tbody tr th:only-of-type {\n",
       "        vertical-align: middle;\n",
       "    }\n",
       "\n",
       "    .dataframe tbody tr th {\n",
       "        vertical-align: top;\n",
       "    }\n",
       "\n",
       "    .dataframe thead th {\n",
       "        text-align: right;\n",
       "    }\n",
       "</style>\n",
       "<table border=\"1\" class=\"dataframe\">\n",
       "  <thead>\n",
       "    <tr style=\"text-align: right;\">\n",
       "      <th></th>\n",
       "      <th>Unnamed: 0</th>\n",
       "      <th>ticker</th>\n",
       "      <th>cik</th>\n",
       "      <th>filing_date</th>\n",
       "      <th>X10k_link</th>\n",
       "      <th>long_term_outlook</th>\n",
       "      <th>tenk_data</th>\n",
       "    </tr>\n",
       "  </thead>\n",
       "  <tbody>\n",
       "    <tr>\n",
       "      <th>866</th>\n",
       "      <td>867</td>\n",
       "      <td>RSG</td>\n",
       "      <td>1060391</td>\n",
       "      <td>2003-03-27</td>\n",
       "      <td>https://www.sec.gov/Archives/edgar/data/106039...</td>\n",
       "      <td>1</td>\n",
       "      <td>- -------------------------------------------...</td>\n",
       "    </tr>\n",
       "    <tr>\n",
       "      <th>867</th>\n",
       "      <td>868</td>\n",
       "      <td>LRCX</td>\n",
       "      <td>707549</td>\n",
       "      <td>2015-08-13</td>\n",
       "      <td>https://www.sec.gov/Archives/edgar/data/707549...</td>\n",
       "      <td>1</td>\n",
       "      <td>Table of Contents UNITED STATES SECURITIES AN...</td>\n",
       "    </tr>\n",
       "    <tr>\n",
       "      <th>868</th>\n",
       "      <td>869</td>\n",
       "      <td>FSLR</td>\n",
       "      <td>1274494</td>\n",
       "      <td>2007-03-16</td>\n",
       "      <td>https://www.sec.gov/Archives/edgar/data/127449...</td>\n",
       "      <td>1</td>\n",
       "      <td>Table of Contents UNITED STATES SECURITIES AN...</td>\n",
       "    </tr>\n",
       "    <tr>\n",
       "      <th>869</th>\n",
       "      <td>870</td>\n",
       "      <td>PNC</td>\n",
       "      <td>713676</td>\n",
       "      <td>2013-03-01</td>\n",
       "      <td>https://www.sec.gov/Archives/edgar/data/713676...</td>\n",
       "      <td>1</td>\n",
       "      <td>Table of Contents UNITED STATES SECURITIES AN...</td>\n",
       "    </tr>\n",
       "    <tr>\n",
       "      <th>870</th>\n",
       "      <td>871</td>\n",
       "      <td>DE</td>\n",
       "      <td>315189</td>\n",
       "      <td>2015-12-18</td>\n",
       "      <td>https://www.sec.gov/Archives/edgar/data/315189...</td>\n",
       "      <td>0</td>\n",
       "      <td>UNITED STATES SECURITIES AND EXCHANGE COMMISS...</td>\n",
       "    </tr>\n",
       "  </tbody>\n",
       "</table>\n",
       "</div>"
      ],
      "text/plain": [
       "     Unnamed: 0 ticker      cik filing_date  \\\n",
       "866         867    RSG  1060391  2003-03-27   \n",
       "867         868   LRCX   707549  2015-08-13   \n",
       "868         869   FSLR  1274494  2007-03-16   \n",
       "869         870    PNC   713676  2013-03-01   \n",
       "870         871     DE   315189  2015-12-18   \n",
       "\n",
       "                                             X10k_link  long_term_outlook  \\\n",
       "866  https://www.sec.gov/Archives/edgar/data/106039...                  1   \n",
       "867  https://www.sec.gov/Archives/edgar/data/707549...                  1   \n",
       "868  https://www.sec.gov/Archives/edgar/data/127449...                  1   \n",
       "869  https://www.sec.gov/Archives/edgar/data/713676...                  1   \n",
       "870  https://www.sec.gov/Archives/edgar/data/315189...                  0   \n",
       "\n",
       "                                             tenk_data  \n",
       "866   - -------------------------------------------...  \n",
       "867   Table of Contents UNITED STATES SECURITIES AN...  \n",
       "868   Table of Contents UNITED STATES SECURITIES AN...  \n",
       "869   Table of Contents UNITED STATES SECURITIES AN...  \n",
       "870   UNITED STATES SECURITIES AND EXCHANGE COMMISS...  "
      ]
     },
     "execution_count": 3,
     "metadata": {},
     "output_type": "execute_result"
    }
   ],
   "source": [
    "first.tail()"
   ]
  },
  {
   "cell_type": "code",
   "execution_count": null,
   "metadata": {},
   "outputs": [],
   "source": [
    "import collections\n",
    "import pandas as pd\n",
    "import matplotlib.pyplot as plt\n",
    "%matplotlib inline\n",
    "\n",
    "# Read input file, note the encoding is specified here \n",
    "# It may be different in your text file\n",
    "file = open('train_first_half.csv', encoding=\"utf8\")\n",
    "a= file.read()\n",
    "# Stopwords\n",
    "stopwords = set(line.strip() for line in open('train_first_half.csv'))\n",
    "stopwords = stopwords.union(set(['mr','mrs','one','two','said']))\n",
    "# Instantiate a dictionary, and for every word in the file, \n",
    "# Add to the dictionary if it doesn't exist. If it does, increase the count.\n",
    "wordcount = {}\n",
    "# To eliminate duplicates, remember to split by punctuation, and use case demiliters.\n",
    "for word in a.lower().split():\n",
    "    word = word.replace(\".\",\"\")\n",
    "    word = word.replace(\",\",\"\")\n",
    "    word = word.replace(\":\",\"\")\n",
    "    word = word.replace(\"\\\"\",\"\")\n",
    "    word = word.replace(\"!\",\"\")\n",
    "    word = word.replace(\"â€œ\",\"\")\n",
    "    word = word.replace(\"â€˜\",\"\")\n",
    "    word = word.replace(\"*\",\"\")\n",
    "    if word not in stopwords:\n",
    "        if word not in wordcount:\n",
    "            wordcount[word] = 1\n",
    "        else:\n",
    "            wordcount[word] += 1\n",
    "# Print most common word\n",
    "n_print = int(input(\"How many most common words to print: \"))\n",
    "print(\"\\nOK. The {} most common words are as follows\\n\".format(n_print))\n",
    "word_counter = collections.Counter(wordcount)\n",
    "for word, count in word_counter.most_common(n_print):\n",
    "    print(word, \": \", count)\n",
    "# Close the file\n",
    "file.close()\n",
    "# Create a data frame of the most common words \n",
    "# Draw a bar chart\n",
    "lst = word_counter.most_common(n_print)\n",
    "df = pd.DataFrame(lst, columns = ['Word', 'Count'])\n",
    "df.plot.bar(x='Word',y='Count')"
   ]
  },
  {
   "cell_type": "code",
   "execution_count": 4,
   "metadata": {},
   "outputs": [],
   "source": [
    "second = pd.read_csv('train_second_half.csv', encoding='utf-8')\n"
   ]
  },
  {
   "cell_type": "code",
   "execution_count": 5,
   "metadata": {},
   "outputs": [],
   "source": [
    "third = pd.read_csv('train_third_half.csv', encoding='utf-8')"
   ]
  },
  {
   "cell_type": "code",
   "execution_count": 6,
   "metadata": {},
   "outputs": [
    {
     "data": {
      "text/html": [
       "<div>\n",
       "<style scoped>\n",
       "    .dataframe tbody tr th:only-of-type {\n",
       "        vertical-align: middle;\n",
       "    }\n",
       "\n",
       "    .dataframe tbody tr th {\n",
       "        vertical-align: top;\n",
       "    }\n",
       "\n",
       "    .dataframe thead th {\n",
       "        text-align: right;\n",
       "    }\n",
       "</style>\n",
       "<table border=\"1\" class=\"dataframe\">\n",
       "  <thead>\n",
       "    <tr style=\"text-align: right;\">\n",
       "      <th></th>\n",
       "      <th>Unnamed: 0</th>\n",
       "      <th>ticker</th>\n",
       "      <th>cik</th>\n",
       "      <th>filing_date</th>\n",
       "      <th>X10k_link</th>\n",
       "      <th>long_term_outlook</th>\n",
       "      <th>tenk_data</th>\n",
       "    </tr>\n",
       "  </thead>\n",
       "  <tbody>\n",
       "    <tr>\n",
       "      <th>234</th>\n",
       "      <td>1235</td>\n",
       "      <td>QCOM</td>\n",
       "      <td>804328</td>\n",
       "      <td>2012-11-07</td>\n",
       "      <td>https://www.sec.gov/Archives/edgar/data/804328...</td>\n",
       "      <td>1</td>\n",
       "      <td>\\t \\t Table of Contents UNITED STATES SECURIT...</td>\n",
       "    </tr>\n",
       "    <tr>\n",
       "      <th>235</th>\n",
       "      <td>1236</td>\n",
       "      <td>ETN</td>\n",
       "      <td>1551182</td>\n",
       "      <td>2014-02-26</td>\n",
       "      <td>https://www.sec.gov/Archives/edgar/data/155118...</td>\n",
       "      <td>0</td>\n",
       "      <td>\\t \\t UNITED STATES SECURITIES AND EXCHANGE C...</td>\n",
       "    </tr>\n",
       "    <tr>\n",
       "      <th>236</th>\n",
       "      <td>1237</td>\n",
       "      <td>WM</td>\n",
       "      <td>823768</td>\n",
       "      <td>2006-02-21</td>\n",
       "      <td>https://www.sec.gov/Archives/edgar/data/823768...</td>\n",
       "      <td>1</td>\n",
       "      <td>\\t \\t Table of Contents UNITED STATES SECURIT...</td>\n",
       "    </tr>\n",
       "    <tr>\n",
       "      <th>237</th>\n",
       "      <td>1238</td>\n",
       "      <td>PFE</td>\n",
       "      <td>78003</td>\n",
       "      <td>2004-03-10</td>\n",
       "      <td>https://www.sec.gov/Archives/edgar/data/78003/...</td>\n",
       "      <td>0</td>\n",
       "      <td>Table of Contents SECURITIES AND EXCHANGE COM...</td>\n",
       "    </tr>\n",
       "    <tr>\n",
       "      <th>238</th>\n",
       "      <td>1239</td>\n",
       "      <td>L</td>\n",
       "      <td>60086</td>\n",
       "      <td>2013-02-22</td>\n",
       "      <td>https://www.sec.gov/Archives/edgar/data/60086/...</td>\n",
       "      <td>1</td>\n",
       "      <td>Table of Contents SECURITIES AND EXCHANGE COM...</td>\n",
       "    </tr>\n",
       "  </tbody>\n",
       "</table>\n",
       "</div>"
      ],
      "text/plain": [
       "     Unnamed: 0 ticker      cik filing_date  \\\n",
       "234        1235   QCOM   804328  2012-11-07   \n",
       "235        1236    ETN  1551182  2014-02-26   \n",
       "236        1237     WM   823768  2006-02-21   \n",
       "237        1238    PFE    78003  2004-03-10   \n",
       "238        1239      L    60086  2013-02-22   \n",
       "\n",
       "                                             X10k_link  long_term_outlook  \\\n",
       "234  https://www.sec.gov/Archives/edgar/data/804328...                  1   \n",
       "235  https://www.sec.gov/Archives/edgar/data/155118...                  0   \n",
       "236  https://www.sec.gov/Archives/edgar/data/823768...                  1   \n",
       "237  https://www.sec.gov/Archives/edgar/data/78003/...                  0   \n",
       "238  https://www.sec.gov/Archives/edgar/data/60086/...                  1   \n",
       "\n",
       "                                             tenk_data  \n",
       "234   \\t \\t Table of Contents UNITED STATES SECURIT...  \n",
       "235   \\t \\t UNITED STATES SECURITIES AND EXCHANGE C...  \n",
       "236   \\t \\t Table of Contents UNITED STATES SECURIT...  \n",
       "237   Table of Contents SECURITIES AND EXCHANGE COM...  \n",
       "238   Table of Contents SECURITIES AND EXCHANGE COM...  "
      ]
     },
     "execution_count": 6,
     "metadata": {},
     "output_type": "execute_result"
    }
   ],
   "source": [
    "second.tail()"
   ]
  },
  {
   "cell_type": "code",
   "execution_count": 7,
   "metadata": {},
   "outputs": [
    {
     "data": {
      "text/html": [
       "<div>\n",
       "<style scoped>\n",
       "    .dataframe tbody tr th:only-of-type {\n",
       "        vertical-align: middle;\n",
       "    }\n",
       "\n",
       "    .dataframe tbody tr th {\n",
       "        vertical-align: top;\n",
       "    }\n",
       "\n",
       "    .dataframe thead th {\n",
       "        text-align: right;\n",
       "    }\n",
       "</style>\n",
       "<table border=\"1\" class=\"dataframe\">\n",
       "  <thead>\n",
       "    <tr style=\"text-align: right;\">\n",
       "      <th></th>\n",
       "      <th>Unnamed: 0</th>\n",
       "      <th>ticker</th>\n",
       "      <th>cik</th>\n",
       "      <th>filing_date</th>\n",
       "      <th>X10k_link</th>\n",
       "      <th>long_term_outlook</th>\n",
       "      <th>tenk_data</th>\n",
       "    </tr>\n",
       "  </thead>\n",
       "  <tbody>\n",
       "    <tr>\n",
       "      <th>0</th>\n",
       "      <td>1241</td>\n",
       "      <td>MTB</td>\n",
       "      <td>36270</td>\n",
       "      <td>2007-02-23</td>\n",
       "      <td>https://www.sec.gov/Archives/edgar/data/36270/...</td>\n",
       "      <td>0</td>\n",
       "      <td>UNITED STATES SECURITIES AND EXCHANGE COMMISS...</td>\n",
       "    </tr>\n",
       "    <tr>\n",
       "      <th>1</th>\n",
       "      <td>1242</td>\n",
       "      <td>NE</td>\n",
       "      <td>1458891</td>\n",
       "      <td>2015-02-27</td>\n",
       "      <td>https://www.sec.gov/Archives/edgar/data/145889...</td>\n",
       "      <td>0</td>\n",
       "      <td>Table of Contents UNITED STATES SECURITIES AN...</td>\n",
       "    </tr>\n",
       "    <tr>\n",
       "      <th>2</th>\n",
       "      <td>1243</td>\n",
       "      <td>MHK</td>\n",
       "      <td>851968</td>\n",
       "      <td>2016-02-29</td>\n",
       "      <td>https://www.sec.gov/Archives/edgar/data/851968...</td>\n",
       "      <td>1</td>\n",
       "      <td>Table of Contents UNITED STATES SECURITIES AN...</td>\n",
       "    </tr>\n",
       "    <tr>\n",
       "      <th>3</th>\n",
       "      <td>1244</td>\n",
       "      <td>PEP</td>\n",
       "      <td>77476</td>\n",
       "      <td>2001-03-15</td>\n",
       "      <td>https://www.sec.gov/Archives/edgar/data/77476/...</td>\n",
       "      <td>0</td>\n",
       "      <td>\\t \\t UNITED STATES SECURITIES AND EXCHANGE C...</td>\n",
       "    </tr>\n",
       "    <tr>\n",
       "      <th>4</th>\n",
       "      <td>1245</td>\n",
       "      <td>IBM</td>\n",
       "      <td>51143</td>\n",
       "      <td>1995-03-28</td>\n",
       "      <td>https://www.sec.gov/Archives/edgar/data/51143/...</td>\n",
       "      <td>1</td>\n",
       "      <td>No. 1-1183 SECURITIES AND EXCHANGE COMMISSION...</td>\n",
       "    </tr>\n",
       "  </tbody>\n",
       "</table>\n",
       "</div>"
      ],
      "text/plain": [
       "   Unnamed: 0 ticker      cik filing_date  \\\n",
       "0        1241    MTB    36270  2007-02-23   \n",
       "1        1242     NE  1458891  2015-02-27   \n",
       "2        1243    MHK   851968  2016-02-29   \n",
       "3        1244    PEP    77476  2001-03-15   \n",
       "4        1245    IBM    51143  1995-03-28   \n",
       "\n",
       "                                           X10k_link  long_term_outlook  \\\n",
       "0  https://www.sec.gov/Archives/edgar/data/36270/...                  0   \n",
       "1  https://www.sec.gov/Archives/edgar/data/145889...                  0   \n",
       "2  https://www.sec.gov/Archives/edgar/data/851968...                  1   \n",
       "3  https://www.sec.gov/Archives/edgar/data/77476/...                  0   \n",
       "4  https://www.sec.gov/Archives/edgar/data/51143/...                  1   \n",
       "\n",
       "                                           tenk_data  \n",
       "0   UNITED STATES SECURITIES AND EXCHANGE COMMISS...  \n",
       "1   Table of Contents UNITED STATES SECURITIES AN...  \n",
       "2   Table of Contents UNITED STATES SECURITIES AN...  \n",
       "3   \\t \\t UNITED STATES SECURITIES AND EXCHANGE C...  \n",
       "4   No. 1-1183 SECURITIES AND EXCHANGE COMMISSION...  "
      ]
     },
     "execution_count": 7,
     "metadata": {},
     "output_type": "execute_result"
    }
   ],
   "source": [
    "third.head()"
   ]
  },
  {
   "cell_type": "code",
   "execution_count": 8,
   "metadata": {},
   "outputs": [],
   "source": [
    "df = pd.concat([first,second,third])"
   ]
  },
  {
   "cell_type": "code",
   "execution_count": 9,
   "metadata": {},
   "outputs": [
    {
     "data": {
      "text/plain": [
       "(1328, 7)"
      ]
     },
     "execution_count": 9,
     "metadata": {},
     "output_type": "execute_result"
    }
   ],
   "source": [
    "df.shape"
   ]
  },
  {
   "cell_type": "markdown",
   "metadata": {},
   "source": [
    "## Data Preprocessing"
   ]
  },
  {
   "cell_type": "markdown",
   "metadata": {},
   "source": [
    "Drop the columns ticker and Unnamed: 0. \n",
    "\n",
    "Ticker and cik are both indicative of the company name, so we drop ticker."
   ]
  },
  {
   "cell_type": "code",
   "execution_count": 10,
   "metadata": {},
   "outputs": [],
   "source": [
    "df = df.drop(columns = ['ticker', 'Unnamed: 0'])"
   ]
  },
  {
   "cell_type": "code",
   "execution_count": 11,
   "metadata": {},
   "outputs": [
    {
     "data": {
      "text/html": [
       "<div>\n",
       "<style scoped>\n",
       "    .dataframe tbody tr th:only-of-type {\n",
       "        vertical-align: middle;\n",
       "    }\n",
       "\n",
       "    .dataframe tbody tr th {\n",
       "        vertical-align: top;\n",
       "    }\n",
       "\n",
       "    .dataframe thead th {\n",
       "        text-align: right;\n",
       "    }\n",
       "</style>\n",
       "<table border=\"1\" class=\"dataframe\">\n",
       "  <thead>\n",
       "    <tr style=\"text-align: right;\">\n",
       "      <th></th>\n",
       "      <th>cik</th>\n",
       "      <th>filing_date</th>\n",
       "      <th>X10k_link</th>\n",
       "      <th>long_term_outlook</th>\n",
       "      <th>tenk_data</th>\n",
       "    </tr>\n",
       "  </thead>\n",
       "  <tbody>\n",
       "    <tr>\n",
       "      <th>0</th>\n",
       "      <td>1031296</td>\n",
       "      <td>2012-02-28</td>\n",
       "      <td>https://www.sec.gov/Archives/edgar/data/103129...</td>\n",
       "      <td>0</td>\n",
       "      <td>\\t \\t UNITED STATES SECURITIES AND EXCHANGE C...</td>\n",
       "    </tr>\n",
       "    <tr>\n",
       "      <th>1</th>\n",
       "      <td>21665</td>\n",
       "      <td>2015-02-19</td>\n",
       "      <td>https://www.sec.gov/Archives/edgar/data/21665/...</td>\n",
       "      <td>0</td>\n",
       "      <td>\\t \\t UNITED STATES SECURITIES AND EXCHANGE C...</td>\n",
       "    </tr>\n",
       "    <tr>\n",
       "      <th>2</th>\n",
       "      <td>1137774</td>\n",
       "      <td>2016-02-19</td>\n",
       "      <td>https://www.sec.gov/Archives/edgar/data/113777...</td>\n",
       "      <td>1</td>\n",
       "      <td>\\t \\t Table of Contents UNITED STATES SECURIT...</td>\n",
       "    </tr>\n",
       "    <tr>\n",
       "      <th>3</th>\n",
       "      <td>1065088</td>\n",
       "      <td>2001-03-28</td>\n",
       "      <td>https://www.sec.gov/Archives/edgar/data/106508...</td>\n",
       "      <td>1</td>\n",
       "      <td>1 - -----------------------------------------...</td>\n",
       "    </tr>\n",
       "    <tr>\n",
       "      <th>4</th>\n",
       "      <td>941548</td>\n",
       "      <td>2005-02-25</td>\n",
       "      <td>https://www.sec.gov/Archives/edgar/data/941548...</td>\n",
       "      <td>1</td>\n",
       "      <td>Table of Contents SECURITIES AND EXCHANGE COM...</td>\n",
       "    </tr>\n",
       "  </tbody>\n",
       "</table>\n",
       "</div>"
      ],
      "text/plain": [
       "       cik filing_date                                          X10k_link  \\\n",
       "0  1031296  2012-02-28  https://www.sec.gov/Archives/edgar/data/103129...   \n",
       "1    21665  2015-02-19  https://www.sec.gov/Archives/edgar/data/21665/...   \n",
       "2  1137774  2016-02-19  https://www.sec.gov/Archives/edgar/data/113777...   \n",
       "3  1065088  2001-03-28  https://www.sec.gov/Archives/edgar/data/106508...   \n",
       "4   941548  2005-02-25  https://www.sec.gov/Archives/edgar/data/941548...   \n",
       "\n",
       "   long_term_outlook                                          tenk_data  \n",
       "0                  0   \\t \\t UNITED STATES SECURITIES AND EXCHANGE C...  \n",
       "1                  0   \\t \\t UNITED STATES SECURITIES AND EXCHANGE C...  \n",
       "2                  1   \\t \\t Table of Contents UNITED STATES SECURIT...  \n",
       "3                  1   1 - -----------------------------------------...  \n",
       "4                  1   Table of Contents SECURITIES AND EXCHANGE COM...  "
      ]
     },
     "execution_count": 11,
     "metadata": {},
     "output_type": "execute_result"
    }
   ],
   "source": [
    "df.head()"
   ]
  },
  {
   "cell_type": "code",
   "execution_count": 12,
   "metadata": {},
   "outputs": [],
   "source": [
    "def remove_accented_chars(text):\n",
    "    text = unicodedata.normalize('NFKD', text).encode('ascii', 'ignore').decode('utf-8', 'ignore')\n",
    "    return text\n",
    "\n",
    "def remove_punctuation(text):\n",
    "    for c in string.punctuation:\n",
    "        text = text.replace(c,\"\")\n",
    "    return text\n",
    "  \n",
    "def remove_digits(text):\n",
    "    return re.sub('[\\d%/$]', '', text)\n",
    "  \n",
    "def to_upper_case(text):\n",
    "    text = text.upper()\n",
    "    return text\n",
    "  \n",
    "def remove_extra_hyphens(text):\n",
    "    text = re.sub('-+', ' ', text)\n",
    "    return text"
   ]
  },
  {
   "cell_type": "code",
   "execution_count": 13,
   "metadata": {},
   "outputs": [],
   "source": [
    "def clean_text(text):\n",
    "    text = remove_accented_chars(text).replace('\\\\n', '').replace('\\t', '')\n",
    "    text = remove_digits(text)\n",
    "    text =  remove_extra_hyphens(text)\n",
    "    text = remove_punctuation(text)\n",
    "    text = to_upper_case(text)\n",
    "    #text = text.replace('\\\\n', '').replace('\\\\t', '')\n",
    "    return text"
   ]
  },
  {
   "cell_type": "code",
   "execution_count": 14,
   "metadata": {},
   "outputs": [],
   "source": [
    "cleaned_data_list = []\n",
    "for i in df['tenk_data']:\n",
    "    cleaned_data_list.append(clean_text(i))"
   ]
  },
  {
   "cell_type": "code",
   "execution_count": 15,
   "metadata": {},
   "outputs": [],
   "source": [
    "df['cleaned_data'] = cleaned_data_list"
   ]
  },
  {
   "cell_type": "code",
   "execution_count": 16,
   "metadata": {},
   "outputs": [
    {
     "data": {
      "text/html": [
       "<div>\n",
       "<style scoped>\n",
       "    .dataframe tbody tr th:only-of-type {\n",
       "        vertical-align: middle;\n",
       "    }\n",
       "\n",
       "    .dataframe tbody tr th {\n",
       "        vertical-align: top;\n",
       "    }\n",
       "\n",
       "    .dataframe thead th {\n",
       "        text-align: right;\n",
       "    }\n",
       "</style>\n",
       "<table border=\"1\" class=\"dataframe\">\n",
       "  <thead>\n",
       "    <tr style=\"text-align: right;\">\n",
       "      <th></th>\n",
       "      <th>cik</th>\n",
       "      <th>filing_date</th>\n",
       "      <th>X10k_link</th>\n",
       "      <th>long_term_outlook</th>\n",
       "      <th>tenk_data</th>\n",
       "      <th>cleaned_data</th>\n",
       "    </tr>\n",
       "  </thead>\n",
       "  <tbody>\n",
       "    <tr>\n",
       "      <th>0</th>\n",
       "      <td>1031296</td>\n",
       "      <td>2012-02-28</td>\n",
       "      <td>https://www.sec.gov/Archives/edgar/data/103129...</td>\n",
       "      <td>0</td>\n",
       "      <td>\\t \\t UNITED STATES SECURITIES AND EXCHANGE C...</td>\n",
       "      <td>UNITED STATES SECURITIES AND EXCHANGE COMMI...</td>\n",
       "    </tr>\n",
       "    <tr>\n",
       "      <th>1</th>\n",
       "      <td>21665</td>\n",
       "      <td>2015-02-19</td>\n",
       "      <td>https://www.sec.gov/Archives/edgar/data/21665/...</td>\n",
       "      <td>0</td>\n",
       "      <td>\\t \\t UNITED STATES SECURITIES AND EXCHANGE C...</td>\n",
       "      <td>UNITED STATES SECURITIES AND EXCHANGE COMMI...</td>\n",
       "    </tr>\n",
       "    <tr>\n",
       "      <th>2</th>\n",
       "      <td>1137774</td>\n",
       "      <td>2016-02-19</td>\n",
       "      <td>https://www.sec.gov/Archives/edgar/data/113777...</td>\n",
       "      <td>1</td>\n",
       "      <td>\\t \\t Table of Contents UNITED STATES SECURIT...</td>\n",
       "      <td>TABLE OF CONTENTS UNITED STATES SECURITIES ...</td>\n",
       "    </tr>\n",
       "    <tr>\n",
       "      <th>3</th>\n",
       "      <td>1065088</td>\n",
       "      <td>2001-03-28</td>\n",
       "      <td>https://www.sec.gov/Archives/edgar/data/106508...</td>\n",
       "      <td>1</td>\n",
       "      <td>1 - -----------------------------------------...</td>\n",
       "      <td>UNITED STATES SECURITIES AND EXCHANG...</td>\n",
       "    </tr>\n",
       "    <tr>\n",
       "      <th>4</th>\n",
       "      <td>941548</td>\n",
       "      <td>2005-02-25</td>\n",
       "      <td>https://www.sec.gov/Archives/edgar/data/941548...</td>\n",
       "      <td>1</td>\n",
       "      <td>Table of Contents SECURITIES AND EXCHANGE COM...</td>\n",
       "      <td>TABLE OF CONTENTS SECURITIES AND EXCHANGE COM...</td>\n",
       "    </tr>\n",
       "  </tbody>\n",
       "</table>\n",
       "</div>"
      ],
      "text/plain": [
       "       cik filing_date                                          X10k_link  \\\n",
       "0  1031296  2012-02-28  https://www.sec.gov/Archives/edgar/data/103129...   \n",
       "1    21665  2015-02-19  https://www.sec.gov/Archives/edgar/data/21665/...   \n",
       "2  1137774  2016-02-19  https://www.sec.gov/Archives/edgar/data/113777...   \n",
       "3  1065088  2001-03-28  https://www.sec.gov/Archives/edgar/data/106508...   \n",
       "4   941548  2005-02-25  https://www.sec.gov/Archives/edgar/data/941548...   \n",
       "\n",
       "   long_term_outlook                                          tenk_data  \\\n",
       "0                  0   \\t \\t UNITED STATES SECURITIES AND EXCHANGE C...   \n",
       "1                  0   \\t \\t UNITED STATES SECURITIES AND EXCHANGE C...   \n",
       "2                  1   \\t \\t Table of Contents UNITED STATES SECURIT...   \n",
       "3                  1   1 - -----------------------------------------...   \n",
       "4                  1   Table of Contents SECURITIES AND EXCHANGE COM...   \n",
       "\n",
       "                                        cleaned_data  \n",
       "0     UNITED STATES SECURITIES AND EXCHANGE COMMI...  \n",
       "1     UNITED STATES SECURITIES AND EXCHANGE COMMI...  \n",
       "2     TABLE OF CONTENTS UNITED STATES SECURITIES ...  \n",
       "3            UNITED STATES SECURITIES AND EXCHANG...  \n",
       "4   TABLE OF CONTENTS SECURITIES AND EXCHANGE COM...  "
      ]
     },
     "execution_count": 16,
     "metadata": {},
     "output_type": "execute_result"
    }
   ],
   "source": [
    "df.head()"
   ]
  },
  {
   "cell_type": "markdown",
   "metadata": {},
   "source": [
    "## Tokenize"
   ]
  },
  {
   "cell_type": "code",
   "execution_count": 17,
   "metadata": {},
   "outputs": [],
   "source": [
    "token_text = []\n",
    "\n",
    "for i in df['cleaned_data']:\n",
    "    token_text.append(word_tokenize(i))"
   ]
  },
  {
   "cell_type": "code",
   "execution_count": 18,
   "metadata": {},
   "outputs": [],
   "source": [
    "df['token_data'] = token_text"
   ]
  },
  {
   "cell_type": "code",
   "execution_count": 19,
   "metadata": {},
   "outputs": [
    {
     "data": {
      "text/html": [
       "<div>\n",
       "<style scoped>\n",
       "    .dataframe tbody tr th:only-of-type {\n",
       "        vertical-align: middle;\n",
       "    }\n",
       "\n",
       "    .dataframe tbody tr th {\n",
       "        vertical-align: top;\n",
       "    }\n",
       "\n",
       "    .dataframe thead th {\n",
       "        text-align: right;\n",
       "    }\n",
       "</style>\n",
       "<table border=\"1\" class=\"dataframe\">\n",
       "  <thead>\n",
       "    <tr style=\"text-align: right;\">\n",
       "      <th></th>\n",
       "      <th>cik</th>\n",
       "      <th>filing_date</th>\n",
       "      <th>X10k_link</th>\n",
       "      <th>long_term_outlook</th>\n",
       "      <th>tenk_data</th>\n",
       "      <th>cleaned_data</th>\n",
       "      <th>token_data</th>\n",
       "    </tr>\n",
       "  </thead>\n",
       "  <tbody>\n",
       "    <tr>\n",
       "      <th>0</th>\n",
       "      <td>1031296</td>\n",
       "      <td>2012-02-28</td>\n",
       "      <td>https://www.sec.gov/Archives/edgar/data/103129...</td>\n",
       "      <td>0</td>\n",
       "      <td>\\t \\t UNITED STATES SECURITIES AND EXCHANGE C...</td>\n",
       "      <td>UNITED STATES SECURITIES AND EXCHANGE COMMI...</td>\n",
       "      <td>[UNITED, STATES, SECURITIES, AND, EXCHANGE, CO...</td>\n",
       "    </tr>\n",
       "    <tr>\n",
       "      <th>1</th>\n",
       "      <td>21665</td>\n",
       "      <td>2015-02-19</td>\n",
       "      <td>https://www.sec.gov/Archives/edgar/data/21665/...</td>\n",
       "      <td>0</td>\n",
       "      <td>\\t \\t UNITED STATES SECURITIES AND EXCHANGE C...</td>\n",
       "      <td>UNITED STATES SECURITIES AND EXCHANGE COMMI...</td>\n",
       "      <td>[UNITED, STATES, SECURITIES, AND, EXCHANGE, CO...</td>\n",
       "    </tr>\n",
       "    <tr>\n",
       "      <th>2</th>\n",
       "      <td>1137774</td>\n",
       "      <td>2016-02-19</td>\n",
       "      <td>https://www.sec.gov/Archives/edgar/data/113777...</td>\n",
       "      <td>1</td>\n",
       "      <td>\\t \\t Table of Contents UNITED STATES SECURIT...</td>\n",
       "      <td>TABLE OF CONTENTS UNITED STATES SECURITIES ...</td>\n",
       "      <td>[TABLE, OF, CONTENTS, UNITED, STATES, SECURITI...</td>\n",
       "    </tr>\n",
       "    <tr>\n",
       "      <th>3</th>\n",
       "      <td>1065088</td>\n",
       "      <td>2001-03-28</td>\n",
       "      <td>https://www.sec.gov/Archives/edgar/data/106508...</td>\n",
       "      <td>1</td>\n",
       "      <td>1 - -----------------------------------------...</td>\n",
       "      <td>UNITED STATES SECURITIES AND EXCHANG...</td>\n",
       "      <td>[UNITED, STATES, SECURITIES, AND, EXCHANGE, CO...</td>\n",
       "    </tr>\n",
       "    <tr>\n",
       "      <th>4</th>\n",
       "      <td>941548</td>\n",
       "      <td>2005-02-25</td>\n",
       "      <td>https://www.sec.gov/Archives/edgar/data/941548...</td>\n",
       "      <td>1</td>\n",
       "      <td>Table of Contents SECURITIES AND EXCHANGE COM...</td>\n",
       "      <td>TABLE OF CONTENTS SECURITIES AND EXCHANGE COM...</td>\n",
       "      <td>[TABLE, OF, CONTENTS, SECURITIES, AND, EXCHANG...</td>\n",
       "    </tr>\n",
       "  </tbody>\n",
       "</table>\n",
       "</div>"
      ],
      "text/plain": [
       "       cik filing_date                                          X10k_link  \\\n",
       "0  1031296  2012-02-28  https://www.sec.gov/Archives/edgar/data/103129...   \n",
       "1    21665  2015-02-19  https://www.sec.gov/Archives/edgar/data/21665/...   \n",
       "2  1137774  2016-02-19  https://www.sec.gov/Archives/edgar/data/113777...   \n",
       "3  1065088  2001-03-28  https://www.sec.gov/Archives/edgar/data/106508...   \n",
       "4   941548  2005-02-25  https://www.sec.gov/Archives/edgar/data/941548...   \n",
       "\n",
       "   long_term_outlook                                          tenk_data  \\\n",
       "0                  0   \\t \\t UNITED STATES SECURITIES AND EXCHANGE C...   \n",
       "1                  0   \\t \\t UNITED STATES SECURITIES AND EXCHANGE C...   \n",
       "2                  1   \\t \\t Table of Contents UNITED STATES SECURIT...   \n",
       "3                  1   1 - -----------------------------------------...   \n",
       "4                  1   Table of Contents SECURITIES AND EXCHANGE COM...   \n",
       "\n",
       "                                        cleaned_data  \\\n",
       "0     UNITED STATES SECURITIES AND EXCHANGE COMMI...   \n",
       "1     UNITED STATES SECURITIES AND EXCHANGE COMMI...   \n",
       "2     TABLE OF CONTENTS UNITED STATES SECURITIES ...   \n",
       "3            UNITED STATES SECURITIES AND EXCHANG...   \n",
       "4   TABLE OF CONTENTS SECURITIES AND EXCHANGE COM...   \n",
       "\n",
       "                                          token_data  \n",
       "0  [UNITED, STATES, SECURITIES, AND, EXCHANGE, CO...  \n",
       "1  [UNITED, STATES, SECURITIES, AND, EXCHANGE, CO...  \n",
       "2  [TABLE, OF, CONTENTS, UNITED, STATES, SECURITI...  \n",
       "3  [UNITED, STATES, SECURITIES, AND, EXCHANGE, CO...  \n",
       "4  [TABLE, OF, CONTENTS, SECURITIES, AND, EXCHANG...  "
      ]
     },
     "execution_count": 19,
     "metadata": {},
     "output_type": "execute_result"
    }
   ],
   "source": [
    "df.head()"
   ]
  },
  {
   "cell_type": "code",
   "execution_count": 20,
   "metadata": {},
   "outputs": [],
   "source": [
    "df['word_count_token'] = df['token_data'].apply(lambda x: len(x))"
   ]
  },
  {
   "cell_type": "code",
   "execution_count": 21,
   "metadata": {},
   "outputs": [
    {
     "data": {
      "text/html": [
       "<div>\n",
       "<style scoped>\n",
       "    .dataframe tbody tr th:only-of-type {\n",
       "        vertical-align: middle;\n",
       "    }\n",
       "\n",
       "    .dataframe tbody tr th {\n",
       "        vertical-align: top;\n",
       "    }\n",
       "\n",
       "    .dataframe thead th {\n",
       "        text-align: right;\n",
       "    }\n",
       "</style>\n",
       "<table border=\"1\" class=\"dataframe\">\n",
       "  <thead>\n",
       "    <tr style=\"text-align: right;\">\n",
       "      <th></th>\n",
       "      <th>cik</th>\n",
       "      <th>filing_date</th>\n",
       "      <th>X10k_link</th>\n",
       "      <th>long_term_outlook</th>\n",
       "      <th>tenk_data</th>\n",
       "      <th>cleaned_data</th>\n",
       "      <th>token_data</th>\n",
       "      <th>word_count_token</th>\n",
       "    </tr>\n",
       "  </thead>\n",
       "  <tbody>\n",
       "    <tr>\n",
       "      <th>0</th>\n",
       "      <td>1031296</td>\n",
       "      <td>2012-02-28</td>\n",
       "      <td>https://www.sec.gov/Archives/edgar/data/103129...</td>\n",
       "      <td>0</td>\n",
       "      <td>\\t \\t UNITED STATES SECURITIES AND EXCHANGE C...</td>\n",
       "      <td>UNITED STATES SECURITIES AND EXCHANGE COMMI...</td>\n",
       "      <td>[UNITED, STATES, SECURITIES, AND, EXCHANGE, CO...</td>\n",
       "      <td>161853</td>\n",
       "    </tr>\n",
       "    <tr>\n",
       "      <th>1</th>\n",
       "      <td>21665</td>\n",
       "      <td>2015-02-19</td>\n",
       "      <td>https://www.sec.gov/Archives/edgar/data/21665/...</td>\n",
       "      <td>0</td>\n",
       "      <td>\\t \\t UNITED STATES SECURITIES AND EXCHANGE C...</td>\n",
       "      <td>UNITED STATES SECURITIES AND EXCHANGE COMMI...</td>\n",
       "      <td>[UNITED, STATES, SECURITIES, AND, EXCHANGE, CO...</td>\n",
       "      <td>44888</td>\n",
       "    </tr>\n",
       "    <tr>\n",
       "      <th>2</th>\n",
       "      <td>1137774</td>\n",
       "      <td>2016-02-19</td>\n",
       "      <td>https://www.sec.gov/Archives/edgar/data/113777...</td>\n",
       "      <td>1</td>\n",
       "      <td>\\t \\t Table of Contents UNITED STATES SECURIT...</td>\n",
       "      <td>TABLE OF CONTENTS UNITED STATES SECURITIES ...</td>\n",
       "      <td>[TABLE, OF, CONTENTS, UNITED, STATES, SECURITI...</td>\n",
       "      <td>187232</td>\n",
       "    </tr>\n",
       "    <tr>\n",
       "      <th>3</th>\n",
       "      <td>1065088</td>\n",
       "      <td>2001-03-28</td>\n",
       "      <td>https://www.sec.gov/Archives/edgar/data/106508...</td>\n",
       "      <td>1</td>\n",
       "      <td>1 - -----------------------------------------...</td>\n",
       "      <td>UNITED STATES SECURITIES AND EXCHANG...</td>\n",
       "      <td>[UNITED, STATES, SECURITIES, AND, EXCHANGE, CO...</td>\n",
       "      <td>43033</td>\n",
       "    </tr>\n",
       "    <tr>\n",
       "      <th>4</th>\n",
       "      <td>941548</td>\n",
       "      <td>2005-02-25</td>\n",
       "      <td>https://www.sec.gov/Archives/edgar/data/941548...</td>\n",
       "      <td>1</td>\n",
       "      <td>Table of Contents SECURITIES AND EXCHANGE COM...</td>\n",
       "      <td>TABLE OF CONTENTS SECURITIES AND EXCHANGE COM...</td>\n",
       "      <td>[TABLE, OF, CONTENTS, SECURITIES, AND, EXCHANG...</td>\n",
       "      <td>12869</td>\n",
       "    </tr>\n",
       "  </tbody>\n",
       "</table>\n",
       "</div>"
      ],
      "text/plain": [
       "       cik filing_date                                          X10k_link  \\\n",
       "0  1031296  2012-02-28  https://www.sec.gov/Archives/edgar/data/103129...   \n",
       "1    21665  2015-02-19  https://www.sec.gov/Archives/edgar/data/21665/...   \n",
       "2  1137774  2016-02-19  https://www.sec.gov/Archives/edgar/data/113777...   \n",
       "3  1065088  2001-03-28  https://www.sec.gov/Archives/edgar/data/106508...   \n",
       "4   941548  2005-02-25  https://www.sec.gov/Archives/edgar/data/941548...   \n",
       "\n",
       "   long_term_outlook                                          tenk_data  \\\n",
       "0                  0   \\t \\t UNITED STATES SECURITIES AND EXCHANGE C...   \n",
       "1                  0   \\t \\t UNITED STATES SECURITIES AND EXCHANGE C...   \n",
       "2                  1   \\t \\t Table of Contents UNITED STATES SECURIT...   \n",
       "3                  1   1 - -----------------------------------------...   \n",
       "4                  1   Table of Contents SECURITIES AND EXCHANGE COM...   \n",
       "\n",
       "                                        cleaned_data  \\\n",
       "0     UNITED STATES SECURITIES AND EXCHANGE COMMI...   \n",
       "1     UNITED STATES SECURITIES AND EXCHANGE COMMI...   \n",
       "2     TABLE OF CONTENTS UNITED STATES SECURITIES ...   \n",
       "3            UNITED STATES SECURITIES AND EXCHANG...   \n",
       "4   TABLE OF CONTENTS SECURITIES AND EXCHANGE COM...   \n",
       "\n",
       "                                          token_data  word_count_token  \n",
       "0  [UNITED, STATES, SECURITIES, AND, EXCHANGE, CO...            161853  \n",
       "1  [UNITED, STATES, SECURITIES, AND, EXCHANGE, CO...             44888  \n",
       "2  [TABLE, OF, CONTENTS, UNITED, STATES, SECURITI...            187232  \n",
       "3  [UNITED, STATES, SECURITIES, AND, EXCHANGE, CO...             43033  \n",
       "4  [TABLE, OF, CONTENTS, SECURITIES, AND, EXCHANG...             12869  "
      ]
     },
     "execution_count": 21,
     "metadata": {},
     "output_type": "execute_result"
    }
   ],
   "source": [
    "df.head()"
   ]
  },
  {
   "cell_type": "markdown",
   "metadata": {},
   "source": [
    "## Remove stopwords"
   ]
  },
  {
   "cell_type": "code",
   "execution_count": 22,
   "metadata": {},
   "outputs": [
    {
     "name": "stderr",
     "output_type": "stream",
     "text": [
      "[nltk_data] Downloading package stopwords to\n",
      "[nltk_data]     C:\\Users\\admin\\AppData\\Roaming\\nltk_data...\n",
      "[nltk_data]   Package stopwords is already up-to-date!\n",
      "[nltk_data] Downloading package punkt to\n",
      "[nltk_data]     C:\\Users\\admin\\AppData\\Roaming\\nltk_data...\n",
      "[nltk_data]   Package punkt is already up-to-date!\n"
     ]
    }
   ],
   "source": [
    "nltk.download('stopwords')\n",
    "nltk.download('punkt')\n",
    "stopset = set(w.upper() for w in stopwords.words('english'))"
   ]
  },
  {
   "cell_type": "code",
   "execution_count": 23,
   "metadata": {},
   "outputs": [],
   "source": [
    "stop_words_removed = []\n",
    "for tokenized_words in df['token_data']:\n",
    "    \n",
    "    stop_words_removed.append([word for word in tokenized_words if word not in stopset])"
   ]
  },
  {
   "cell_type": "code",
   "execution_count": 24,
   "metadata": {},
   "outputs": [],
   "source": [
    "df['sw_rem_data'] = stop_words_removed"
   ]
  },
  {
   "cell_type": "code",
   "execution_count": 25,
   "metadata": {},
   "outputs": [
    {
     "data": {
      "text/html": [
       "<div>\n",
       "<style scoped>\n",
       "    .dataframe tbody tr th:only-of-type {\n",
       "        vertical-align: middle;\n",
       "    }\n",
       "\n",
       "    .dataframe tbody tr th {\n",
       "        vertical-align: top;\n",
       "    }\n",
       "\n",
       "    .dataframe thead th {\n",
       "        text-align: right;\n",
       "    }\n",
       "</style>\n",
       "<table border=\"1\" class=\"dataframe\">\n",
       "  <thead>\n",
       "    <tr style=\"text-align: right;\">\n",
       "      <th></th>\n",
       "      <th>cik</th>\n",
       "      <th>filing_date</th>\n",
       "      <th>X10k_link</th>\n",
       "      <th>long_term_outlook</th>\n",
       "      <th>tenk_data</th>\n",
       "      <th>cleaned_data</th>\n",
       "      <th>token_data</th>\n",
       "      <th>word_count_token</th>\n",
       "      <th>sw_rem_data</th>\n",
       "    </tr>\n",
       "  </thead>\n",
       "  <tbody>\n",
       "    <tr>\n",
       "      <th>0</th>\n",
       "      <td>1031296</td>\n",
       "      <td>2012-02-28</td>\n",
       "      <td>https://www.sec.gov/Archives/edgar/data/103129...</td>\n",
       "      <td>0</td>\n",
       "      <td>\\t \\t UNITED STATES SECURITIES AND EXCHANGE C...</td>\n",
       "      <td>UNITED STATES SECURITIES AND EXCHANGE COMMI...</td>\n",
       "      <td>[UNITED, STATES, SECURITIES, AND, EXCHANGE, CO...</td>\n",
       "      <td>161853</td>\n",
       "      <td>[UNITED, STATES, SECURITIES, EXCHANGE, COMMISS...</td>\n",
       "    </tr>\n",
       "    <tr>\n",
       "      <th>1</th>\n",
       "      <td>21665</td>\n",
       "      <td>2015-02-19</td>\n",
       "      <td>https://www.sec.gov/Archives/edgar/data/21665/...</td>\n",
       "      <td>0</td>\n",
       "      <td>\\t \\t UNITED STATES SECURITIES AND EXCHANGE C...</td>\n",
       "      <td>UNITED STATES SECURITIES AND EXCHANGE COMMI...</td>\n",
       "      <td>[UNITED, STATES, SECURITIES, AND, EXCHANGE, CO...</td>\n",
       "      <td>44888</td>\n",
       "      <td>[UNITED, STATES, SECURITIES, EXCHANGE, COMMISS...</td>\n",
       "    </tr>\n",
       "    <tr>\n",
       "      <th>2</th>\n",
       "      <td>1137774</td>\n",
       "      <td>2016-02-19</td>\n",
       "      <td>https://www.sec.gov/Archives/edgar/data/113777...</td>\n",
       "      <td>1</td>\n",
       "      <td>\\t \\t Table of Contents UNITED STATES SECURIT...</td>\n",
       "      <td>TABLE OF CONTENTS UNITED STATES SECURITIES ...</td>\n",
       "      <td>[TABLE, OF, CONTENTS, UNITED, STATES, SECURITI...</td>\n",
       "      <td>187232</td>\n",
       "      <td>[TABLE, CONTENTS, UNITED, STATES, SECURITIES, ...</td>\n",
       "    </tr>\n",
       "    <tr>\n",
       "      <th>3</th>\n",
       "      <td>1065088</td>\n",
       "      <td>2001-03-28</td>\n",
       "      <td>https://www.sec.gov/Archives/edgar/data/106508...</td>\n",
       "      <td>1</td>\n",
       "      <td>1 - -----------------------------------------...</td>\n",
       "      <td>UNITED STATES SECURITIES AND EXCHANG...</td>\n",
       "      <td>[UNITED, STATES, SECURITIES, AND, EXCHANGE, CO...</td>\n",
       "      <td>43033</td>\n",
       "      <td>[UNITED, STATES, SECURITIES, EXCHANGE, COMMISS...</td>\n",
       "    </tr>\n",
       "    <tr>\n",
       "      <th>4</th>\n",
       "      <td>941548</td>\n",
       "      <td>2005-02-25</td>\n",
       "      <td>https://www.sec.gov/Archives/edgar/data/941548...</td>\n",
       "      <td>1</td>\n",
       "      <td>Table of Contents SECURITIES AND EXCHANGE COM...</td>\n",
       "      <td>TABLE OF CONTENTS SECURITIES AND EXCHANGE COM...</td>\n",
       "      <td>[TABLE, OF, CONTENTS, SECURITIES, AND, EXCHANG...</td>\n",
       "      <td>12869</td>\n",
       "      <td>[TABLE, CONTENTS, SECURITIES, EXCHANGE, COMMIS...</td>\n",
       "    </tr>\n",
       "  </tbody>\n",
       "</table>\n",
       "</div>"
      ],
      "text/plain": [
       "       cik filing_date                                          X10k_link  \\\n",
       "0  1031296  2012-02-28  https://www.sec.gov/Archives/edgar/data/103129...   \n",
       "1    21665  2015-02-19  https://www.sec.gov/Archives/edgar/data/21665/...   \n",
       "2  1137774  2016-02-19  https://www.sec.gov/Archives/edgar/data/113777...   \n",
       "3  1065088  2001-03-28  https://www.sec.gov/Archives/edgar/data/106508...   \n",
       "4   941548  2005-02-25  https://www.sec.gov/Archives/edgar/data/941548...   \n",
       "\n",
       "   long_term_outlook                                          tenk_data  \\\n",
       "0                  0   \\t \\t UNITED STATES SECURITIES AND EXCHANGE C...   \n",
       "1                  0   \\t \\t UNITED STATES SECURITIES AND EXCHANGE C...   \n",
       "2                  1   \\t \\t Table of Contents UNITED STATES SECURIT...   \n",
       "3                  1   1 - -----------------------------------------...   \n",
       "4                  1   Table of Contents SECURITIES AND EXCHANGE COM...   \n",
       "\n",
       "                                        cleaned_data  \\\n",
       "0     UNITED STATES SECURITIES AND EXCHANGE COMMI...   \n",
       "1     UNITED STATES SECURITIES AND EXCHANGE COMMI...   \n",
       "2     TABLE OF CONTENTS UNITED STATES SECURITIES ...   \n",
       "3            UNITED STATES SECURITIES AND EXCHANG...   \n",
       "4   TABLE OF CONTENTS SECURITIES AND EXCHANGE COM...   \n",
       "\n",
       "                                          token_data  word_count_token  \\\n",
       "0  [UNITED, STATES, SECURITIES, AND, EXCHANGE, CO...            161853   \n",
       "1  [UNITED, STATES, SECURITIES, AND, EXCHANGE, CO...             44888   \n",
       "2  [TABLE, OF, CONTENTS, UNITED, STATES, SECURITI...            187232   \n",
       "3  [UNITED, STATES, SECURITIES, AND, EXCHANGE, CO...             43033   \n",
       "4  [TABLE, OF, CONTENTS, SECURITIES, AND, EXCHANG...             12869   \n",
       "\n",
       "                                         sw_rem_data  \n",
       "0  [UNITED, STATES, SECURITIES, EXCHANGE, COMMISS...  \n",
       "1  [UNITED, STATES, SECURITIES, EXCHANGE, COMMISS...  \n",
       "2  [TABLE, CONTENTS, UNITED, STATES, SECURITIES, ...  \n",
       "3  [UNITED, STATES, SECURITIES, EXCHANGE, COMMISS...  \n",
       "4  [TABLE, CONTENTS, SECURITIES, EXCHANGE, COMMIS...  "
      ]
     },
     "execution_count": 25,
     "metadata": {},
     "output_type": "execute_result"
    }
   ],
   "source": [
    "df.head()"
   ]
  },
  {
   "cell_type": "code",
   "execution_count": 26,
   "metadata": {},
   "outputs": [],
   "source": [
    "df['word_count_sw_rem'] = df['sw_rem_data'].apply(lambda x: len(x))"
   ]
  },
  {
   "cell_type": "code",
   "execution_count": 27,
   "metadata": {},
   "outputs": [
    {
     "data": {
      "text/html": [
       "<div>\n",
       "<style scoped>\n",
       "    .dataframe tbody tr th:only-of-type {\n",
       "        vertical-align: middle;\n",
       "    }\n",
       "\n",
       "    .dataframe tbody tr th {\n",
       "        vertical-align: top;\n",
       "    }\n",
       "\n",
       "    .dataframe thead th {\n",
       "        text-align: right;\n",
       "    }\n",
       "</style>\n",
       "<table border=\"1\" class=\"dataframe\">\n",
       "  <thead>\n",
       "    <tr style=\"text-align: right;\">\n",
       "      <th></th>\n",
       "      <th>cik</th>\n",
       "      <th>filing_date</th>\n",
       "      <th>X10k_link</th>\n",
       "      <th>long_term_outlook</th>\n",
       "      <th>tenk_data</th>\n",
       "      <th>cleaned_data</th>\n",
       "      <th>token_data</th>\n",
       "      <th>word_count_token</th>\n",
       "      <th>sw_rem_data</th>\n",
       "      <th>word_count_sw_rem</th>\n",
       "    </tr>\n",
       "  </thead>\n",
       "  <tbody>\n",
       "    <tr>\n",
       "      <th>215</th>\n",
       "      <td>701985</td>\n",
       "      <td>1994-04-25</td>\n",
       "      <td>https://www.sec.gov/Archives/edgar/data/701985...</td>\n",
       "      <td>1</td>\n",
       "      <td>Table of Contents UNITED STATES SECURITIES AN...</td>\n",
       "      <td>TABLE OF CONTENTS UNITED STATES SECURITIES AN...</td>\n",
       "      <td>[TABLE, OF, CONTENTS, UNITED, STATES, SECURITI...</td>\n",
       "      <td>64450</td>\n",
       "      <td>[TABLE, CONTENTS, UNITED, STATES, SECURITIES, ...</td>\n",
       "      <td>39693</td>\n",
       "    </tr>\n",
       "    <tr>\n",
       "      <th>216</th>\n",
       "      <td>811156</td>\n",
       "      <td>2014-02-06</td>\n",
       "      <td>https://www.sec.gov/Archives/edgar/data/811156...</td>\n",
       "      <td>1</td>\n",
       "      <td>SECURITIES AND EXCHANGE COMMISSION Washington...</td>\n",
       "      <td>SECURITIES AND EXCHANGE COMMISSION WASHINGTON...</td>\n",
       "      <td>[SECURITIES, AND, EXCHANGE, COMMISSION, WASHIN...</td>\n",
       "      <td>4730</td>\n",
       "      <td>[SECURITIES, EXCHANGE, COMMISSION, WASHINGTON,...</td>\n",
       "      <td>3006</td>\n",
       "    </tr>\n",
       "    <tr>\n",
       "      <th>217</th>\n",
       "      <td>740260</td>\n",
       "      <td>2007-02-22</td>\n",
       "      <td>https://www.sec.gov/Archives/edgar/data/740260...</td>\n",
       "      <td>1</td>\n",
       "      <td>Table of Contents UNITED STATES SECURITIES AN...</td>\n",
       "      <td>TABLE OF CONTENTS UNITED STATES SECURITIES AN...</td>\n",
       "      <td>[TABLE, OF, CONTENTS, UNITED, STATES, SECURITI...</td>\n",
       "      <td>61681</td>\n",
       "      <td>[TABLE, CONTENTS, UNITED, STATES, SECURITIES, ...</td>\n",
       "      <td>40948</td>\n",
       "    </tr>\n",
       "  </tbody>\n",
       "</table>\n",
       "</div>"
      ],
      "text/plain": [
       "        cik filing_date                                          X10k_link  \\\n",
       "215  701985  1994-04-25  https://www.sec.gov/Archives/edgar/data/701985...   \n",
       "216  811156  2014-02-06  https://www.sec.gov/Archives/edgar/data/811156...   \n",
       "217  740260  2007-02-22  https://www.sec.gov/Archives/edgar/data/740260...   \n",
       "\n",
       "     long_term_outlook                                          tenk_data  \\\n",
       "215                  1   Table of Contents UNITED STATES SECURITIES AN...   \n",
       "216                  1   SECURITIES AND EXCHANGE COMMISSION Washington...   \n",
       "217                  1   Table of Contents UNITED STATES SECURITIES AN...   \n",
       "\n",
       "                                          cleaned_data  \\\n",
       "215   TABLE OF CONTENTS UNITED STATES SECURITIES AN...   \n",
       "216   SECURITIES AND EXCHANGE COMMISSION WASHINGTON...   \n",
       "217   TABLE OF CONTENTS UNITED STATES SECURITIES AN...   \n",
       "\n",
       "                                            token_data  word_count_token  \\\n",
       "215  [TABLE, OF, CONTENTS, UNITED, STATES, SECURITI...             64450   \n",
       "216  [SECURITIES, AND, EXCHANGE, COMMISSION, WASHIN...              4730   \n",
       "217  [TABLE, OF, CONTENTS, UNITED, STATES, SECURITI...             61681   \n",
       "\n",
       "                                           sw_rem_data  word_count_sw_rem  \n",
       "215  [TABLE, CONTENTS, UNITED, STATES, SECURITIES, ...              39693  \n",
       "216  [SECURITIES, EXCHANGE, COMMISSION, WASHINGTON,...               3006  \n",
       "217  [TABLE, CONTENTS, UNITED, STATES, SECURITIES, ...              40948  "
      ]
     },
     "execution_count": 27,
     "metadata": {},
     "output_type": "execute_result"
    }
   ],
   "source": [
    "df.tail(3)"
   ]
  },
  {
   "cell_type": "markdown",
   "metadata": {},
   "source": [
    "## Lemmatizing"
   ]
  },
  {
   "cell_type": "code",
   "execution_count": 28,
   "metadata": {},
   "outputs": [],
   "source": [
    "from nltk.stem import WordNetLemmatizer \n",
    "  \n",
    "lemmatizer = WordNetLemmatizer()"
   ]
  },
  {
   "cell_type": "code",
   "execution_count": 29,
   "metadata": {},
   "outputs": [],
   "source": [
    "df['lemma_data'] = df[\"sw_rem_data\"].apply(lambda x: [lemmatizer.lemmatize(y,pos = 'v') for y in x])"
   ]
  },
  {
   "cell_type": "code",
   "execution_count": 30,
   "metadata": {
    "scrolled": true
   },
   "outputs": [
    {
     "data": {
      "text/html": [
       "<div>\n",
       "<style scoped>\n",
       "    .dataframe tbody tr th:only-of-type {\n",
       "        vertical-align: middle;\n",
       "    }\n",
       "\n",
       "    .dataframe tbody tr th {\n",
       "        vertical-align: top;\n",
       "    }\n",
       "\n",
       "    .dataframe thead th {\n",
       "        text-align: right;\n",
       "    }\n",
       "</style>\n",
       "<table border=\"1\" class=\"dataframe\">\n",
       "  <thead>\n",
       "    <tr style=\"text-align: right;\">\n",
       "      <th></th>\n",
       "      <th>cik</th>\n",
       "      <th>filing_date</th>\n",
       "      <th>X10k_link</th>\n",
       "      <th>long_term_outlook</th>\n",
       "      <th>tenk_data</th>\n",
       "      <th>cleaned_data</th>\n",
       "      <th>token_data</th>\n",
       "      <th>word_count_token</th>\n",
       "      <th>sw_rem_data</th>\n",
       "      <th>word_count_sw_rem</th>\n",
       "      <th>lemma_data</th>\n",
       "    </tr>\n",
       "  </thead>\n",
       "  <tbody>\n",
       "    <tr>\n",
       "      <th>0</th>\n",
       "      <td>1031296</td>\n",
       "      <td>2012-02-28</td>\n",
       "      <td>https://www.sec.gov/Archives/edgar/data/103129...</td>\n",
       "      <td>0</td>\n",
       "      <td>\\t \\t UNITED STATES SECURITIES AND EXCHANGE C...</td>\n",
       "      <td>UNITED STATES SECURITIES AND EXCHANGE COMMI...</td>\n",
       "      <td>[UNITED, STATES, SECURITIES, AND, EXCHANGE, CO...</td>\n",
       "      <td>161853</td>\n",
       "      <td>[UNITED, STATES, SECURITIES, EXCHANGE, COMMISS...</td>\n",
       "      <td>105534</td>\n",
       "      <td>[UNITED, STATES, SECURITIES, EXCHANGE, COMMISS...</td>\n",
       "    </tr>\n",
       "    <tr>\n",
       "      <th>1</th>\n",
       "      <td>21665</td>\n",
       "      <td>2015-02-19</td>\n",
       "      <td>https://www.sec.gov/Archives/edgar/data/21665/...</td>\n",
       "      <td>0</td>\n",
       "      <td>\\t \\t UNITED STATES SECURITIES AND EXCHANGE C...</td>\n",
       "      <td>UNITED STATES SECURITIES AND EXCHANGE COMMI...</td>\n",
       "      <td>[UNITED, STATES, SECURITIES, AND, EXCHANGE, CO...</td>\n",
       "      <td>44888</td>\n",
       "      <td>[UNITED, STATES, SECURITIES, EXCHANGE, COMMISS...</td>\n",
       "      <td>28200</td>\n",
       "      <td>[UNITED, STATES, SECURITIES, EXCHANGE, COMMISS...</td>\n",
       "    </tr>\n",
       "  </tbody>\n",
       "</table>\n",
       "</div>"
      ],
      "text/plain": [
       "       cik filing_date                                          X10k_link  \\\n",
       "0  1031296  2012-02-28  https://www.sec.gov/Archives/edgar/data/103129...   \n",
       "1    21665  2015-02-19  https://www.sec.gov/Archives/edgar/data/21665/...   \n",
       "\n",
       "   long_term_outlook                                          tenk_data  \\\n",
       "0                  0   \\t \\t UNITED STATES SECURITIES AND EXCHANGE C...   \n",
       "1                  0   \\t \\t UNITED STATES SECURITIES AND EXCHANGE C...   \n",
       "\n",
       "                                        cleaned_data  \\\n",
       "0     UNITED STATES SECURITIES AND EXCHANGE COMMI...   \n",
       "1     UNITED STATES SECURITIES AND EXCHANGE COMMI...   \n",
       "\n",
       "                                          token_data  word_count_token  \\\n",
       "0  [UNITED, STATES, SECURITIES, AND, EXCHANGE, CO...            161853   \n",
       "1  [UNITED, STATES, SECURITIES, AND, EXCHANGE, CO...             44888   \n",
       "\n",
       "                                         sw_rem_data  word_count_sw_rem  \\\n",
       "0  [UNITED, STATES, SECURITIES, EXCHANGE, COMMISS...             105534   \n",
       "1  [UNITED, STATES, SECURITIES, EXCHANGE, COMMISS...              28200   \n",
       "\n",
       "                                          lemma_data  \n",
       "0  [UNITED, STATES, SECURITIES, EXCHANGE, COMMISS...  \n",
       "1  [UNITED, STATES, SECURITIES, EXCHANGE, COMMISS...  "
      ]
     },
     "execution_count": 30,
     "metadata": {},
     "output_type": "execute_result"
    }
   ],
   "source": [
    "df.head(2)"
   ]
  },
  {
   "cell_type": "markdown",
   "metadata": {},
   "source": [
    "### Extracting year from the filing date column"
   ]
  },
  {
   "cell_type": "code",
   "execution_count": 31,
   "metadata": {},
   "outputs": [
    {
     "data": {
      "text/html": [
       "<div>\n",
       "<style scoped>\n",
       "    .dataframe tbody tr th:only-of-type {\n",
       "        vertical-align: middle;\n",
       "    }\n",
       "\n",
       "    .dataframe tbody tr th {\n",
       "        vertical-align: top;\n",
       "    }\n",
       "\n",
       "    .dataframe thead th {\n",
       "        text-align: right;\n",
       "    }\n",
       "</style>\n",
       "<table border=\"1\" class=\"dataframe\">\n",
       "  <thead>\n",
       "    <tr style=\"text-align: right;\">\n",
       "      <th></th>\n",
       "      <th>cik</th>\n",
       "      <th>filing_date</th>\n",
       "      <th>X10k_link</th>\n",
       "      <th>long_term_outlook</th>\n",
       "      <th>tenk_data</th>\n",
       "      <th>cleaned_data</th>\n",
       "      <th>token_data</th>\n",
       "      <th>word_count_token</th>\n",
       "      <th>sw_rem_data</th>\n",
       "      <th>word_count_sw_rem</th>\n",
       "      <th>lemma_data</th>\n",
       "      <th>filing_year</th>\n",
       "    </tr>\n",
       "  </thead>\n",
       "  <tbody>\n",
       "    <tr>\n",
       "      <th>0</th>\n",
       "      <td>1031296</td>\n",
       "      <td>2012-02-28</td>\n",
       "      <td>https://www.sec.gov/Archives/edgar/data/103129...</td>\n",
       "      <td>0</td>\n",
       "      <td>\\t \\t UNITED STATES SECURITIES AND EXCHANGE C...</td>\n",
       "      <td>UNITED STATES SECURITIES AND EXCHANGE COMMI...</td>\n",
       "      <td>[UNITED, STATES, SECURITIES, AND, EXCHANGE, CO...</td>\n",
       "      <td>161853</td>\n",
       "      <td>[UNITED, STATES, SECURITIES, EXCHANGE, COMMISS...</td>\n",
       "      <td>105534</td>\n",
       "      <td>[UNITED, STATES, SECURITIES, EXCHANGE, COMMISS...</td>\n",
       "      <td>2012</td>\n",
       "    </tr>\n",
       "    <tr>\n",
       "      <th>1</th>\n",
       "      <td>21665</td>\n",
       "      <td>2015-02-19</td>\n",
       "      <td>https://www.sec.gov/Archives/edgar/data/21665/...</td>\n",
       "      <td>0</td>\n",
       "      <td>\\t \\t UNITED STATES SECURITIES AND EXCHANGE C...</td>\n",
       "      <td>UNITED STATES SECURITIES AND EXCHANGE COMMI...</td>\n",
       "      <td>[UNITED, STATES, SECURITIES, AND, EXCHANGE, CO...</td>\n",
       "      <td>44888</td>\n",
       "      <td>[UNITED, STATES, SECURITIES, EXCHANGE, COMMISS...</td>\n",
       "      <td>28200</td>\n",
       "      <td>[UNITED, STATES, SECURITIES, EXCHANGE, COMMISS...</td>\n",
       "      <td>2015</td>\n",
       "    </tr>\n",
       "  </tbody>\n",
       "</table>\n",
       "</div>"
      ],
      "text/plain": [
       "       cik filing_date                                          X10k_link  \\\n",
       "0  1031296  2012-02-28  https://www.sec.gov/Archives/edgar/data/103129...   \n",
       "1    21665  2015-02-19  https://www.sec.gov/Archives/edgar/data/21665/...   \n",
       "\n",
       "   long_term_outlook                                          tenk_data  \\\n",
       "0                  0   \\t \\t UNITED STATES SECURITIES AND EXCHANGE C...   \n",
       "1                  0   \\t \\t UNITED STATES SECURITIES AND EXCHANGE C...   \n",
       "\n",
       "                                        cleaned_data  \\\n",
       "0     UNITED STATES SECURITIES AND EXCHANGE COMMI...   \n",
       "1     UNITED STATES SECURITIES AND EXCHANGE COMMI...   \n",
       "\n",
       "                                          token_data  word_count_token  \\\n",
       "0  [UNITED, STATES, SECURITIES, AND, EXCHANGE, CO...            161853   \n",
       "1  [UNITED, STATES, SECURITIES, AND, EXCHANGE, CO...             44888   \n",
       "\n",
       "                                         sw_rem_data  word_count_sw_rem  \\\n",
       "0  [UNITED, STATES, SECURITIES, EXCHANGE, COMMISS...             105534   \n",
       "1  [UNITED, STATES, SECURITIES, EXCHANGE, COMMISS...              28200   \n",
       "\n",
       "                                          lemma_data  filing_year  \n",
       "0  [UNITED, STATES, SECURITIES, EXCHANGE, COMMISS...         2012  \n",
       "1  [UNITED, STATES, SECURITIES, EXCHANGE, COMMISS...         2015  "
      ]
     },
     "execution_count": 31,
     "metadata": {},
     "output_type": "execute_result"
    }
   ],
   "source": [
    "import datetime\n",
    "\n",
    "\n",
    "df['filing_year'] = pd.DatetimeIndex(df['filing_date']).year\n",
    "df.head(2)"
   ]
  },
  {
   "cell_type": "markdown",
   "metadata": {},
   "source": [
    "### Dropping columns"
   ]
  },
  {
   "cell_type": "code",
   "execution_count": 32,
   "metadata": {},
   "outputs": [],
   "source": [
    "data = df.drop(columns = ['X10k_link', 'tenk_data', 'cleaned_data', 'token_data', 'word_count_token', 'filing_date'])"
   ]
  },
  {
   "cell_type": "code",
   "execution_count": 33,
   "metadata": {},
   "outputs": [
    {
     "data": {
      "text/html": [
       "<div>\n",
       "<style scoped>\n",
       "    .dataframe tbody tr th:only-of-type {\n",
       "        vertical-align: middle;\n",
       "    }\n",
       "\n",
       "    .dataframe tbody tr th {\n",
       "        vertical-align: top;\n",
       "    }\n",
       "\n",
       "    .dataframe thead th {\n",
       "        text-align: right;\n",
       "    }\n",
       "</style>\n",
       "<table border=\"1\" class=\"dataframe\">\n",
       "  <thead>\n",
       "    <tr style=\"text-align: right;\">\n",
       "      <th></th>\n",
       "      <th>cik</th>\n",
       "      <th>long_term_outlook</th>\n",
       "      <th>sw_rem_data</th>\n",
       "      <th>word_count_sw_rem</th>\n",
       "      <th>lemma_data</th>\n",
       "      <th>filing_year</th>\n",
       "    </tr>\n",
       "  </thead>\n",
       "  <tbody>\n",
       "    <tr>\n",
       "      <th>0</th>\n",
       "      <td>1031296</td>\n",
       "      <td>0</td>\n",
       "      <td>[UNITED, STATES, SECURITIES, EXCHANGE, COMMISS...</td>\n",
       "      <td>105534</td>\n",
       "      <td>[UNITED, STATES, SECURITIES, EXCHANGE, COMMISS...</td>\n",
       "      <td>2012</td>\n",
       "    </tr>\n",
       "    <tr>\n",
       "      <th>1</th>\n",
       "      <td>21665</td>\n",
       "      <td>0</td>\n",
       "      <td>[UNITED, STATES, SECURITIES, EXCHANGE, COMMISS...</td>\n",
       "      <td>28200</td>\n",
       "      <td>[UNITED, STATES, SECURITIES, EXCHANGE, COMMISS...</td>\n",
       "      <td>2015</td>\n",
       "    </tr>\n",
       "    <tr>\n",
       "      <th>2</th>\n",
       "      <td>1137774</td>\n",
       "      <td>1</td>\n",
       "      <td>[TABLE, CONTENTS, UNITED, STATES, SECURITIES, ...</td>\n",
       "      <td>119832</td>\n",
       "      <td>[TABLE, CONTENTS, UNITED, STATES, SECURITIES, ...</td>\n",
       "      <td>2016</td>\n",
       "    </tr>\n",
       "  </tbody>\n",
       "</table>\n",
       "</div>"
      ],
      "text/plain": [
       "       cik  long_term_outlook  \\\n",
       "0  1031296                  0   \n",
       "1    21665                  0   \n",
       "2  1137774                  1   \n",
       "\n",
       "                                         sw_rem_data  word_count_sw_rem  \\\n",
       "0  [UNITED, STATES, SECURITIES, EXCHANGE, COMMISS...             105534   \n",
       "1  [UNITED, STATES, SECURITIES, EXCHANGE, COMMISS...              28200   \n",
       "2  [TABLE, CONTENTS, UNITED, STATES, SECURITIES, ...             119832   \n",
       "\n",
       "                                          lemma_data  filing_year  \n",
       "0  [UNITED, STATES, SECURITIES, EXCHANGE, COMMISS...         2012  \n",
       "1  [UNITED, STATES, SECURITIES, EXCHANGE, COMMISS...         2015  \n",
       "2  [TABLE, CONTENTS, UNITED, STATES, SECURITIES, ...         2016  "
      ]
     },
     "execution_count": 33,
     "metadata": {},
     "output_type": "execute_result"
    }
   ],
   "source": [
    "data.head(3)"
   ]
  },
  {
   "cell_type": "markdown",
   "metadata": {},
   "source": [
    "## Data Visualization"
   ]
  },
  {
   "cell_type": "code",
   "execution_count": 34,
   "metadata": {},
   "outputs": [],
   "source": [
    "import seaborn as sns\n",
    "import matplotlib.pyplot as plt"
   ]
  },
  {
   "cell_type": "code",
   "execution_count": 35,
   "metadata": {},
   "outputs": [
    {
     "data": {
      "text/plain": [
       "<matplotlib.axes._subplots.AxesSubplot at 0x1eeac056cf8>"
      ]
     },
     "execution_count": 35,
     "metadata": {},
     "output_type": "execute_result"
    },
    {
     "data": {
      "image/png": "[encoded data removed]",
      "text/plain": [
       "<Figure size 1440x576 with 1 Axes>"
      ]
     },
     "metadata": {
      "needs_background": "light"
     },
     "output_type": "display_data"
    }
   ],
   "source": [
    "f,ax=plt.subplots(figsize = (20,8))\n",
    "f.suptitle('Distribution of Word Count', fontsize = 25)\n",
    "sns.distplot(data['word_count_sw_rem'])"
   ]
  },
  {
   "cell_type": "markdown",
   "metadata": {},
   "source": [
    "Majority of the word count distribution centers arount 3000 words."
   ]
  },
  {
   "cell_type": "code",
   "execution_count": 36,
   "metadata": {},
   "outputs": [
    {
     "data": {
      "text/plain": [
       "<matplotlib.axes._subplots.AxesSubplot at 0x1efd1ac94e0>"
      ]
     },
     "execution_count": 36,
     "metadata": {},
     "output_type": "execute_result"
    },
    {
     "data": {
      "image/png": "[encoded data removed]",
      "text/plain": [
       "<Figure size 1440x576 with 1 Axes>"
      ]
     },
     "metadata": {
      "needs_background": "light"
     },
     "output_type": "display_data"
    }
   ],
   "source": [
    "f,ax=plt.subplots(figsize = (20,8))\n",
    "f.suptitle('Frequency Distribution of the Filing year', fontsize = 25)\n",
    "sns.countplot(data['filing_year'])"
   ]
  },
  {
   "cell_type": "markdown",
   "metadata": {},
   "source": [
    "Most 10-K report data is from the years 2008 to 2017."
   ]
  },
  {
   "cell_type": "code",
   "execution_count": 37,
   "metadata": {},
   "outputs": [
    {
     "data": {
      "text/plain": [
       "<matplotlib.axes._subplots.AxesSubplot at 0x1eeac1c4748>"
      ]
     },
     "execution_count": 37,
     "metadata": {},
     "output_type": "execute_result"
    },
    {
     "data": {
      "image/png": "[encoded data removed]",
      "text/plain": [
       "<Figure size 720x576 with 1 Axes>"
      ]
     },
     "metadata": {
      "needs_background": "light"
     },
     "output_type": "display_data"
    }
   ],
   "source": [
    "f,ax=plt.subplots(figsize = (10,8))\n",
    "f.suptitle('Class Imbalance of Target', fontsize = 25)\n",
    "sns.countplot(data['long_term_outlook'])"
   ]
  },
  {
   "cell_type": "code",
   "execution_count": 38,
   "metadata": {},
   "outputs": [
    {
     "data": {
      "text/plain": [
       "<matplotlib.axes._subplots.AxesSubplot at 0x1efd0664438>"
      ]
     },
     "execution_count": 38,
     "metadata": {},
     "output_type": "execute_result"
    },
    {
     "data": {
      "image/png": "[encoded data removed]",
      "text/plain": [
       "<Figure size 1800x720 with 1 Axes>"
      ]
     },
     "metadata": {
      "needs_background": "light"
     },
     "output_type": "display_data"
    }
   ],
   "source": [
    "f,ax=plt.subplots(figsize = (25,10))\n",
    "f.suptitle('Frequency Distribution of Filing year with Class label', fontsize = 25)\n",
    "sns.countplot(data['filing_year'], hue = data['long_term_outlook'])"
   ]
  },
  {
   "cell_type": "markdown",
   "metadata": {},
   "source": [
    "The year 2008 shows record maximum of label 0. This is beacause of the 2008 recession."
   ]
  },
  {
   "cell_type": "code",
   "execution_count": 39,
   "metadata": {},
   "outputs": [
    {
     "data": {
      "text/plain": [
       "<seaborn.axisgrid.JointGrid at 0x1efd0658898>"
      ]
     },
     "execution_count": 39,
     "metadata": {},
     "output_type": "execute_result"
    },
    {
     "data": {
      "image/png": "[encoded data removed]",
      "text/plain": [
       "<Figure size 576x576 with 3 Axes>"
      ]
     },
     "metadata": {
      "needs_background": "light"
     },
     "output_type": "display_data"
    }
   ],
   "source": [
    "#f,ax=plt.subplots(figsize = (25,10))\n",
    "f.suptitle('Distribution of filing year with word count', fontsize = 25)\n",
    "sns.jointplot(x = data['filing_year'], y = data['word_count_sw_rem'], height = 8, ratio = 8)"
   ]
  },
  {
   "cell_type": "code",
   "execution_count": 40,
   "metadata": {},
   "outputs": [
    {
     "data": {
      "text/plain": [
       "<matplotlib.axes._subplots.AxesSubplot at 0x1efd2890630>"
      ]
     },
     "execution_count": 40,
     "metadata": {},
     "output_type": "execute_result"
    },
    {
     "data": {
      "image/png": "[encoded data removed]",
      "text/plain": [
       "<Figure size 432x288 with 2 Axes>"
      ]
     },
     "metadata": {
      "needs_background": "light"
     },
     "output_type": "display_data"
    }
   ],
   "source": [
    "corr = data.corr()\n",
    "\n",
    "sns.heatmap(corr)"
   ]
  },
  {
   "cell_type": "code",
   "execution_count": 41,
   "metadata": {},
   "outputs": [
    {
     "data": {
      "text/plain": [
       "<seaborn.axisgrid.FacetGrid at 0x1efd0664668>"
      ]
     },
     "execution_count": 41,
     "metadata": {},
     "output_type": "execute_result"
    },
    {
     "data": {
      "image/png": "[encoded data removed]",
      "text/plain": [
       "<Figure size 1180.25x360 with 1 Axes>"
      ]
     },
     "metadata": {
      "needs_background": "light"
     },
     "output_type": "display_data"
    }
   ],
   "source": [
    "#f,ax=plt.subplots(figsize = (25,10))\n",
    "#f.suptitle('Frequency Distribution of Filing year with Class label', fontsize = 25)\n",
    "sns.catplot(x=\"filing_year\", y=\"word_count_sw_rem\", hue=\"long_term_outlook\", kind=\"swarm\", data=data, aspect = 3)"
   ]
  },
  {
   "cell_type": "code",
   "execution_count": 42,
   "metadata": {},
   "outputs": [],
   "source": [
    "from wordcloud import WordCloud"
   ]
  },
  {
   "cell_type": "code",
   "execution_count": 43,
   "metadata": {},
   "outputs": [],
   "source": [
    "data['lemma'] = [' '.join(text) for text in data['lemma_data']]"
   ]
  },
  {
   "cell_type": "code",
   "execution_count": 45,
   "metadata": {},
   "outputs": [
    {
     "data": {
      "text/plain": [
       "0    UNITED STATES SECURITIES EXCHANGE COMMISSION W...\n",
       "0    UNITED STATES SECURITIES EXCHANGE COMMISSION W...\n",
       "0    UNITED STATES SECURITIES EXCHANGE COMMISSION W...\n",
       "Name: lemma, dtype: object"
      ]
     },
     "execution_count": 45,
     "metadata": {},
     "output_type": "execute_result"
    }
   ],
   "source": [
    "data['lemma'][0]"
   ]
  },
  {
   "cell_type": "code",
   "execution_count": 46,
   "metadata": {},
   "outputs": [
    {
     "data": {
      "image/png": "[encoded data removed]",
      "text/plain": [
       "<Figure size 432x288 with 1 Axes>"
      ]
     },
     "metadata": {
      "needs_background": "light"
     },
     "output_type": "display_data"
    }
   ],
   "source": [
    "wordcloud = WordCloud(max_font_size=50, max_words=25, background_color=\"white\").generate(str(data['lemma_data'][10]))\n",
    "import matplotlib.pyplot as plt\n",
    "%matplotlib inline\n",
    "plt.imshow(wordcloud)\n",
    "plt.axis(\"off\")\n",
    "plt.show()"
   ]
  },
  {
   "cell_type": "code",
   "execution_count": 47,
   "metadata": {},
   "outputs": [
    {
     "data": {
      "text/plain": [
       "cik                   int64\n",
       "filing_date          object\n",
       "X10k_link            object\n",
       "long_term_outlook     int64\n",
       "tenk_data            object\n",
       "cleaned_data         object\n",
       "token_data           object\n",
       "word_count_token      int64\n",
       "sw_rem_data          object\n",
       "word_count_sw_rem     int64\n",
       "lemma_data           object\n",
       "filing_year           int64\n",
       "dtype: object"
      ]
     },
     "execution_count": 47,
     "metadata": {},
     "output_type": "execute_result"
    }
   ],
   "source": [
    "df.dtypes"
   ]
  },
  {
   "cell_type": "code",
   "execution_count": 48,
   "metadata": {},
   "outputs": [
    {
     "data": {
      "text/plain": [
       "0     \\t \\t UNITED STATES SECURITIES AND EXCHANGE C...\n",
       "0     \\t \\t UNITED STATES SECURITIES AND EXCHANGE C...\n",
       "0     UNITED STATES SECURITIES AND EXCHANGE COMMISS...\n",
       "Name: tenk_data, dtype: object"
      ]
     },
     "execution_count": 48,
     "metadata": {},
     "output_type": "execute_result"
    }
   ],
   "source": [
    "df['tenk_data'][0]"
   ]
  },
  {
   "cell_type": "code",
   "execution_count": 49,
   "metadata": {},
   "outputs": [],
   "source": [
    "data.to_csv('final_data.csv')"
   ]
  },
  {
   "cell_type": "code",
   "execution_count": null,
   "metadata": {},
   "outputs": [],
   "source": []
  }
 ],
 "metadata": {
  "kernelspec": {
   "display_name": "Python 3",
   "language": "python",
   "name": "python3"
  },
  "language_info": {
   "codemirror_mode": {
    "name": "ipython",
    "version": 3
   },
   "file_extension": ".py",
   "mimetype": "text/x-python",
   "name": "python",
   "nbconvert_exporter": "python",
   "pygments_lexer": "ipython3",
   "version": "3.7.3"
  },
  "toc": {
   "base_numbering": 1,
   "nav_menu": {},
   "number_sections": true,
   "sideBar": true,
   "skip_h1_title": false,
   "title_cell": "Table of Contents",
   "title_sidebar": "Contents",
   "toc_cell": false,
   "toc_position": {},
   "toc_section_display": true,
   "toc_window_display": false
  },
  "varInspector": {
   "cols": {
    "lenName": 16,
    "lenType": 16,
    "lenVar": 40
   },
   "kernels_config": {
    "python": {
     "delete_cmd_postfix": "",
     "delete_cmd_prefix": "del ",
     "library": "var_list.py",
     "varRefreshCmd": "print(var_dic_list())"
    },
    "r": {
     "delete_cmd_postfix": ") ",
     "delete_cmd_prefix": "rm(",
     "library": "var_list.r",
     "varRefreshCmd": "cat(var_dic_list()) "
    }
   },
   "types_to_exclude": [
    "module",
    "function",
    "builtin_function_or_method",
    "instance",
    "_Feature"
   ],
   "window_display": false
  }
 },
 "nbformat": 4,
 "nbformat_minor": 2
}
