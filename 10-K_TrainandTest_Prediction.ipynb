{
 "cells": [
  {
   "cell_type": "code",
   "execution_count": 1,
   "metadata": {},
   "outputs": [],
   "source": [
    "import pandas as pd\n",
    "import numpy as np\n",
    "import requests\n",
    "from bs4 import BeautifulSoup as bs\n",
    "import numpy as np\n",
    "import pandas as pd\n",
    "import urllib.request as url \n",
    "import re, string, unicodedata\n",
    "import nltk\n",
    "from bs4 import BeautifulSoup\n",
    "from nltk import word_tokenize, sent_tokenize\n",
    "from nltk.corpus import stopwords\n",
    "from nltk.stem import LancasterStemmer, WordNetLemmatizer\n",
    "import string"
   ]
  },
  {
   "cell_type": "markdown",
   "metadata": {},
   "source": [
    "## Train"
   ]
  },
  {
   "cell_type": "code",
   "execution_count": 2,
   "metadata": {},
   "outputs": [],
   "source": [
    "final = pd.read_csv('final_train_data.csv')"
   ]
  },
  {
   "cell_type": "code",
   "execution_count": 3,
   "metadata": {},
   "outputs": [
    {
     "data": {
      "text/html": [
       "<div>\n",
       "<style scoped>\n",
       "    .dataframe tbody tr th:only-of-type {\n",
       "        vertical-align: middle;\n",
       "    }\n",
       "\n",
       "    .dataframe tbody tr th {\n",
       "        vertical-align: top;\n",
       "    }\n",
       "\n",
       "    .dataframe thead th {\n",
       "        text-align: right;\n",
       "    }\n",
       "</style>\n",
       "<table border=\"1\" class=\"dataframe\">\n",
       "  <thead>\n",
       "    <tr style=\"text-align: right;\">\n",
       "      <th></th>\n",
       "      <th>Unnamed: 0</th>\n",
       "      <th>cik</th>\n",
       "      <th>long_term_outlook</th>\n",
       "      <th>sw_rem_data</th>\n",
       "      <th>word_count_sw_rem</th>\n",
       "      <th>lemma_data</th>\n",
       "      <th>filing_year</th>\n",
       "      <th>lemma</th>\n",
       "    </tr>\n",
       "  </thead>\n",
       "  <tbody>\n",
       "    <tr>\n",
       "      <th>0</th>\n",
       "      <td>0</td>\n",
       "      <td>1004980</td>\n",
       "      <td>1</td>\n",
       "      <td>['UNITED', 'STATES', 'SECURITIES', 'EXCHANGE',...</td>\n",
       "      <td>30809</td>\n",
       "      <td>['UNITED', 'STATES', 'SECURITIES', 'EXCHANGE',...</td>\n",
       "      <td>2000</td>\n",
       "      <td>UNITED STATES SECURITIES EXCHANGE COMMISSION W...</td>\n",
       "    </tr>\n",
       "    <tr>\n",
       "      <th>1</th>\n",
       "      <td>1</td>\n",
       "      <td>815097</td>\n",
       "      <td>0</td>\n",
       "      <td>['SECURITIES', 'EXCHANGE', 'COMMISSION', 'WASH...</td>\n",
       "      <td>20607</td>\n",
       "      <td>['SECURITIES', 'EXCHANGE', 'COMMISSION', 'WASH...</td>\n",
       "      <td>2008</td>\n",
       "      <td>SECURITIES EXCHANGE COMMISSION WASHINGTON DC F...</td>\n",
       "    </tr>\n",
       "    <tr>\n",
       "      <th>2</th>\n",
       "      <td>2</td>\n",
       "      <td>909954</td>\n",
       "      <td>1</td>\n",
       "      <td>['UNITED', 'STATES', 'SECURITIES', 'EXCHANGE',...</td>\n",
       "      <td>17325</td>\n",
       "      <td>['UNITED', 'STATES', 'SECURITIES', 'EXCHANGE',...</td>\n",
       "      <td>2009</td>\n",
       "      <td>UNITED STATES SECURITIES EXCHANGE COMMISSION W...</td>\n",
       "    </tr>\n",
       "    <tr>\n",
       "      <th>3</th>\n",
       "      <td>3</td>\n",
       "      <td>32604</td>\n",
       "      <td>0</td>\n",
       "      <td>['TABLE', 'CONTENTS', 'UNITED', 'STATES', 'SEC...</td>\n",
       "      <td>21641</td>\n",
       "      <td>['TABLE', 'CONTENTS', 'UNITED', 'STATES', 'SEC...</td>\n",
       "      <td>2002</td>\n",
       "      <td>TABLE CONTENTS UNITED STATES SECURITIES EXCHAN...</td>\n",
       "    </tr>\n",
       "    <tr>\n",
       "      <th>4</th>\n",
       "      <td>4</td>\n",
       "      <td>19617</td>\n",
       "      <td>0</td>\n",
       "      <td>['PAGE', 'UNITED', 'STATES', 'SECURITIES', 'EX...</td>\n",
       "      <td>3467</td>\n",
       "      <td>['PAGE', 'UNITED', 'STATES', 'SECURITIES', 'EX...</td>\n",
       "      <td>1994</td>\n",
       "      <td>PAGE UNITED STATES SECURITIES EXCHANGE COMMISS...</td>\n",
       "    </tr>\n",
       "  </tbody>\n",
       "</table>\n",
       "</div>"
      ],
      "text/plain": [
       "   Unnamed: 0      cik  long_term_outlook  \\\n",
       "0           0  1004980                  1   \n",
       "1           1   815097                  0   \n",
       "2           2   909954                  1   \n",
       "3           3    32604                  0   \n",
       "4           4    19617                  0   \n",
       "\n",
       "                                         sw_rem_data  word_count_sw_rem  \\\n",
       "0  ['UNITED', 'STATES', 'SECURITIES', 'EXCHANGE',...              30809   \n",
       "1  ['SECURITIES', 'EXCHANGE', 'COMMISSION', 'WASH...              20607   \n",
       "2  ['UNITED', 'STATES', 'SECURITIES', 'EXCHANGE',...              17325   \n",
       "3  ['TABLE', 'CONTENTS', 'UNITED', 'STATES', 'SEC...              21641   \n",
       "4  ['PAGE', 'UNITED', 'STATES', 'SECURITIES', 'EX...               3467   \n",
       "\n",
       "                                          lemma_data  filing_year  \\\n",
       "0  ['UNITED', 'STATES', 'SECURITIES', 'EXCHANGE',...         2000   \n",
       "1  ['SECURITIES', 'EXCHANGE', 'COMMISSION', 'WASH...         2008   \n",
       "2  ['UNITED', 'STATES', 'SECURITIES', 'EXCHANGE',...         2009   \n",
       "3  ['TABLE', 'CONTENTS', 'UNITED', 'STATES', 'SEC...         2002   \n",
       "4  ['PAGE', 'UNITED', 'STATES', 'SECURITIES', 'EX...         1994   \n",
       "\n",
       "                                               lemma  \n",
       "0  UNITED STATES SECURITIES EXCHANGE COMMISSION W...  \n",
       "1  SECURITIES EXCHANGE COMMISSION WASHINGTON DC F...  \n",
       "2  UNITED STATES SECURITIES EXCHANGE COMMISSION W...  \n",
       "3  TABLE CONTENTS UNITED STATES SECURITIES EXCHAN...  \n",
       "4  PAGE UNITED STATES SECURITIES EXCHANGE COMMISS...  "
      ]
     },
     "execution_count": 3,
     "metadata": {},
     "output_type": "execute_result"
    }
   ],
   "source": [
    "final.head()"
   ]
  },
  {
   "cell_type": "code",
   "execution_count": 4,
   "metadata": {},
   "outputs": [
    {
     "data": {
      "text/plain": [
       "\"['UNITED', 'STATES', 'SECURITIES', 'EXCHANGE', 'COMMISSION', 'WASHINGTON', 'DC', 'FORM', 'K', 'FISCA\""
      ]
     },
     "execution_count": 4,
     "metadata": {},
     "output_type": "execute_result"
    }
   ],
   "source": [
    "final['lemma_data'][2][0:100]"
   ]
  },
  {
   "cell_type": "code",
   "execution_count": 5,
   "metadata": {},
   "outputs": [],
   "source": [
    "## The lemmatized words and in a list which is enclosed within a string. \n",
    "##So we define a function to convert enclosed list to list.\n",
    "\n",
    "def convert(list):\n",
    "    return eval(list)"
   ]
  },
  {
   "cell_type": "code",
   "execution_count": 6,
   "metadata": {},
   "outputs": [],
   "source": [
    "final['lemma_list'] = final['lemma_data'].apply(lambda x: convert(x))"
   ]
  },
  {
   "cell_type": "code",
   "execution_count": 7,
   "metadata": {},
   "outputs": [
    {
     "data": {
      "text/html": [
       "<div>\n",
       "<style scoped>\n",
       "    .dataframe tbody tr th:only-of-type {\n",
       "        vertical-align: middle;\n",
       "    }\n",
       "\n",
       "    .dataframe tbody tr th {\n",
       "        vertical-align: top;\n",
       "    }\n",
       "\n",
       "    .dataframe thead th {\n",
       "        text-align: right;\n",
       "    }\n",
       "</style>\n",
       "<table border=\"1\" class=\"dataframe\">\n",
       "  <thead>\n",
       "    <tr style=\"text-align: right;\">\n",
       "      <th></th>\n",
       "      <th>Unnamed: 0</th>\n",
       "      <th>cik</th>\n",
       "      <th>long_term_outlook</th>\n",
       "      <th>sw_rem_data</th>\n",
       "      <th>word_count_sw_rem</th>\n",
       "      <th>lemma_data</th>\n",
       "      <th>filing_year</th>\n",
       "      <th>lemma</th>\n",
       "      <th>lemma_list</th>\n",
       "    </tr>\n",
       "  </thead>\n",
       "  <tbody>\n",
       "    <tr>\n",
       "      <th>2347</th>\n",
       "      <td>2348</td>\n",
       "      <td>820313</td>\n",
       "      <td>1</td>\n",
       "      <td>['TABLE', 'CONTENTS', 'UNITED', 'STATES', 'SEC...</td>\n",
       "      <td>18409</td>\n",
       "      <td>['TABLE', 'CONTENTS', 'UNITED', 'STATES', 'SEC...</td>\n",
       "      <td>2012</td>\n",
       "      <td>TABLE CONTENTS UNITED STATES SECURITIES EXCHAN...</td>\n",
       "      <td>[TABLE, CONTENTS, UNITED, STATES, SECURITIES, ...</td>\n",
       "    </tr>\n",
       "    <tr>\n",
       "      <th>2348</th>\n",
       "      <td>2349</td>\n",
       "      <td>27904</td>\n",
       "      <td>0</td>\n",
       "      <td>['UNITED', 'STATES', 'SECURITIES', 'EXCHANGE',...</td>\n",
       "      <td>30809</td>\n",
       "      <td>['UNITED', 'STATES', 'SECURITIES', 'EXCHANGE',...</td>\n",
       "      <td>2016</td>\n",
       "      <td>UNITED STATES SECURITIES EXCHANGE COMMISSION W...</td>\n",
       "      <td>[UNITED, STATES, SECURITIES, EXCHANGE, COMMISS...</td>\n",
       "    </tr>\n",
       "  </tbody>\n",
       "</table>\n",
       "</div>"
      ],
      "text/plain": [
       "      Unnamed: 0     cik  long_term_outlook  \\\n",
       "2347        2348  820313                  1   \n",
       "2348        2349   27904                  0   \n",
       "\n",
       "                                            sw_rem_data  word_count_sw_rem  \\\n",
       "2347  ['TABLE', 'CONTENTS', 'UNITED', 'STATES', 'SEC...              18409   \n",
       "2348  ['UNITED', 'STATES', 'SECURITIES', 'EXCHANGE',...              30809   \n",
       "\n",
       "                                             lemma_data  filing_year  \\\n",
       "2347  ['TABLE', 'CONTENTS', 'UNITED', 'STATES', 'SEC...         2012   \n",
       "2348  ['UNITED', 'STATES', 'SECURITIES', 'EXCHANGE',...         2016   \n",
       "\n",
       "                                                  lemma  \\\n",
       "2347  TABLE CONTENTS UNITED STATES SECURITIES EXCHAN...   \n",
       "2348  UNITED STATES SECURITIES EXCHANGE COMMISSION W...   \n",
       "\n",
       "                                             lemma_list  \n",
       "2347  [TABLE, CONTENTS, UNITED, STATES, SECURITIES, ...  \n",
       "2348  [UNITED, STATES, SECURITIES, EXCHANGE, COMMISS...  "
      ]
     },
     "execution_count": 7,
     "metadata": {},
     "output_type": "execute_result"
    }
   ],
   "source": [
    "final.tail(2)"
   ]
  },
  {
   "cell_type": "code",
   "execution_count": 8,
   "metadata": {},
   "outputs": [
    {
     "data": {
      "text/plain": [
       "(2349, 9)"
      ]
     },
     "execution_count": 8,
     "metadata": {},
     "output_type": "execute_result"
    }
   ],
   "source": [
    "final.shape"
   ]
  },
  {
   "cell_type": "markdown",
   "metadata": {},
   "source": [
    "## Test"
   ]
  },
  {
   "cell_type": "code",
   "execution_count": 9,
   "metadata": {},
   "outputs": [],
   "source": [
    "test = pd.read_csv('final_test_data.csv')"
   ]
  },
  {
   "cell_type": "code",
   "execution_count": 10,
   "metadata": {},
   "outputs": [
    {
     "data": {
      "text/plain": [
       "(856, 8)"
      ]
     },
     "execution_count": 10,
     "metadata": {},
     "output_type": "execute_result"
    }
   ],
   "source": [
    "test.shape"
   ]
  },
  {
   "cell_type": "code",
   "execution_count": 11,
   "metadata": {},
   "outputs": [
    {
     "data": {
      "text/html": [
       "<div>\n",
       "<style scoped>\n",
       "    .dataframe tbody tr th:only-of-type {\n",
       "        vertical-align: middle;\n",
       "    }\n",
       "\n",
       "    .dataframe tbody tr th {\n",
       "        vertical-align: top;\n",
       "    }\n",
       "\n",
       "    .dataframe thead th {\n",
       "        text-align: right;\n",
       "    }\n",
       "</style>\n",
       "<table border=\"1\" class=\"dataframe\">\n",
       "  <thead>\n",
       "    <tr style=\"text-align: right;\">\n",
       "      <th></th>\n",
       "      <th>Unnamed: 0</th>\n",
       "      <th>id</th>\n",
       "      <th>cik</th>\n",
       "      <th>sw_rem_data</th>\n",
       "      <th>word_count_sw_rem</th>\n",
       "      <th>lemma_data</th>\n",
       "      <th>filing_year</th>\n",
       "      <th>lemma</th>\n",
       "    </tr>\n",
       "  </thead>\n",
       "  <tbody>\n",
       "    <tr>\n",
       "      <th>0</th>\n",
       "      <td>0</td>\n",
       "      <td>0</td>\n",
       "      <td>40533</td>\n",
       "      <td>['TABLE', 'OF', 'CONTENTS', 'UNITED', 'STATES'...</td>\n",
       "      <td>41108</td>\n",
       "      <td>['TABLE', 'OF', 'CONTENTS', 'UNITED', 'STATES'...</td>\n",
       "      <td>2012</td>\n",
       "      <td>TABLE OF CONTENTS UNITED STATES SECURITIES AND...</td>\n",
       "    </tr>\n",
       "    <tr>\n",
       "      <th>1</th>\n",
       "      <td>1</td>\n",
       "      <td>1</td>\n",
       "      <td>36270</td>\n",
       "      <td>['UNITED', 'STATES', 'SECURITIES', 'AND', 'EXC...</td>\n",
       "      <td>37429</td>\n",
       "      <td>['UNITED', 'STATES', 'SECURITIES', 'AND', 'EXC...</td>\n",
       "      <td>1999</td>\n",
       "      <td>UNITED STATES SECURITIES AND EXCHANGE COMMISSI...</td>\n",
       "    </tr>\n",
       "    <tr>\n",
       "      <th>2</th>\n",
       "      <td>2</td>\n",
       "      <td>2</td>\n",
       "      <td>315852</td>\n",
       "      <td>['TABLE', 'OF', 'CONTENTS', 'SECURITIES', 'AND...</td>\n",
       "      <td>29882</td>\n",
       "      <td>['TABLE', 'OF', 'CONTENTS', 'SECURITIES', 'AND...</td>\n",
       "      <td>2001</td>\n",
       "      <td>TABLE OF CONTENTS SECURITIES AND EXCHANGE COMM...</td>\n",
       "    </tr>\n",
       "    <tr>\n",
       "      <th>3</th>\n",
       "      <td>3</td>\n",
       "      <td>3</td>\n",
       "      <td>920148</td>\n",
       "      <td>['UNITED', 'STATES', 'SECURITIES', 'AND', 'EXC...</td>\n",
       "      <td>43991</td>\n",
       "      <td>['UNITED', 'STATES', 'SECURITIES', 'AND', 'EXC...</td>\n",
       "      <td>2009</td>\n",
       "      <td>UNITED STATES SECURITIES AND EXCHANGE COMMISSI...</td>\n",
       "    </tr>\n",
       "    <tr>\n",
       "      <th>4</th>\n",
       "      <td>4</td>\n",
       "      <td>4</td>\n",
       "      <td>96021</td>\n",
       "      <td>['UNITED', 'STATES', 'SECURITIES', 'AND', 'EXC...</td>\n",
       "      <td>28766</td>\n",
       "      <td>['UNITED', 'STATES', 'SECURITIES', 'AND', 'EXC...</td>\n",
       "      <td>2004</td>\n",
       "      <td>UNITED STATES SECURITIES AND EXCHANGE COMMISSI...</td>\n",
       "    </tr>\n",
       "  </tbody>\n",
       "</table>\n",
       "</div>"
      ],
      "text/plain": [
       "   Unnamed: 0  id     cik                                        sw_rem_data  \\\n",
       "0           0   0   40533  ['TABLE', 'OF', 'CONTENTS', 'UNITED', 'STATES'...   \n",
       "1           1   1   36270  ['UNITED', 'STATES', 'SECURITIES', 'AND', 'EXC...   \n",
       "2           2   2  315852  ['TABLE', 'OF', 'CONTENTS', 'SECURITIES', 'AND...   \n",
       "3           3   3  920148  ['UNITED', 'STATES', 'SECURITIES', 'AND', 'EXC...   \n",
       "4           4   4   96021  ['UNITED', 'STATES', 'SECURITIES', 'AND', 'EXC...   \n",
       "\n",
       "   word_count_sw_rem                                         lemma_data  \\\n",
       "0              41108  ['TABLE', 'OF', 'CONTENTS', 'UNITED', 'STATES'...   \n",
       "1              37429  ['UNITED', 'STATES', 'SECURITIES', 'AND', 'EXC...   \n",
       "2              29882  ['TABLE', 'OF', 'CONTENTS', 'SECURITIES', 'AND...   \n",
       "3              43991  ['UNITED', 'STATES', 'SECURITIES', 'AND', 'EXC...   \n",
       "4              28766  ['UNITED', 'STATES', 'SECURITIES', 'AND', 'EXC...   \n",
       "\n",
       "   filing_year                                              lemma  \n",
       "0         2012  TABLE OF CONTENTS UNITED STATES SECURITIES AND...  \n",
       "1         1999  UNITED STATES SECURITIES AND EXCHANGE COMMISSI...  \n",
       "2         2001  TABLE OF CONTENTS SECURITIES AND EXCHANGE COMM...  \n",
       "3         2009  UNITED STATES SECURITIES AND EXCHANGE COMMISSI...  \n",
       "4         2004  UNITED STATES SECURITIES AND EXCHANGE COMMISSI...  "
      ]
     },
     "execution_count": 11,
     "metadata": {},
     "output_type": "execute_result"
    }
   ],
   "source": [
    "test.head()"
   ]
  },
  {
   "cell_type": "code",
   "execution_count": 12,
   "metadata": {},
   "outputs": [
    {
     "data": {
      "text/html": [
       "<div>\n",
       "<style scoped>\n",
       "    .dataframe tbody tr th:only-of-type {\n",
       "        vertical-align: middle;\n",
       "    }\n",
       "\n",
       "    .dataframe tbody tr th {\n",
       "        vertical-align: top;\n",
       "    }\n",
       "\n",
       "    .dataframe thead th {\n",
       "        text-align: right;\n",
       "    }\n",
       "</style>\n",
       "<table border=\"1\" class=\"dataframe\">\n",
       "  <thead>\n",
       "    <tr style=\"text-align: right;\">\n",
       "      <th></th>\n",
       "      <th>Unnamed: 0</th>\n",
       "      <th>id</th>\n",
       "      <th>cik</th>\n",
       "      <th>sw_rem_data</th>\n",
       "      <th>word_count_sw_rem</th>\n",
       "      <th>lemma_data</th>\n",
       "      <th>filing_year</th>\n",
       "      <th>lemma</th>\n",
       "    </tr>\n",
       "  </thead>\n",
       "  <tbody>\n",
       "    <tr>\n",
       "      <th>851</th>\n",
       "      <td>421</td>\n",
       "      <td>851</td>\n",
       "      <td>101829</td>\n",
       "      <td>['TABLE', 'OF', 'CONTENTS', 'UNITED', 'STATES'...</td>\n",
       "      <td>18992</td>\n",
       "      <td>['TABLE', 'OF', 'CONTENTS', 'UNITED', 'STATES'...</td>\n",
       "      <td>2014</td>\n",
       "      <td>TABLE OF CONTENTS UNITED STATES SECURITIES AND...</td>\n",
       "    </tr>\n",
       "    <tr>\n",
       "      <th>852</th>\n",
       "      <td>422</td>\n",
       "      <td>852</td>\n",
       "      <td>101778</td>\n",
       "      <td>['USE', 'THESE', 'LINKS', 'TO', 'RAPIDLY', 'RE...</td>\n",
       "      <td>62174</td>\n",
       "      <td>['USE', 'THESE', 'LINKS', 'TO', 'RAPIDLY', 'RE...</td>\n",
       "      <td>2005</td>\n",
       "      <td>USE THESE LINKS TO RAPIDLY REVIEW THE DOCUMENT...</td>\n",
       "    </tr>\n",
       "    <tr>\n",
       "      <th>853</th>\n",
       "      <td>423</td>\n",
       "      <td>853</td>\n",
       "      <td>879101</td>\n",
       "      <td>['UNITED', 'STATES', 'SECURITIES', 'AND', 'EXC...</td>\n",
       "      <td>56179</td>\n",
       "      <td>['UNITED', 'STATES', 'SECURITIES', 'AND', 'EXC...</td>\n",
       "      <td>2013</td>\n",
       "      <td>UNITED STATES SECURITIES AND EXCHANGE COMMISSI...</td>\n",
       "    </tr>\n",
       "    <tr>\n",
       "      <th>854</th>\n",
       "      <td>424</td>\n",
       "      <td>854</td>\n",
       "      <td>849399</td>\n",
       "      <td>['TABLE', 'OF', 'CONTENTS', 'UNITED', 'STATES'...</td>\n",
       "      <td>47351</td>\n",
       "      <td>['TABLE', 'OF', 'CONTENTS', 'UNITED', 'STATES'...</td>\n",
       "      <td>2012</td>\n",
       "      <td>TABLE OF CONTENTS UNITED STATES SECURITIES AND...</td>\n",
       "    </tr>\n",
       "    <tr>\n",
       "      <th>855</th>\n",
       "      <td>425</td>\n",
       "      <td>855</td>\n",
       "      <td>63276</td>\n",
       "      <td>['TABLE', 'OF', 'CONTENTS', 'UNITED', 'STATES'...</td>\n",
       "      <td>52851</td>\n",
       "      <td>['TABLE', 'OF', 'CONTENTS', 'UNITED', 'STATES'...</td>\n",
       "      <td>2011</td>\n",
       "      <td>TABLE OF CONTENTS UNITED STATES SECURITIES AND...</td>\n",
       "    </tr>\n",
       "  </tbody>\n",
       "</table>\n",
       "</div>"
      ],
      "text/plain": [
       "     Unnamed: 0   id     cik  \\\n",
       "851         421  851  101829   \n",
       "852         422  852  101778   \n",
       "853         423  853  879101   \n",
       "854         424  854  849399   \n",
       "855         425  855   63276   \n",
       "\n",
       "                                           sw_rem_data  word_count_sw_rem  \\\n",
       "851  ['TABLE', 'OF', 'CONTENTS', 'UNITED', 'STATES'...              18992   \n",
       "852  ['USE', 'THESE', 'LINKS', 'TO', 'RAPIDLY', 'RE...              62174   \n",
       "853  ['UNITED', 'STATES', 'SECURITIES', 'AND', 'EXC...              56179   \n",
       "854  ['TABLE', 'OF', 'CONTENTS', 'UNITED', 'STATES'...              47351   \n",
       "855  ['TABLE', 'OF', 'CONTENTS', 'UNITED', 'STATES'...              52851   \n",
       "\n",
       "                                            lemma_data  filing_year  \\\n",
       "851  ['TABLE', 'OF', 'CONTENTS', 'UNITED', 'STATES'...         2014   \n",
       "852  ['USE', 'THESE', 'LINKS', 'TO', 'RAPIDLY', 'RE...         2005   \n",
       "853  ['UNITED', 'STATES', 'SECURITIES', 'AND', 'EXC...         2013   \n",
       "854  ['TABLE', 'OF', 'CONTENTS', 'UNITED', 'STATES'...         2012   \n",
       "855  ['TABLE', 'OF', 'CONTENTS', 'UNITED', 'STATES'...         2011   \n",
       "\n",
       "                                                 lemma  \n",
       "851  TABLE OF CONTENTS UNITED STATES SECURITIES AND...  \n",
       "852  USE THESE LINKS TO RAPIDLY REVIEW THE DOCUMENT...  \n",
       "853  UNITED STATES SECURITIES AND EXCHANGE COMMISSI...  \n",
       "854  TABLE OF CONTENTS UNITED STATES SECURITIES AND...  \n",
       "855  TABLE OF CONTENTS UNITED STATES SECURITIES AND...  "
      ]
     },
     "execution_count": 12,
     "metadata": {},
     "output_type": "execute_result"
    }
   ],
   "source": [
    "test.tail()"
   ]
  },
  {
   "cell_type": "code",
   "execution_count": 13,
   "metadata": {},
   "outputs": [],
   "source": [
    "test['lemma_list'] = test['lemma_data'].apply(lambda x: convert(x))"
   ]
  },
  {
   "cell_type": "markdown",
   "metadata": {},
   "source": [
    "## Vectorize the lemmatized text using TF-IDF"
   ]
  },
  {
   "cell_type": "code",
   "execution_count": 15,
   "metadata": {},
   "outputs": [
    {
     "name": "stdout",
     "output_type": "stream",
     "text": [
      "(13536, 1)\n",
      "['AFGHANI', 'ARIARY', 'BAHT', 'BALBOA', 'BIRR', 'BOLIVAR', 'BOLIVIANO', 'CEDI', 'COLON', 'CÓRDOBA', 'DALASI', 'DENAR', 'DINAR', 'DIRHAM', 'DOBRA', 'DONG', 'DRAM', 'ESCUDO', 'EURO', 'FLORIN', 'FORINT', 'GOURDE', 'GUARANI', 'GULDEN', 'HRYVNIA', 'KINA', 'KIP', 'KONVERTIBILNA MARKA', 'KORUNA', 'KRONA', 'KRONE', 'KROON', 'KUNA', 'KWACHA', 'KWANZA', 'KYAT', 'LARI ', 'LATS', 'LEK', 'LEMPIRA', 'LEONE', 'LEU', 'LEV', 'LILANGENI', 'LIRA', 'LITAS', 'LOTI', 'MANAT', 'METICAL', 'NAIRA', 'NAKFA', 'NEW LIRA', 'NEW SHEQEL', 'NGULTRUM', 'NUEVO SOL', 'OUGUIYA', 'PATACA', 'PESO', 'POUND', 'PULA ', 'QUETZAL', 'RAND', 'REAL', 'RENMINBI', 'RIAL', 'RIEL', 'RINGGIT', 'RIYAL', 'RUBLE', 'RUFIYAA', 'RUPEE', 'RUPEE', 'RUPIAH', 'SHILLING', 'SOM', 'SOMONI', 'SPECIAL DRAWING RIGHTS', 'TAKA', 'TALA', 'TENGE', 'TUGRIK', 'VATU', 'WON', 'YEN', 'ZLOTY', 'HUNDRED  ', 'THOUSAND', 'MILLION', 'BILLION', 'TRILLION', 'DATE ', 'ANNUAL', 'ANNUALLY', 'ANNUM', 'YEAR', 'YEARLY', 'QUARTER', 'QUARTERLY', 'QTR', 'MONTH']\n"
     ]
    }
   ],
   "source": [
    "auditor = pd.read_csv('StopWords_Auditor.txt', header = None)\n",
    "currency = pd.read_csv('StopWords_Currencies.txt', header = None, encoding = 'unicode_escape')\n",
    "date_num = pd.read_csv('StopWords_DatesandNumbers.txt',header = None, encoding = 'unicode_escape')\n",
    "gen = pd.read_csv('StopWords_Generic.txt', header = None, encoding = 'unicode_escape')\n",
    "geo = pd.read_csv('StopWords_Geographic.txt', header = None, encoding = 'unicode_escape')\n",
    "names = pd.read_csv(\"StopWords_Names.txt\", header = None, encoding = 'unicode_escape')\n",
    "\n",
    "stopwords_df = pd.concat([currency, date_num, gen, geo, names, auditor])\n",
    "\n",
    "print(stopwords_df.shape)\n",
    "\n",
    "stopwords_list = stopwords_df[0].tolist()\n",
    "\n",
    "print(stopwords_list[0:100])"
   ]
  },
  {
   "cell_type": "code",
   "execution_count": 16,
   "metadata": {},
   "outputs": [],
   "source": [
    "# stop_words_removed = []\n",
    "# for tokenized_words in df['token_data']:\n",
    "    \n",
    "#     stop_words_removed.append([word for word in tokenized_words if word not in stopset])"
   ]
  },
  {
   "cell_type": "code",
   "execution_count": 17,
   "metadata": {},
   "outputs": [],
   "source": [
    "from sklearn.feature_extraction.text import TfidfVectorizer"
   ]
  },
  {
   "cell_type": "code",
   "execution_count": 18,
   "metadata": {},
   "outputs": [],
   "source": [
    "vectorizer = TfidfVectorizer()"
   ]
  },
  {
   "cell_type": "markdown",
   "metadata": {},
   "source": [
    "### Train"
   ]
  },
  {
   "cell_type": "code",
   "execution_count": 19,
   "metadata": {},
   "outputs": [
    {
     "data": {
      "text/plain": [
       "TfidfVectorizer(analyzer='word', binary=False, decode_error='strict',\n",
       "        dtype=<class 'numpy.float64'>, encoding='utf-8', input='content',\n",
       "        lowercase=True, max_df=1.0, max_features=None, min_df=1,\n",
       "        ngram_range=(1, 1), norm='l2', preprocessor=None, smooth_idf=True,\n",
       "        stop_words=None, strip_accents=None, sublinear_tf=False,\n",
       "        token_pattern='(?u)\\\\b\\\\w\\\\w+\\\\b', tokenizer=None, use_idf=True,\n",
       "        vocabulary=None)"
      ]
     },
     "execution_count": 19,
     "metadata": {},
     "output_type": "execute_result"
    }
   ],
   "source": [
    "vectorizer.fit(final['lemma'])"
   ]
  },
  {
   "cell_type": "code",
   "execution_count": 20,
   "metadata": {},
   "outputs": [],
   "source": [
    "final_tf_idf = vectorizer.transform(final['lemma'])"
   ]
  },
  {
   "cell_type": "code",
   "execution_count": 21,
   "metadata": {},
   "outputs": [
    {
     "data": {
      "text/plain": [
       "scipy.sparse.csr.csr_matrix"
      ]
     },
     "execution_count": 21,
     "metadata": {},
     "output_type": "execute_result"
    }
   ],
   "source": [
    "type(final_tf_idf)"
   ]
  },
  {
   "cell_type": "code",
   "execution_count": 22,
   "metadata": {},
   "outputs": [
    {
     "data": {
      "text/plain": [
       "(2349, 93180)"
      ]
     },
     "execution_count": 22,
     "metadata": {},
     "output_type": "execute_result"
    }
   ],
   "source": [
    "final_tf_idf.shape"
   ]
  },
  {
   "cell_type": "code",
   "execution_count": 23,
   "metadata": {},
   "outputs": [],
   "source": [
    "Dense_mat = final_tf_idf.todense()"
   ]
  },
  {
   "cell_type": "code",
   "execution_count": 24,
   "metadata": {},
   "outputs": [],
   "source": [
    "Tfidf_df = pd.DataFrame(Dense_mat, columns=vectorizer.get_feature_names())"
   ]
  },
  {
   "cell_type": "code",
   "execution_count": 25,
   "metadata": {},
   "outputs": [
    {
     "data": {
      "text/plain": [
       "(2349, 93180)"
      ]
     },
     "execution_count": 25,
     "metadata": {},
     "output_type": "execute_result"
    }
   ],
   "source": [
    "Tfidf_df.shape"
   ]
  },
  {
   "cell_type": "code",
   "execution_count": 26,
   "metadata": {},
   "outputs": [],
   "source": [
    "tf_idf = Tfidf_df.reset_index()"
   ]
  },
  {
   "cell_type": "code",
   "execution_count": 27,
   "metadata": {},
   "outputs": [
    {
     "data": {
      "text/html": [
       "<div>\n",
       "<style scoped>\n",
       "    .dataframe tbody tr th:only-of-type {\n",
       "        vertical-align: middle;\n",
       "    }\n",
       "\n",
       "    .dataframe tbody tr th {\n",
       "        vertical-align: top;\n",
       "    }\n",
       "\n",
       "    .dataframe thead th {\n",
       "        text-align: right;\n",
       "    }\n",
       "</style>\n",
       "<table border=\"1\" class=\"dataframe\">\n",
       "  <thead>\n",
       "    <tr style=\"text-align: right;\">\n",
       "      <th></th>\n",
       "      <th>level_0</th>\n",
       "      <th>aa</th>\n",
       "      <th>aaa</th>\n",
       "      <th>aaaa</th>\n",
       "      <th>aaaaa</th>\n",
       "      <th>aaaaaa</th>\n",
       "      <th>aaaaaaaaa</th>\n",
       "      <th>aaaamendment</th>\n",
       "      <th>aaasf</th>\n",
       "      <th>aaasuperior</th>\n",
       "      <th>...</th>\n",
       "      <th>zyprexa</th>\n",
       "      <th>zyrtec</th>\n",
       "      <th>zyrteczyrtec</th>\n",
       "      <th>zyrteczytrec</th>\n",
       "      <th>zytiga</th>\n",
       "      <th>zyvox</th>\n",
       "      <th>zz</th>\n",
       "      <th>zzo</th>\n",
       "      <th>zzz</th>\n",
       "      <th>zzzz</th>\n",
       "    </tr>\n",
       "  </thead>\n",
       "  <tbody>\n",
       "    <tr>\n",
       "      <th>0</th>\n",
       "      <td>0</td>\n",
       "      <td>0.001035</td>\n",
       "      <td>0.0</td>\n",
       "      <td>0.0</td>\n",
       "      <td>0.0</td>\n",
       "      <td>0.0</td>\n",
       "      <td>0.0</td>\n",
       "      <td>0.0</td>\n",
       "      <td>0.0</td>\n",
       "      <td>0.0</td>\n",
       "      <td>...</td>\n",
       "      <td>0.0</td>\n",
       "      <td>0.0</td>\n",
       "      <td>0.0</td>\n",
       "      <td>0.0</td>\n",
       "      <td>0.0</td>\n",
       "      <td>0.0</td>\n",
       "      <td>0.0</td>\n",
       "      <td>0.0</td>\n",
       "      <td>0.0</td>\n",
       "      <td>0.0</td>\n",
       "    </tr>\n",
       "    <tr>\n",
       "      <th>1</th>\n",
       "      <td>1</td>\n",
       "      <td>0.000000</td>\n",
       "      <td>0.0</td>\n",
       "      <td>0.0</td>\n",
       "      <td>0.0</td>\n",
       "      <td>0.0</td>\n",
       "      <td>0.0</td>\n",
       "      <td>0.0</td>\n",
       "      <td>0.0</td>\n",
       "      <td>0.0</td>\n",
       "      <td>...</td>\n",
       "      <td>0.0</td>\n",
       "      <td>0.0</td>\n",
       "      <td>0.0</td>\n",
       "      <td>0.0</td>\n",
       "      <td>0.0</td>\n",
       "      <td>0.0</td>\n",
       "      <td>0.0</td>\n",
       "      <td>0.0</td>\n",
       "      <td>0.0</td>\n",
       "      <td>0.0</td>\n",
       "    </tr>\n",
       "    <tr>\n",
       "      <th>2</th>\n",
       "      <td>2</td>\n",
       "      <td>0.000000</td>\n",
       "      <td>0.0</td>\n",
       "      <td>0.0</td>\n",
       "      <td>0.0</td>\n",
       "      <td>0.0</td>\n",
       "      <td>0.0</td>\n",
       "      <td>0.0</td>\n",
       "      <td>0.0</td>\n",
       "      <td>0.0</td>\n",
       "      <td>...</td>\n",
       "      <td>0.0</td>\n",
       "      <td>0.0</td>\n",
       "      <td>0.0</td>\n",
       "      <td>0.0</td>\n",
       "      <td>0.0</td>\n",
       "      <td>0.0</td>\n",
       "      <td>0.0</td>\n",
       "      <td>0.0</td>\n",
       "      <td>0.0</td>\n",
       "      <td>0.0</td>\n",
       "    </tr>\n",
       "  </tbody>\n",
       "</table>\n",
       "<p>3 rows × 93181 columns</p>\n",
       "</div>"
      ],
      "text/plain": [
       "   level_0        aa  aaa  aaaa  aaaaa  aaaaaa  aaaaaaaaa  aaaamendment  \\\n",
       "0        0  0.001035  0.0   0.0    0.0     0.0        0.0           0.0   \n",
       "1        1  0.000000  0.0   0.0    0.0     0.0        0.0           0.0   \n",
       "2        2  0.000000  0.0   0.0    0.0     0.0        0.0           0.0   \n",
       "\n",
       "   aaasf  aaasuperior  ...  zyprexa  zyrtec  zyrteczyrtec  zyrteczytrec  \\\n",
       "0    0.0          0.0  ...      0.0     0.0           0.0           0.0   \n",
       "1    0.0          0.0  ...      0.0     0.0           0.0           0.0   \n",
       "2    0.0          0.0  ...      0.0     0.0           0.0           0.0   \n",
       "\n",
       "   zytiga  zyvox   zz  zzo  zzz  zzzz  \n",
       "0     0.0    0.0  0.0  0.0  0.0   0.0  \n",
       "1     0.0    0.0  0.0  0.0  0.0   0.0  \n",
       "2     0.0    0.0  0.0  0.0  0.0   0.0  \n",
       "\n",
       "[3 rows x 93181 columns]"
      ]
     },
     "execution_count": 27,
     "metadata": {},
     "output_type": "execute_result"
    }
   ],
   "source": [
    "tf_idf.head(3)"
   ]
  },
  {
   "cell_type": "code",
   "execution_count": 28,
   "metadata": {},
   "outputs": [],
   "source": [
    "data = pd.merge(final, tf_idf, left_on='Unnamed: 0', right_on='level_0')"
   ]
  },
  {
   "cell_type": "code",
   "execution_count": 29,
   "metadata": {},
   "outputs": [
    {
     "data": {
      "text/plain": [
       "(2348, 93190)"
      ]
     },
     "execution_count": 29,
     "metadata": {},
     "output_type": "execute_result"
    }
   ],
   "source": [
    "data.shape"
   ]
  },
  {
   "cell_type": "code",
   "execution_count": 30,
   "metadata": {},
   "outputs": [
    {
     "data": {
      "text/html": [
       "<div>\n",
       "<style scoped>\n",
       "    .dataframe tbody tr th:only-of-type {\n",
       "        vertical-align: middle;\n",
       "    }\n",
       "\n",
       "    .dataframe tbody tr th {\n",
       "        vertical-align: top;\n",
       "    }\n",
       "\n",
       "    .dataframe thead th {\n",
       "        text-align: right;\n",
       "    }\n",
       "</style>\n",
       "<table border=\"1\" class=\"dataframe\">\n",
       "  <thead>\n",
       "    <tr style=\"text-align: right;\">\n",
       "      <th></th>\n",
       "      <th>Unnamed: 0</th>\n",
       "      <th>cik</th>\n",
       "      <th>long_term_outlook</th>\n",
       "      <th>sw_rem_data</th>\n",
       "      <th>word_count_sw_rem</th>\n",
       "      <th>lemma_data</th>\n",
       "      <th>filing_year</th>\n",
       "      <th>lemma</th>\n",
       "      <th>lemma_list</th>\n",
       "      <th>level_0</th>\n",
       "      <th>...</th>\n",
       "      <th>zyprexa</th>\n",
       "      <th>zyrtec</th>\n",
       "      <th>zyrteczyrtec</th>\n",
       "      <th>zyrteczytrec</th>\n",
       "      <th>zytiga</th>\n",
       "      <th>zyvox</th>\n",
       "      <th>zz</th>\n",
       "      <th>zzo</th>\n",
       "      <th>zzz</th>\n",
       "      <th>zzzz</th>\n",
       "    </tr>\n",
       "  </thead>\n",
       "  <tbody>\n",
       "    <tr>\n",
       "      <th>0</th>\n",
       "      <td>0</td>\n",
       "      <td>1004980</td>\n",
       "      <td>1</td>\n",
       "      <td>['UNITED', 'STATES', 'SECURITIES', 'EXCHANGE',...</td>\n",
       "      <td>30809</td>\n",
       "      <td>['UNITED', 'STATES', 'SECURITIES', 'EXCHANGE',...</td>\n",
       "      <td>2000</td>\n",
       "      <td>UNITED STATES SECURITIES EXCHANGE COMMISSION W...</td>\n",
       "      <td>[UNITED, STATES, SECURITIES, EXCHANGE, COMMISS...</td>\n",
       "      <td>0</td>\n",
       "      <td>...</td>\n",
       "      <td>0.0</td>\n",
       "      <td>0.0</td>\n",
       "      <td>0.0</td>\n",
       "      <td>0.0</td>\n",
       "      <td>0.0</td>\n",
       "      <td>0.0</td>\n",
       "      <td>0.0</td>\n",
       "      <td>0.0</td>\n",
       "      <td>0.0</td>\n",
       "      <td>0.0</td>\n",
       "    </tr>\n",
       "    <tr>\n",
       "      <th>1</th>\n",
       "      <td>1</td>\n",
       "      <td>815097</td>\n",
       "      <td>0</td>\n",
       "      <td>['SECURITIES', 'EXCHANGE', 'COMMISSION', 'WASH...</td>\n",
       "      <td>20607</td>\n",
       "      <td>['SECURITIES', 'EXCHANGE', 'COMMISSION', 'WASH...</td>\n",
       "      <td>2008</td>\n",
       "      <td>SECURITIES EXCHANGE COMMISSION WASHINGTON DC F...</td>\n",
       "      <td>[SECURITIES, EXCHANGE, COMMISSION, WASHINGTON,...</td>\n",
       "      <td>1</td>\n",
       "      <td>...</td>\n",
       "      <td>0.0</td>\n",
       "      <td>0.0</td>\n",
       "      <td>0.0</td>\n",
       "      <td>0.0</td>\n",
       "      <td>0.0</td>\n",
       "      <td>0.0</td>\n",
       "      <td>0.0</td>\n",
       "      <td>0.0</td>\n",
       "      <td>0.0</td>\n",
       "      <td>0.0</td>\n",
       "    </tr>\n",
       "  </tbody>\n",
       "</table>\n",
       "<p>2 rows × 93190 columns</p>\n",
       "</div>"
      ],
      "text/plain": [
       "   Unnamed: 0      cik  long_term_outlook  \\\n",
       "0           0  1004980                  1   \n",
       "1           1   815097                  0   \n",
       "\n",
       "                                         sw_rem_data  word_count_sw_rem  \\\n",
       "0  ['UNITED', 'STATES', 'SECURITIES', 'EXCHANGE',...              30809   \n",
       "1  ['SECURITIES', 'EXCHANGE', 'COMMISSION', 'WASH...              20607   \n",
       "\n",
       "                                          lemma_data  filing_year  \\\n",
       "0  ['UNITED', 'STATES', 'SECURITIES', 'EXCHANGE',...         2000   \n",
       "1  ['SECURITIES', 'EXCHANGE', 'COMMISSION', 'WASH...         2008   \n",
       "\n",
       "                                               lemma  \\\n",
       "0  UNITED STATES SECURITIES EXCHANGE COMMISSION W...   \n",
       "1  SECURITIES EXCHANGE COMMISSION WASHINGTON DC F...   \n",
       "\n",
       "                                          lemma_list  level_0  ...  zyprexa  \\\n",
       "0  [UNITED, STATES, SECURITIES, EXCHANGE, COMMISS...        0  ...      0.0   \n",
       "1  [SECURITIES, EXCHANGE, COMMISSION, WASHINGTON,...        1  ...      0.0   \n",
       "\n",
       "   zyrtec  zyrteczyrtec  zyrteczytrec  zytiga  zyvox   zz  zzo  zzz  zzzz  \n",
       "0     0.0           0.0           0.0     0.0    0.0  0.0  0.0  0.0   0.0  \n",
       "1     0.0           0.0           0.0     0.0    0.0  0.0  0.0  0.0   0.0  \n",
       "\n",
       "[2 rows x 93190 columns]"
      ]
     },
     "execution_count": 30,
     "metadata": {},
     "output_type": "execute_result"
    }
   ],
   "source": [
    "data.head(2)"
   ]
  },
  {
   "cell_type": "markdown",
   "metadata": {},
   "source": [
    "### Test"
   ]
  },
  {
   "cell_type": "code",
   "execution_count": 31,
   "metadata": {},
   "outputs": [],
   "source": [
    "tfidf_test = vectorizer.transform(test['lemma'])"
   ]
  },
  {
   "cell_type": "code",
   "execution_count": 32,
   "metadata": {},
   "outputs": [
    {
     "data": {
      "text/plain": [
       "scipy.sparse.csr.csr_matrix"
      ]
     },
     "execution_count": 32,
     "metadata": {},
     "output_type": "execute_result"
    }
   ],
   "source": [
    "type(tfidf_test)"
   ]
  },
  {
   "cell_type": "code",
   "execution_count": 33,
   "metadata": {},
   "outputs": [
    {
     "data": {
      "text/plain": [
       "(856, 93180)"
      ]
     },
     "execution_count": 33,
     "metadata": {},
     "output_type": "execute_result"
    }
   ],
   "source": [
    "tfidf_test.shape"
   ]
  },
  {
   "cell_type": "code",
   "execution_count": 34,
   "metadata": {},
   "outputs": [],
   "source": [
    "test_dense_mat = tfidf_test.todense()\n",
    "#test_Tfidf_df = pd.DataFrame(test_dense_mat, columns=vectorizertest.get_feature_names())"
   ]
  },
  {
   "cell_type": "code",
   "execution_count": 35,
   "metadata": {},
   "outputs": [],
   "source": [
    "test_Tfidf_df = pd.DataFrame(test_dense_mat, columns=vectorizer.get_feature_names())"
   ]
  },
  {
   "cell_type": "code",
   "execution_count": 36,
   "metadata": {},
   "outputs": [
    {
     "data": {
      "text/html": [
       "<div>\n",
       "<style scoped>\n",
       "    .dataframe tbody tr th:only-of-type {\n",
       "        vertical-align: middle;\n",
       "    }\n",
       "\n",
       "    .dataframe tbody tr th {\n",
       "        vertical-align: top;\n",
       "    }\n",
       "\n",
       "    .dataframe thead th {\n",
       "        text-align: right;\n",
       "    }\n",
       "</style>\n",
       "<table border=\"1\" class=\"dataframe\">\n",
       "  <thead>\n",
       "    <tr style=\"text-align: right;\">\n",
       "      <th></th>\n",
       "      <th>aa</th>\n",
       "      <th>aaa</th>\n",
       "      <th>aaaa</th>\n",
       "      <th>aaaaa</th>\n",
       "      <th>aaaaaa</th>\n",
       "      <th>aaaaaaaaa</th>\n",
       "      <th>aaaamendment</th>\n",
       "      <th>aaasf</th>\n",
       "      <th>aaasuperior</th>\n",
       "      <th>aaav</th>\n",
       "      <th>...</th>\n",
       "      <th>zyprexa</th>\n",
       "      <th>zyrtec</th>\n",
       "      <th>zyrteczyrtec</th>\n",
       "      <th>zyrteczytrec</th>\n",
       "      <th>zytiga</th>\n",
       "      <th>zyvox</th>\n",
       "      <th>zz</th>\n",
       "      <th>zzo</th>\n",
       "      <th>zzz</th>\n",
       "      <th>zzzz</th>\n",
       "    </tr>\n",
       "  </thead>\n",
       "  <tbody>\n",
       "    <tr>\n",
       "      <th>851</th>\n",
       "      <td>0.0</td>\n",
       "      <td>0.0</td>\n",
       "      <td>0.0</td>\n",
       "      <td>0.0</td>\n",
       "      <td>0.0</td>\n",
       "      <td>0.0</td>\n",
       "      <td>0.0</td>\n",
       "      <td>0.0</td>\n",
       "      <td>0.0</td>\n",
       "      <td>0.0</td>\n",
       "      <td>...</td>\n",
       "      <td>0.0</td>\n",
       "      <td>0.0</td>\n",
       "      <td>0.0</td>\n",
       "      <td>0.0</td>\n",
       "      <td>0.0</td>\n",
       "      <td>0.0</td>\n",
       "      <td>0.0</td>\n",
       "      <td>0.0</td>\n",
       "      <td>0.0</td>\n",
       "      <td>0.0</td>\n",
       "    </tr>\n",
       "    <tr>\n",
       "      <th>852</th>\n",
       "      <td>0.0</td>\n",
       "      <td>0.0</td>\n",
       "      <td>0.0</td>\n",
       "      <td>0.0</td>\n",
       "      <td>0.0</td>\n",
       "      <td>0.0</td>\n",
       "      <td>0.0</td>\n",
       "      <td>0.0</td>\n",
       "      <td>0.0</td>\n",
       "      <td>0.0</td>\n",
       "      <td>...</td>\n",
       "      <td>0.0</td>\n",
       "      <td>0.0</td>\n",
       "      <td>0.0</td>\n",
       "      <td>0.0</td>\n",
       "      <td>0.0</td>\n",
       "      <td>0.0</td>\n",
       "      <td>0.0</td>\n",
       "      <td>0.0</td>\n",
       "      <td>0.0</td>\n",
       "      <td>0.0</td>\n",
       "    </tr>\n",
       "    <tr>\n",
       "      <th>853</th>\n",
       "      <td>0.0</td>\n",
       "      <td>0.0</td>\n",
       "      <td>0.0</td>\n",
       "      <td>0.0</td>\n",
       "      <td>0.0</td>\n",
       "      <td>0.0</td>\n",
       "      <td>0.0</td>\n",
       "      <td>0.0</td>\n",
       "      <td>0.0</td>\n",
       "      <td>0.0</td>\n",
       "      <td>...</td>\n",
       "      <td>0.0</td>\n",
       "      <td>0.0</td>\n",
       "      <td>0.0</td>\n",
       "      <td>0.0</td>\n",
       "      <td>0.0</td>\n",
       "      <td>0.0</td>\n",
       "      <td>0.0</td>\n",
       "      <td>0.0</td>\n",
       "      <td>0.0</td>\n",
       "      <td>0.0</td>\n",
       "    </tr>\n",
       "    <tr>\n",
       "      <th>854</th>\n",
       "      <td>0.0</td>\n",
       "      <td>0.0</td>\n",
       "      <td>0.0</td>\n",
       "      <td>0.0</td>\n",
       "      <td>0.0</td>\n",
       "      <td>0.0</td>\n",
       "      <td>0.0</td>\n",
       "      <td>0.0</td>\n",
       "      <td>0.0</td>\n",
       "      <td>0.0</td>\n",
       "      <td>...</td>\n",
       "      <td>0.0</td>\n",
       "      <td>0.0</td>\n",
       "      <td>0.0</td>\n",
       "      <td>0.0</td>\n",
       "      <td>0.0</td>\n",
       "      <td>0.0</td>\n",
       "      <td>0.0</td>\n",
       "      <td>0.0</td>\n",
       "      <td>0.0</td>\n",
       "      <td>0.0</td>\n",
       "    </tr>\n",
       "    <tr>\n",
       "      <th>855</th>\n",
       "      <td>0.0</td>\n",
       "      <td>0.0</td>\n",
       "      <td>0.0</td>\n",
       "      <td>0.0</td>\n",
       "      <td>0.0</td>\n",
       "      <td>0.0</td>\n",
       "      <td>0.0</td>\n",
       "      <td>0.0</td>\n",
       "      <td>0.0</td>\n",
       "      <td>0.0</td>\n",
       "      <td>...</td>\n",
       "      <td>0.0</td>\n",
       "      <td>0.0</td>\n",
       "      <td>0.0</td>\n",
       "      <td>0.0</td>\n",
       "      <td>0.0</td>\n",
       "      <td>0.0</td>\n",
       "      <td>0.0</td>\n",
       "      <td>0.0</td>\n",
       "      <td>0.0</td>\n",
       "      <td>0.0</td>\n",
       "    </tr>\n",
       "  </tbody>\n",
       "</table>\n",
       "<p>5 rows × 93180 columns</p>\n",
       "</div>"
      ],
      "text/plain": [
       "      aa  aaa  aaaa  aaaaa  aaaaaa  aaaaaaaaa  aaaamendment  aaasf  \\\n",
       "851  0.0  0.0   0.0    0.0     0.0        0.0           0.0    0.0   \n",
       "852  0.0  0.0   0.0    0.0     0.0        0.0           0.0    0.0   \n",
       "853  0.0  0.0   0.0    0.0     0.0        0.0           0.0    0.0   \n",
       "854  0.0  0.0   0.0    0.0     0.0        0.0           0.0    0.0   \n",
       "855  0.0  0.0   0.0    0.0     0.0        0.0           0.0    0.0   \n",
       "\n",
       "     aaasuperior  aaav  ...  zyprexa  zyrtec  zyrteczyrtec  zyrteczytrec  \\\n",
       "851          0.0   0.0  ...      0.0     0.0           0.0           0.0   \n",
       "852          0.0   0.0  ...      0.0     0.0           0.0           0.0   \n",
       "853          0.0   0.0  ...      0.0     0.0           0.0           0.0   \n",
       "854          0.0   0.0  ...      0.0     0.0           0.0           0.0   \n",
       "855          0.0   0.0  ...      0.0     0.0           0.0           0.0   \n",
       "\n",
       "     zytiga  zyvox   zz  zzo  zzz  zzzz  \n",
       "851     0.0    0.0  0.0  0.0  0.0   0.0  \n",
       "852     0.0    0.0  0.0  0.0  0.0   0.0  \n",
       "853     0.0    0.0  0.0  0.0  0.0   0.0  \n",
       "854     0.0    0.0  0.0  0.0  0.0   0.0  \n",
       "855     0.0    0.0  0.0  0.0  0.0   0.0  \n",
       "\n",
       "[5 rows x 93180 columns]"
      ]
     },
     "execution_count": 36,
     "metadata": {},
     "output_type": "execute_result"
    }
   ],
   "source": [
    "test_Tfidf_df.tail()"
   ]
  },
  {
   "cell_type": "code",
   "execution_count": 37,
   "metadata": {},
   "outputs": [],
   "source": [
    "test_tf_idf = test_Tfidf_df.reset_index()"
   ]
  },
  {
   "cell_type": "code",
   "execution_count": 38,
   "metadata": {},
   "outputs": [
    {
     "data": {
      "text/html": [
       "<div>\n",
       "<style scoped>\n",
       "    .dataframe tbody tr th:only-of-type {\n",
       "        vertical-align: middle;\n",
       "    }\n",
       "\n",
       "    .dataframe tbody tr th {\n",
       "        vertical-align: top;\n",
       "    }\n",
       "\n",
       "    .dataframe thead th {\n",
       "        text-align: right;\n",
       "    }\n",
       "</style>\n",
       "<table border=\"1\" class=\"dataframe\">\n",
       "  <thead>\n",
       "    <tr style=\"text-align: right;\">\n",
       "      <th></th>\n",
       "      <th>level_0</th>\n",
       "      <th>aa</th>\n",
       "      <th>aaa</th>\n",
       "      <th>aaaa</th>\n",
       "      <th>aaaaa</th>\n",
       "      <th>aaaaaa</th>\n",
       "      <th>aaaaaaaaa</th>\n",
       "      <th>aaaamendment</th>\n",
       "      <th>aaasf</th>\n",
       "      <th>aaasuperior</th>\n",
       "      <th>...</th>\n",
       "      <th>zyprexa</th>\n",
       "      <th>zyrtec</th>\n",
       "      <th>zyrteczyrtec</th>\n",
       "      <th>zyrteczytrec</th>\n",
       "      <th>zytiga</th>\n",
       "      <th>zyvox</th>\n",
       "      <th>zz</th>\n",
       "      <th>zzo</th>\n",
       "      <th>zzz</th>\n",
       "      <th>zzzz</th>\n",
       "    </tr>\n",
       "  </thead>\n",
       "  <tbody>\n",
       "    <tr>\n",
       "      <th>854</th>\n",
       "      <td>854</td>\n",
       "      <td>0.0</td>\n",
       "      <td>0.0</td>\n",
       "      <td>0.0</td>\n",
       "      <td>0.0</td>\n",
       "      <td>0.0</td>\n",
       "      <td>0.0</td>\n",
       "      <td>0.0</td>\n",
       "      <td>0.0</td>\n",
       "      <td>0.0</td>\n",
       "      <td>...</td>\n",
       "      <td>0.0</td>\n",
       "      <td>0.0</td>\n",
       "      <td>0.0</td>\n",
       "      <td>0.0</td>\n",
       "      <td>0.0</td>\n",
       "      <td>0.0</td>\n",
       "      <td>0.0</td>\n",
       "      <td>0.0</td>\n",
       "      <td>0.0</td>\n",
       "      <td>0.0</td>\n",
       "    </tr>\n",
       "    <tr>\n",
       "      <th>855</th>\n",
       "      <td>855</td>\n",
       "      <td>0.0</td>\n",
       "      <td>0.0</td>\n",
       "      <td>0.0</td>\n",
       "      <td>0.0</td>\n",
       "      <td>0.0</td>\n",
       "      <td>0.0</td>\n",
       "      <td>0.0</td>\n",
       "      <td>0.0</td>\n",
       "      <td>0.0</td>\n",
       "      <td>...</td>\n",
       "      <td>0.0</td>\n",
       "      <td>0.0</td>\n",
       "      <td>0.0</td>\n",
       "      <td>0.0</td>\n",
       "      <td>0.0</td>\n",
       "      <td>0.0</td>\n",
       "      <td>0.0</td>\n",
       "      <td>0.0</td>\n",
       "      <td>0.0</td>\n",
       "      <td>0.0</td>\n",
       "    </tr>\n",
       "  </tbody>\n",
       "</table>\n",
       "<p>2 rows × 93181 columns</p>\n",
       "</div>"
      ],
      "text/plain": [
       "     level_0   aa  aaa  aaaa  aaaaa  aaaaaa  aaaaaaaaa  aaaamendment  aaasf  \\\n",
       "854      854  0.0  0.0   0.0    0.0     0.0        0.0           0.0    0.0   \n",
       "855      855  0.0  0.0   0.0    0.0     0.0        0.0           0.0    0.0   \n",
       "\n",
       "     aaasuperior  ...  zyprexa  zyrtec  zyrteczyrtec  zyrteczytrec  zytiga  \\\n",
       "854          0.0  ...      0.0     0.0           0.0           0.0     0.0   \n",
       "855          0.0  ...      0.0     0.0           0.0           0.0     0.0   \n",
       "\n",
       "     zyvox   zz  zzo  zzz  zzzz  \n",
       "854    0.0  0.0  0.0  0.0   0.0  \n",
       "855    0.0  0.0  0.0  0.0   0.0  \n",
       "\n",
       "[2 rows x 93181 columns]"
      ]
     },
     "execution_count": 38,
     "metadata": {},
     "output_type": "execute_result"
    }
   ],
   "source": [
    "test_tf_idf.tail(2)"
   ]
  },
  {
   "cell_type": "code",
   "execution_count": 39,
   "metadata": {},
   "outputs": [],
   "source": [
    "test_data = pd.merge(test, test_tf_idf, left_on='id', right_on='level_0')"
   ]
  },
  {
   "cell_type": "code",
   "execution_count": 40,
   "metadata": {},
   "outputs": [
    {
     "data": {
      "text/html": [
       "<div>\n",
       "<style scoped>\n",
       "    .dataframe tbody tr th:only-of-type {\n",
       "        vertical-align: middle;\n",
       "    }\n",
       "\n",
       "    .dataframe tbody tr th {\n",
       "        vertical-align: top;\n",
       "    }\n",
       "\n",
       "    .dataframe thead th {\n",
       "        text-align: right;\n",
       "    }\n",
       "</style>\n",
       "<table border=\"1\" class=\"dataframe\">\n",
       "  <thead>\n",
       "    <tr style=\"text-align: right;\">\n",
       "      <th></th>\n",
       "      <th>Unnamed: 0</th>\n",
       "      <th>id_x</th>\n",
       "      <th>cik</th>\n",
       "      <th>sw_rem_data</th>\n",
       "      <th>word_count_sw_rem</th>\n",
       "      <th>lemma_data</th>\n",
       "      <th>filing_year</th>\n",
       "      <th>lemma</th>\n",
       "      <th>lemma_list</th>\n",
       "      <th>level_0</th>\n",
       "      <th>...</th>\n",
       "      <th>zyprexa</th>\n",
       "      <th>zyrtec</th>\n",
       "      <th>zyrteczyrtec</th>\n",
       "      <th>zyrteczytrec</th>\n",
       "      <th>zytiga</th>\n",
       "      <th>zyvox</th>\n",
       "      <th>zz</th>\n",
       "      <th>zzo</th>\n",
       "      <th>zzz</th>\n",
       "      <th>zzzz</th>\n",
       "    </tr>\n",
       "  </thead>\n",
       "  <tbody>\n",
       "    <tr>\n",
       "      <th>0</th>\n",
       "      <td>0</td>\n",
       "      <td>0</td>\n",
       "      <td>40533</td>\n",
       "      <td>['TABLE', 'OF', 'CONTENTS', 'UNITED', 'STATES'...</td>\n",
       "      <td>41108</td>\n",
       "      <td>['TABLE', 'OF', 'CONTENTS', 'UNITED', 'STATES'...</td>\n",
       "      <td>2012</td>\n",
       "      <td>TABLE OF CONTENTS UNITED STATES SECURITIES AND...</td>\n",
       "      <td>[TABLE, OF, CONTENTS, UNITED, STATES, SECURITI...</td>\n",
       "      <td>0</td>\n",
       "      <td>...</td>\n",
       "      <td>0.0</td>\n",
       "      <td>0.0</td>\n",
       "      <td>0.0</td>\n",
       "      <td>0.0</td>\n",
       "      <td>0.0</td>\n",
       "      <td>0.0</td>\n",
       "      <td>0.0</td>\n",
       "      <td>0.0</td>\n",
       "      <td>0.0</td>\n",
       "      <td>0.0</td>\n",
       "    </tr>\n",
       "    <tr>\n",
       "      <th>1</th>\n",
       "      <td>1</td>\n",
       "      <td>1</td>\n",
       "      <td>36270</td>\n",
       "      <td>['UNITED', 'STATES', 'SECURITIES', 'AND', 'EXC...</td>\n",
       "      <td>37429</td>\n",
       "      <td>['UNITED', 'STATES', 'SECURITIES', 'AND', 'EXC...</td>\n",
       "      <td>1999</td>\n",
       "      <td>UNITED STATES SECURITIES AND EXCHANGE COMMISSI...</td>\n",
       "      <td>[UNITED, STATES, SECURITIES, AND, EXCHANGE, CO...</td>\n",
       "      <td>1</td>\n",
       "      <td>...</td>\n",
       "      <td>0.0</td>\n",
       "      <td>0.0</td>\n",
       "      <td>0.0</td>\n",
       "      <td>0.0</td>\n",
       "      <td>0.0</td>\n",
       "      <td>0.0</td>\n",
       "      <td>0.0</td>\n",
       "      <td>0.0</td>\n",
       "      <td>0.0</td>\n",
       "      <td>0.0</td>\n",
       "    </tr>\n",
       "    <tr>\n",
       "      <th>2</th>\n",
       "      <td>2</td>\n",
       "      <td>2</td>\n",
       "      <td>315852</td>\n",
       "      <td>['TABLE', 'OF', 'CONTENTS', 'SECURITIES', 'AND...</td>\n",
       "      <td>29882</td>\n",
       "      <td>['TABLE', 'OF', 'CONTENTS', 'SECURITIES', 'AND...</td>\n",
       "      <td>2001</td>\n",
       "      <td>TABLE OF CONTENTS SECURITIES AND EXCHANGE COMM...</td>\n",
       "      <td>[TABLE, OF, CONTENTS, SECURITIES, AND, EXCHANG...</td>\n",
       "      <td>2</td>\n",
       "      <td>...</td>\n",
       "      <td>0.0</td>\n",
       "      <td>0.0</td>\n",
       "      <td>0.0</td>\n",
       "      <td>0.0</td>\n",
       "      <td>0.0</td>\n",
       "      <td>0.0</td>\n",
       "      <td>0.0</td>\n",
       "      <td>0.0</td>\n",
       "      <td>0.0</td>\n",
       "      <td>0.0</td>\n",
       "    </tr>\n",
       "    <tr>\n",
       "      <th>3</th>\n",
       "      <td>3</td>\n",
       "      <td>3</td>\n",
       "      <td>920148</td>\n",
       "      <td>['UNITED', 'STATES', 'SECURITIES', 'AND', 'EXC...</td>\n",
       "      <td>43991</td>\n",
       "      <td>['UNITED', 'STATES', 'SECURITIES', 'AND', 'EXC...</td>\n",
       "      <td>2009</td>\n",
       "      <td>UNITED STATES SECURITIES AND EXCHANGE COMMISSI...</td>\n",
       "      <td>[UNITED, STATES, SECURITIES, AND, EXCHANGE, CO...</td>\n",
       "      <td>3</td>\n",
       "      <td>...</td>\n",
       "      <td>0.0</td>\n",
       "      <td>0.0</td>\n",
       "      <td>0.0</td>\n",
       "      <td>0.0</td>\n",
       "      <td>0.0</td>\n",
       "      <td>0.0</td>\n",
       "      <td>0.0</td>\n",
       "      <td>0.0</td>\n",
       "      <td>0.0</td>\n",
       "      <td>0.0</td>\n",
       "    </tr>\n",
       "    <tr>\n",
       "      <th>4</th>\n",
       "      <td>4</td>\n",
       "      <td>4</td>\n",
       "      <td>96021</td>\n",
       "      <td>['UNITED', 'STATES', 'SECURITIES', 'AND', 'EXC...</td>\n",
       "      <td>28766</td>\n",
       "      <td>['UNITED', 'STATES', 'SECURITIES', 'AND', 'EXC...</td>\n",
       "      <td>2004</td>\n",
       "      <td>UNITED STATES SECURITIES AND EXCHANGE COMMISSI...</td>\n",
       "      <td>[UNITED, STATES, SECURITIES, AND, EXCHANGE, CO...</td>\n",
       "      <td>4</td>\n",
       "      <td>...</td>\n",
       "      <td>0.0</td>\n",
       "      <td>0.0</td>\n",
       "      <td>0.0</td>\n",
       "      <td>0.0</td>\n",
       "      <td>0.0</td>\n",
       "      <td>0.0</td>\n",
       "      <td>0.0</td>\n",
       "      <td>0.0</td>\n",
       "      <td>0.0</td>\n",
       "      <td>0.0</td>\n",
       "    </tr>\n",
       "  </tbody>\n",
       "</table>\n",
       "<p>5 rows × 93190 columns</p>\n",
       "</div>"
      ],
      "text/plain": [
       "   Unnamed: 0  id_x     cik  \\\n",
       "0           0     0   40533   \n",
       "1           1     1   36270   \n",
       "2           2     2  315852   \n",
       "3           3     3  920148   \n",
       "4           4     4   96021   \n",
       "\n",
       "                                         sw_rem_data  word_count_sw_rem  \\\n",
       "0  ['TABLE', 'OF', 'CONTENTS', 'UNITED', 'STATES'...              41108   \n",
       "1  ['UNITED', 'STATES', 'SECURITIES', 'AND', 'EXC...              37429   \n",
       "2  ['TABLE', 'OF', 'CONTENTS', 'SECURITIES', 'AND...              29882   \n",
       "3  ['UNITED', 'STATES', 'SECURITIES', 'AND', 'EXC...              43991   \n",
       "4  ['UNITED', 'STATES', 'SECURITIES', 'AND', 'EXC...              28766   \n",
       "\n",
       "                                          lemma_data  filing_year  \\\n",
       "0  ['TABLE', 'OF', 'CONTENTS', 'UNITED', 'STATES'...         2012   \n",
       "1  ['UNITED', 'STATES', 'SECURITIES', 'AND', 'EXC...         1999   \n",
       "2  ['TABLE', 'OF', 'CONTENTS', 'SECURITIES', 'AND...         2001   \n",
       "3  ['UNITED', 'STATES', 'SECURITIES', 'AND', 'EXC...         2009   \n",
       "4  ['UNITED', 'STATES', 'SECURITIES', 'AND', 'EXC...         2004   \n",
       "\n",
       "                                               lemma  \\\n",
       "0  TABLE OF CONTENTS UNITED STATES SECURITIES AND...   \n",
       "1  UNITED STATES SECURITIES AND EXCHANGE COMMISSI...   \n",
       "2  TABLE OF CONTENTS SECURITIES AND EXCHANGE COMM...   \n",
       "3  UNITED STATES SECURITIES AND EXCHANGE COMMISSI...   \n",
       "4  UNITED STATES SECURITIES AND EXCHANGE COMMISSI...   \n",
       "\n",
       "                                          lemma_list  level_0  ...  zyprexa  \\\n",
       "0  [TABLE, OF, CONTENTS, UNITED, STATES, SECURITI...        0  ...      0.0   \n",
       "1  [UNITED, STATES, SECURITIES, AND, EXCHANGE, CO...        1  ...      0.0   \n",
       "2  [TABLE, OF, CONTENTS, SECURITIES, AND, EXCHANG...        2  ...      0.0   \n",
       "3  [UNITED, STATES, SECURITIES, AND, EXCHANGE, CO...        3  ...      0.0   \n",
       "4  [UNITED, STATES, SECURITIES, AND, EXCHANGE, CO...        4  ...      0.0   \n",
       "\n",
       "   zyrtec  zyrteczyrtec  zyrteczytrec  zytiga  zyvox   zz  zzo  zzz  zzzz  \n",
       "0     0.0           0.0           0.0     0.0    0.0  0.0  0.0  0.0   0.0  \n",
       "1     0.0           0.0           0.0     0.0    0.0  0.0  0.0  0.0   0.0  \n",
       "2     0.0           0.0           0.0     0.0    0.0  0.0  0.0  0.0   0.0  \n",
       "3     0.0           0.0           0.0     0.0    0.0  0.0  0.0  0.0   0.0  \n",
       "4     0.0           0.0           0.0     0.0    0.0  0.0  0.0  0.0   0.0  \n",
       "\n",
       "[5 rows x 93190 columns]"
      ]
     },
     "execution_count": 40,
     "metadata": {},
     "output_type": "execute_result"
    }
   ],
   "source": [
    "test_data.head()"
   ]
  },
  {
   "cell_type": "markdown",
   "metadata": {},
   "source": [
    "## Preparing the dataframe for modelling"
   ]
  },
  {
   "cell_type": "markdown",
   "metadata": {},
   "source": [
    "### Train"
   ]
  },
  {
   "cell_type": "code",
   "execution_count": 41,
   "metadata": {},
   "outputs": [],
   "source": [
    "df = data.drop(columns = ['Unnamed: 0', 'cik', 'sw_rem_data', 'lemma_data','lemma', 'lemma_list', 'level_0'])"
   ]
  },
  {
   "cell_type": "code",
   "execution_count": 42,
   "metadata": {},
   "outputs": [
    {
     "data": {
      "text/html": [
       "<div>\n",
       "<style scoped>\n",
       "    .dataframe tbody tr th:only-of-type {\n",
       "        vertical-align: middle;\n",
       "    }\n",
       "\n",
       "    .dataframe tbody tr th {\n",
       "        vertical-align: top;\n",
       "    }\n",
       "\n",
       "    .dataframe thead th {\n",
       "        text-align: right;\n",
       "    }\n",
       "</style>\n",
       "<table border=\"1\" class=\"dataframe\">\n",
       "  <thead>\n",
       "    <tr style=\"text-align: right;\">\n",
       "      <th></th>\n",
       "      <th>long_term_outlook</th>\n",
       "      <th>word_count_sw_rem</th>\n",
       "      <th>filing_year</th>\n",
       "      <th>aa</th>\n",
       "      <th>aaa</th>\n",
       "      <th>aaaa</th>\n",
       "      <th>aaaaa</th>\n",
       "      <th>aaaaaa</th>\n",
       "      <th>aaaaaaaaa</th>\n",
       "      <th>aaaamendment</th>\n",
       "      <th>...</th>\n",
       "      <th>zyprexa</th>\n",
       "      <th>zyrtec</th>\n",
       "      <th>zyrteczyrtec</th>\n",
       "      <th>zyrteczytrec</th>\n",
       "      <th>zytiga</th>\n",
       "      <th>zyvox</th>\n",
       "      <th>zz</th>\n",
       "      <th>zzo</th>\n",
       "      <th>zzz</th>\n",
       "      <th>zzzz</th>\n",
       "    </tr>\n",
       "  </thead>\n",
       "  <tbody>\n",
       "    <tr>\n",
       "      <th>0</th>\n",
       "      <td>1</td>\n",
       "      <td>30809</td>\n",
       "      <td>2000</td>\n",
       "      <td>0.001035</td>\n",
       "      <td>0.0</td>\n",
       "      <td>0.0</td>\n",
       "      <td>0.0</td>\n",
       "      <td>0.0</td>\n",
       "      <td>0.0</td>\n",
       "      <td>0.0</td>\n",
       "      <td>...</td>\n",
       "      <td>0.0</td>\n",
       "      <td>0.0</td>\n",
       "      <td>0.0</td>\n",
       "      <td>0.0</td>\n",
       "      <td>0.0</td>\n",
       "      <td>0.0</td>\n",
       "      <td>0.0</td>\n",
       "      <td>0.0</td>\n",
       "      <td>0.0</td>\n",
       "      <td>0.0</td>\n",
       "    </tr>\n",
       "    <tr>\n",
       "      <th>1</th>\n",
       "      <td>0</td>\n",
       "      <td>20607</td>\n",
       "      <td>2008</td>\n",
       "      <td>0.000000</td>\n",
       "      <td>0.0</td>\n",
       "      <td>0.0</td>\n",
       "      <td>0.0</td>\n",
       "      <td>0.0</td>\n",
       "      <td>0.0</td>\n",
       "      <td>0.0</td>\n",
       "      <td>...</td>\n",
       "      <td>0.0</td>\n",
       "      <td>0.0</td>\n",
       "      <td>0.0</td>\n",
       "      <td>0.0</td>\n",
       "      <td>0.0</td>\n",
       "      <td>0.0</td>\n",
       "      <td>0.0</td>\n",
       "      <td>0.0</td>\n",
       "      <td>0.0</td>\n",
       "      <td>0.0</td>\n",
       "    </tr>\n",
       "    <tr>\n",
       "      <th>2</th>\n",
       "      <td>1</td>\n",
       "      <td>17325</td>\n",
       "      <td>2009</td>\n",
       "      <td>0.000000</td>\n",
       "      <td>0.0</td>\n",
       "      <td>0.0</td>\n",
       "      <td>0.0</td>\n",
       "      <td>0.0</td>\n",
       "      <td>0.0</td>\n",
       "      <td>0.0</td>\n",
       "      <td>...</td>\n",
       "      <td>0.0</td>\n",
       "      <td>0.0</td>\n",
       "      <td>0.0</td>\n",
       "      <td>0.0</td>\n",
       "      <td>0.0</td>\n",
       "      <td>0.0</td>\n",
       "      <td>0.0</td>\n",
       "      <td>0.0</td>\n",
       "      <td>0.0</td>\n",
       "      <td>0.0</td>\n",
       "    </tr>\n",
       "  </tbody>\n",
       "</table>\n",
       "<p>3 rows × 93183 columns</p>\n",
       "</div>"
      ],
      "text/plain": [
       "   long_term_outlook  word_count_sw_rem  filing_year        aa  aaa  aaaa  \\\n",
       "0                  1              30809         2000  0.001035  0.0   0.0   \n",
       "1                  0              20607         2008  0.000000  0.0   0.0   \n",
       "2                  1              17325         2009  0.000000  0.0   0.0   \n",
       "\n",
       "   aaaaa  aaaaaa  aaaaaaaaa  aaaamendment  ...  zyprexa  zyrtec  zyrteczyrtec  \\\n",
       "0    0.0     0.0        0.0           0.0  ...      0.0     0.0           0.0   \n",
       "1    0.0     0.0        0.0           0.0  ...      0.0     0.0           0.0   \n",
       "2    0.0     0.0        0.0           0.0  ...      0.0     0.0           0.0   \n",
       "\n",
       "   zyrteczytrec  zytiga  zyvox   zz  zzo  zzz  zzzz  \n",
       "0           0.0     0.0    0.0  0.0  0.0  0.0   0.0  \n",
       "1           0.0     0.0    0.0  0.0  0.0  0.0   0.0  \n",
       "2           0.0     0.0    0.0  0.0  0.0  0.0   0.0  \n",
       "\n",
       "[3 rows x 93183 columns]"
      ]
     },
     "execution_count": 42,
     "metadata": {},
     "output_type": "execute_result"
    }
   ],
   "source": [
    "df.head(3)"
   ]
  },
  {
   "cell_type": "code",
   "execution_count": 43,
   "metadata": {
    "scrolled": false
   },
   "outputs": [
    {
     "data": {
      "text/plain": [
       "long_term_outlook      int64\n",
       "word_count_sw_rem      int64\n",
       "filing_year            int64\n",
       "aa                   float64\n",
       "aaa                  float64\n",
       "aaaa                 float64\n",
       "aaaaa                float64\n",
       "aaaaaa               float64\n",
       "aaaaaaaaa            float64\n",
       "aaaamendment         float64\n",
       "aaasf                float64\n",
       "aaasuperior          float64\n",
       "aaav                 float64\n",
       "aabb                 float64\n",
       "aabf                 float64\n",
       "aac                  float64\n",
       "aachen               float64\n",
       "aacp                 float64\n",
       "aacps                float64\n",
       "aacquired            float64\n",
       "aacr                 float64\n",
       "aad                  float64\n",
       "aadvantage           float64\n",
       "aaffiliate           float64\n",
       "aafrica              float64\n",
       "aag                  float64\n",
       "aah                  float64\n",
       "aahru                float64\n",
       "aai                  float64\n",
       "aaik                 float64\n",
       "                      ...   \n",
       "zydelig              float64\n",
       "zyderm               float64\n",
       "zydis                float64\n",
       "zydus                float64\n",
       "zygo                 float64\n",
       "zygocki              float64\n",
       "zyloprim             float64\n",
       "zyloprimr            float64\n",
       "zyman                float64\n",
       "zymanczyk            float64\n",
       "zymar                float64\n",
       "zymaxid              float64\n",
       "zymogenetics         float64\n",
       "zync                 float64\n",
       "zynga                float64\n",
       "zynq                 float64\n",
       "zynx                 float64\n",
       "zyp                  float64\n",
       "zypadhera            float64\n",
       "zyplast              float64\n",
       "zyprexa              float64\n",
       "zyrtec               float64\n",
       "zyrteczyrtec         float64\n",
       "zyrteczytrec         float64\n",
       "zytiga               float64\n",
       "zyvox                float64\n",
       "zz                   float64\n",
       "zzo                  float64\n",
       "zzz                  float64\n",
       "zzzz                 float64\n",
       "Length: 93183, dtype: object"
      ]
     },
     "execution_count": 43,
     "metadata": {},
     "output_type": "execute_result"
    }
   ],
   "source": [
    "df.dtypes"
   ]
  },
  {
   "cell_type": "code",
   "execution_count": 135,
   "metadata": {},
   "outputs": [],
   "source": [
    "df.to_csv('Train_Tfidf_Final.csv')"
   ]
  },
  {
   "cell_type": "markdown",
   "metadata": {},
   "source": [
    "### Test"
   ]
  },
  {
   "cell_type": "code",
   "execution_count": 44,
   "metadata": {},
   "outputs": [],
   "source": [
    "test_df = test_data.drop(columns = ['Unnamed: 0', 'cik', 'sw_rem_data', 'lemma_data','lemma', 'lemma_list', 'level_0'])"
   ]
  },
  {
   "cell_type": "code",
   "execution_count": 45,
   "metadata": {},
   "outputs": [
    {
     "data": {
      "text/html": [
       "<div>\n",
       "<style scoped>\n",
       "    .dataframe tbody tr th:only-of-type {\n",
       "        vertical-align: middle;\n",
       "    }\n",
       "\n",
       "    .dataframe tbody tr th {\n",
       "        vertical-align: top;\n",
       "    }\n",
       "\n",
       "    .dataframe thead th {\n",
       "        text-align: right;\n",
       "    }\n",
       "</style>\n",
       "<table border=\"1\" class=\"dataframe\">\n",
       "  <thead>\n",
       "    <tr style=\"text-align: right;\">\n",
       "      <th></th>\n",
       "      <th>id_x</th>\n",
       "      <th>word_count_sw_rem</th>\n",
       "      <th>filing_year</th>\n",
       "      <th>aa</th>\n",
       "      <th>aaa</th>\n",
       "      <th>aaaa</th>\n",
       "      <th>aaaaa</th>\n",
       "      <th>aaaaaa</th>\n",
       "      <th>aaaaaaaaa</th>\n",
       "      <th>aaaamendment</th>\n",
       "      <th>...</th>\n",
       "      <th>zyprexa</th>\n",
       "      <th>zyrtec</th>\n",
       "      <th>zyrteczyrtec</th>\n",
       "      <th>zyrteczytrec</th>\n",
       "      <th>zytiga</th>\n",
       "      <th>zyvox</th>\n",
       "      <th>zz</th>\n",
       "      <th>zzo</th>\n",
       "      <th>zzz</th>\n",
       "      <th>zzzz</th>\n",
       "    </tr>\n",
       "  </thead>\n",
       "  <tbody>\n",
       "    <tr>\n",
       "      <th>851</th>\n",
       "      <td>851</td>\n",
       "      <td>18992</td>\n",
       "      <td>2014</td>\n",
       "      <td>0.0</td>\n",
       "      <td>0.0</td>\n",
       "      <td>0.0</td>\n",
       "      <td>0.0</td>\n",
       "      <td>0.0</td>\n",
       "      <td>0.0</td>\n",
       "      <td>0.0</td>\n",
       "      <td>...</td>\n",
       "      <td>0.0</td>\n",
       "      <td>0.0</td>\n",
       "      <td>0.0</td>\n",
       "      <td>0.0</td>\n",
       "      <td>0.0</td>\n",
       "      <td>0.0</td>\n",
       "      <td>0.0</td>\n",
       "      <td>0.0</td>\n",
       "      <td>0.0</td>\n",
       "      <td>0.0</td>\n",
       "    </tr>\n",
       "    <tr>\n",
       "      <th>852</th>\n",
       "      <td>852</td>\n",
       "      <td>62174</td>\n",
       "      <td>2005</td>\n",
       "      <td>0.0</td>\n",
       "      <td>0.0</td>\n",
       "      <td>0.0</td>\n",
       "      <td>0.0</td>\n",
       "      <td>0.0</td>\n",
       "      <td>0.0</td>\n",
       "      <td>0.0</td>\n",
       "      <td>...</td>\n",
       "      <td>0.0</td>\n",
       "      <td>0.0</td>\n",
       "      <td>0.0</td>\n",
       "      <td>0.0</td>\n",
       "      <td>0.0</td>\n",
       "      <td>0.0</td>\n",
       "      <td>0.0</td>\n",
       "      <td>0.0</td>\n",
       "      <td>0.0</td>\n",
       "      <td>0.0</td>\n",
       "    </tr>\n",
       "    <tr>\n",
       "      <th>853</th>\n",
       "      <td>853</td>\n",
       "      <td>56179</td>\n",
       "      <td>2013</td>\n",
       "      <td>0.0</td>\n",
       "      <td>0.0</td>\n",
       "      <td>0.0</td>\n",
       "      <td>0.0</td>\n",
       "      <td>0.0</td>\n",
       "      <td>0.0</td>\n",
       "      <td>0.0</td>\n",
       "      <td>...</td>\n",
       "      <td>0.0</td>\n",
       "      <td>0.0</td>\n",
       "      <td>0.0</td>\n",
       "      <td>0.0</td>\n",
       "      <td>0.0</td>\n",
       "      <td>0.0</td>\n",
       "      <td>0.0</td>\n",
       "      <td>0.0</td>\n",
       "      <td>0.0</td>\n",
       "      <td>0.0</td>\n",
       "    </tr>\n",
       "    <tr>\n",
       "      <th>854</th>\n",
       "      <td>854</td>\n",
       "      <td>47351</td>\n",
       "      <td>2012</td>\n",
       "      <td>0.0</td>\n",
       "      <td>0.0</td>\n",
       "      <td>0.0</td>\n",
       "      <td>0.0</td>\n",
       "      <td>0.0</td>\n",
       "      <td>0.0</td>\n",
       "      <td>0.0</td>\n",
       "      <td>...</td>\n",
       "      <td>0.0</td>\n",
       "      <td>0.0</td>\n",
       "      <td>0.0</td>\n",
       "      <td>0.0</td>\n",
       "      <td>0.0</td>\n",
       "      <td>0.0</td>\n",
       "      <td>0.0</td>\n",
       "      <td>0.0</td>\n",
       "      <td>0.0</td>\n",
       "      <td>0.0</td>\n",
       "    </tr>\n",
       "    <tr>\n",
       "      <th>855</th>\n",
       "      <td>855</td>\n",
       "      <td>52851</td>\n",
       "      <td>2011</td>\n",
       "      <td>0.0</td>\n",
       "      <td>0.0</td>\n",
       "      <td>0.0</td>\n",
       "      <td>0.0</td>\n",
       "      <td>0.0</td>\n",
       "      <td>0.0</td>\n",
       "      <td>0.0</td>\n",
       "      <td>...</td>\n",
       "      <td>0.0</td>\n",
       "      <td>0.0</td>\n",
       "      <td>0.0</td>\n",
       "      <td>0.0</td>\n",
       "      <td>0.0</td>\n",
       "      <td>0.0</td>\n",
       "      <td>0.0</td>\n",
       "      <td>0.0</td>\n",
       "      <td>0.0</td>\n",
       "      <td>0.0</td>\n",
       "    </tr>\n",
       "  </tbody>\n",
       "</table>\n",
       "<p>5 rows × 93183 columns</p>\n",
       "</div>"
      ],
      "text/plain": [
       "     id_x  word_count_sw_rem  filing_year   aa  aaa  aaaa  aaaaa  aaaaaa  \\\n",
       "851   851              18992         2014  0.0  0.0   0.0    0.0     0.0   \n",
       "852   852              62174         2005  0.0  0.0   0.0    0.0     0.0   \n",
       "853   853              56179         2013  0.0  0.0   0.0    0.0     0.0   \n",
       "854   854              47351         2012  0.0  0.0   0.0    0.0     0.0   \n",
       "855   855              52851         2011  0.0  0.0   0.0    0.0     0.0   \n",
       "\n",
       "     aaaaaaaaa  aaaamendment  ...  zyprexa  zyrtec  zyrteczyrtec  \\\n",
       "851        0.0           0.0  ...      0.0     0.0           0.0   \n",
       "852        0.0           0.0  ...      0.0     0.0           0.0   \n",
       "853        0.0           0.0  ...      0.0     0.0           0.0   \n",
       "854        0.0           0.0  ...      0.0     0.0           0.0   \n",
       "855        0.0           0.0  ...      0.0     0.0           0.0   \n",
       "\n",
       "     zyrteczytrec  zytiga  zyvox   zz  zzo  zzz  zzzz  \n",
       "851           0.0     0.0    0.0  0.0  0.0  0.0   0.0  \n",
       "852           0.0     0.0    0.0  0.0  0.0  0.0   0.0  \n",
       "853           0.0     0.0    0.0  0.0  0.0  0.0   0.0  \n",
       "854           0.0     0.0    0.0  0.0  0.0  0.0   0.0  \n",
       "855           0.0     0.0    0.0  0.0  0.0  0.0   0.0  \n",
       "\n",
       "[5 rows x 93183 columns]"
      ]
     },
     "execution_count": 45,
     "metadata": {},
     "output_type": "execute_result"
    }
   ],
   "source": [
    "test_df.tail()"
   ]
  },
  {
   "cell_type": "code",
   "execution_count": 46,
   "metadata": {},
   "outputs": [
    {
     "data": {
      "text/plain": [
       "(856, 93183)"
      ]
     },
     "execution_count": 46,
     "metadata": {},
     "output_type": "execute_result"
    }
   ],
   "source": [
    "test_df.shape"
   ]
  },
  {
   "cell_type": "code",
   "execution_count": 134,
   "metadata": {},
   "outputs": [],
   "source": [
    "test_df.to_csv('Test_Tfidf_final.csv')"
   ]
  },
  {
   "cell_type": "markdown",
   "metadata": {},
   "source": [
    "## Splitting dataframe"
   ]
  },
  {
   "cell_type": "code",
   "execution_count": 47,
   "metadata": {},
   "outputs": [],
   "source": [
    "from sklearn.model_selection import train_test_split"
   ]
  },
  {
   "cell_type": "markdown",
   "metadata": {},
   "source": [
    "### Train"
   ]
  },
  {
   "cell_type": "code",
   "execution_count": 48,
   "metadata": {},
   "outputs": [],
   "source": [
    "X = df.drop(columns = 'long_term_outlook')\n",
    "y = df['long_term_outlook']"
   ]
  },
  {
   "cell_type": "code",
   "execution_count": 49,
   "metadata": {},
   "outputs": [],
   "source": [
    "x_train, x_val, y_train, y_val = train_test_split(X, y, test_size = 0.2, random_state = 99, stratify = y)"
   ]
  },
  {
   "cell_type": "code",
   "execution_count": 50,
   "metadata": {},
   "outputs": [
    {
     "name": "stdout",
     "output_type": "stream",
     "text": [
      "X Train dimensions: \n",
      "\n",
      " (1878, 93182) \n",
      "\n",
      "X Validation dimensions: \n",
      "\n",
      " (470, 93182) \n",
      "\n",
      "Y Train dimensions:\n",
      "\n",
      " (1878,) \n",
      "\n",
      " Y Validation dimensions: \n",
      "\n",
      " (470,)\n"
     ]
    }
   ],
   "source": [
    "print('X Train dimensions: \\n\\n', x_train.shape, '\\n\\nX Validation dimensions: \\n\\n', x_val.shape, \n",
    "      '\\n\\nY Train dimensions:\\n\\n', y_train.shape, '\\n\\n Y Validation dimensions: \\n\\n', y_val.shape)"
   ]
  },
  {
   "cell_type": "markdown",
   "metadata": {},
   "source": [
    "### Test"
   ]
  },
  {
   "cell_type": "code",
   "execution_count": 51,
   "metadata": {},
   "outputs": [],
   "source": [
    "x_test = test_df.drop(columns = ['id_x'])"
   ]
  },
  {
   "cell_type": "code",
   "execution_count": 52,
   "metadata": {},
   "outputs": [
    {
     "data": {
      "text/html": [
       "<div>\n",
       "<style scoped>\n",
       "    .dataframe tbody tr th:only-of-type {\n",
       "        vertical-align: middle;\n",
       "    }\n",
       "\n",
       "    .dataframe tbody tr th {\n",
       "        vertical-align: top;\n",
       "    }\n",
       "\n",
       "    .dataframe thead th {\n",
       "        text-align: right;\n",
       "    }\n",
       "</style>\n",
       "<table border=\"1\" class=\"dataframe\">\n",
       "  <thead>\n",
       "    <tr style=\"text-align: right;\">\n",
       "      <th></th>\n",
       "      <th>word_count_sw_rem</th>\n",
       "      <th>filing_year</th>\n",
       "      <th>aa</th>\n",
       "      <th>aaa</th>\n",
       "      <th>aaaa</th>\n",
       "      <th>aaaaa</th>\n",
       "      <th>aaaaaa</th>\n",
       "      <th>aaaaaaaaa</th>\n",
       "      <th>aaaamendment</th>\n",
       "      <th>aaasf</th>\n",
       "      <th>...</th>\n",
       "      <th>zyprexa</th>\n",
       "      <th>zyrtec</th>\n",
       "      <th>zyrteczyrtec</th>\n",
       "      <th>zyrteczytrec</th>\n",
       "      <th>zytiga</th>\n",
       "      <th>zyvox</th>\n",
       "      <th>zz</th>\n",
       "      <th>zzo</th>\n",
       "      <th>zzz</th>\n",
       "      <th>zzzz</th>\n",
       "    </tr>\n",
       "  </thead>\n",
       "  <tbody>\n",
       "    <tr>\n",
       "      <th>0</th>\n",
       "      <td>41108</td>\n",
       "      <td>2012</td>\n",
       "      <td>0.003927</td>\n",
       "      <td>0.0</td>\n",
       "      <td>0.0</td>\n",
       "      <td>0.0</td>\n",
       "      <td>0.0</td>\n",
       "      <td>0.0</td>\n",
       "      <td>0.0</td>\n",
       "      <td>0.0</td>\n",
       "      <td>...</td>\n",
       "      <td>0.0</td>\n",
       "      <td>0.0</td>\n",
       "      <td>0.0</td>\n",
       "      <td>0.0</td>\n",
       "      <td>0.0</td>\n",
       "      <td>0.0</td>\n",
       "      <td>0.0</td>\n",
       "      <td>0.0</td>\n",
       "      <td>0.0</td>\n",
       "      <td>0.0</td>\n",
       "    </tr>\n",
       "    <tr>\n",
       "      <th>1</th>\n",
       "      <td>37429</td>\n",
       "      <td>1999</td>\n",
       "      <td>0.000000</td>\n",
       "      <td>0.0</td>\n",
       "      <td>0.0</td>\n",
       "      <td>0.0</td>\n",
       "      <td>0.0</td>\n",
       "      <td>0.0</td>\n",
       "      <td>0.0</td>\n",
       "      <td>0.0</td>\n",
       "      <td>...</td>\n",
       "      <td>0.0</td>\n",
       "      <td>0.0</td>\n",
       "      <td>0.0</td>\n",
       "      <td>0.0</td>\n",
       "      <td>0.0</td>\n",
       "      <td>0.0</td>\n",
       "      <td>0.0</td>\n",
       "      <td>0.0</td>\n",
       "      <td>0.0</td>\n",
       "      <td>0.0</td>\n",
       "    </tr>\n",
       "  </tbody>\n",
       "</table>\n",
       "<p>2 rows × 93182 columns</p>\n",
       "</div>"
      ],
      "text/plain": [
       "   word_count_sw_rem  filing_year        aa  aaa  aaaa  aaaaa  aaaaaa  \\\n",
       "0              41108         2012  0.003927  0.0   0.0    0.0     0.0   \n",
       "1              37429         1999  0.000000  0.0   0.0    0.0     0.0   \n",
       "\n",
       "   aaaaaaaaa  aaaamendment  aaasf  ...  zyprexa  zyrtec  zyrteczyrtec  \\\n",
       "0        0.0           0.0    0.0  ...      0.0     0.0           0.0   \n",
       "1        0.0           0.0    0.0  ...      0.0     0.0           0.0   \n",
       "\n",
       "   zyrteczytrec  zytiga  zyvox   zz  zzo  zzz  zzzz  \n",
       "0           0.0     0.0    0.0  0.0  0.0  0.0   0.0  \n",
       "1           0.0     0.0    0.0  0.0  0.0  0.0   0.0  \n",
       "\n",
       "[2 rows x 93182 columns]"
      ]
     },
     "execution_count": 52,
     "metadata": {},
     "output_type": "execute_result"
    }
   ],
   "source": [
    "x_test.head(2)"
   ]
  },
  {
   "cell_type": "markdown",
   "metadata": {},
   "source": [
    "## Model Building"
   ]
  },
  {
   "cell_type": "markdown",
   "metadata": {},
   "source": [
    "### Load Error Metrics"
   ]
  },
  {
   "cell_type": "code",
   "execution_count": 53,
   "metadata": {},
   "outputs": [],
   "source": [
    "from sklearn.metrics import classification_report,confusion_matrix,accuracy_score,recall_score,f1_score,precision_score\n",
    "from sklearn.metrics import roc_curve,log_loss,auc"
   ]
  },
  {
   "cell_type": "markdown",
   "metadata": {},
   "source": [
    "### Logistic Regression"
   ]
  },
  {
   "cell_type": "code",
   "execution_count": 54,
   "metadata": {},
   "outputs": [],
   "source": [
    "from sklearn.linear_model import LogisticRegressionCV\n",
    "logreg_cv = LogisticRegressionCV(cv = 10, random_state=0, class_weight = 'balanced')\n",
    "from sklearn import metrics\n",
    "%matplotlib inline"
   ]
  },
  {
   "cell_type": "code",
   "execution_count": 55,
   "metadata": {},
   "outputs": [],
   "source": [
    "import matplotlib.pyplot as plt"
   ]
  },
  {
   "cell_type": "markdown",
   "metadata": {},
   "source": [
    "#### Train and Validation"
   ]
  },
  {
   "cell_type": "code",
   "execution_count": 56,
   "metadata": {},
   "outputs": [
    {
     "data": {
      "text/plain": [
       "LogisticRegressionCV(Cs=10, class_weight='balanced', cv=10, dual=False,\n",
       "           fit_intercept=True, intercept_scaling=1.0, max_iter=100,\n",
       "           multi_class='warn', n_jobs=None, penalty='l2', random_state=0,\n",
       "           refit=True, scoring=None, solver='lbfgs', tol=0.0001, verbose=0)"
      ]
     },
     "execution_count": 56,
     "metadata": {},
     "output_type": "execute_result"
    }
   ],
   "source": [
    "logreg_cv.fit(x_train, y_train)"
   ]
  },
  {
   "cell_type": "code",
   "execution_count": 57,
   "metadata": {},
   "outputs": [],
   "source": [
    "y_log_pred = logreg_cv.predict(x_val)\n",
    "y_log_train = logreg_cv.predict(x_train)"
   ]
  },
  {
   "cell_type": "code",
   "execution_count": 58,
   "metadata": {},
   "outputs": [],
   "source": [
    "y_log_val_proba = logreg_cv.predict_proba(x_val)[::,1]"
   ]
  },
  {
   "cell_type": "code",
   "execution_count": 59,
   "metadata": {},
   "outputs": [
    {
     "data": {
      "image/png": "[encoded data removed]",
      "text/plain": [
       "<Figure size 432x288 with 1 Axes>"
      ]
     },
     "metadata": {
      "needs_background": "light"
     },
     "output_type": "display_data"
    }
   ],
   "source": [
    "fpr, tpr, _ = metrics.roc_curve(y_val,  y_log_val_proba)\n",
    "auc = metrics.roc_auc_score(y_val, y_log_val_proba)\n",
    "plt.plot(fpr,tpr,label = str(auc))\n",
    "plt.legend(loc=4)\n",
    "plt.show()"
   ]
  },
  {
   "cell_type": "markdown",
   "metadata": {},
   "source": [
    "AUC is 0.45, it means model has no class separation capacity."
   ]
  },
  {
   "cell_type": "code",
   "execution_count": 60,
   "metadata": {},
   "outputs": [
    {
     "name": "stdout",
     "output_type": "stream",
     "text": [
      "=========================== \n",
      "\n",
      " TRAIN DATA METRICS\n",
      "\n",
      "\n",
      "=========================== \n",
      "\n",
      " Confusion Matrix\n",
      "\n",
      " [[329 212]\n",
      " [537 800]]\n",
      "\n",
      "\n",
      "========================== \n",
      "\n",
      " Accuracy Score\n",
      "\n",
      " 0.601171458998935\n",
      "\n",
      "\n",
      "========================== \n",
      "\n",
      " F1 Score for Class 0\n",
      "\n",
      " 0.46766169154228854\n",
      "\n",
      "\n",
      "========================== \n",
      "\n",
      " F1 Score for Class 1\n",
      "\n",
      " 0.6811409110259685\n",
      "\n",
      "\n",
      "========================== \n",
      "\n",
      " Average F1 Score\n",
      "\n",
      " 0.6811409110259685\n",
      "=========================== \n",
      "\n",
      " VALIDATION DATA METRICS\n",
      "\n",
      "\n",
      "=========================== \n",
      "\n",
      " Confusion Matrix\n",
      "\n",
      " [[ 82  53]\n",
      " [164 171]]\n",
      "\n",
      "\n",
      "========================== \n",
      "\n",
      " Accuracy Score\n",
      "\n",
      " 0.5382978723404256\n",
      "\n",
      "\n",
      "========================== \n",
      "\n",
      " F1 Score for Class 0\n",
      "\n",
      " 0.4304461942257218\n",
      "\n",
      "\n",
      "========================== \n",
      "\n",
      " F1 Score for Class 1\n",
      "\n",
      " 0.6118067978533096\n",
      "\n",
      "\n",
      "========================== \n",
      "\n",
      " Average F1 Score\n",
      "\n",
      " 0.6118067978533096\n"
     ]
    }
   ],
   "source": [
    "### Train Data Accuracy - Log Reg\n",
    "print(\"=========================== \\n\\n TRAIN DATA METRICS\\n\\n\") \n",
    "print(\"=========================== \\n\\n Confusion Matrix\\n\\n\", confusion_matrix(y_train, y_log_train))\n",
    "print(\"\\n\\n========================== \\n\\n Accuracy Score\\n\\n\",accuracy_score(y_train, y_log_train))\n",
    "print(\"\\n\\n========================== \\n\\n F1 Score for Class 0\\n\\n\",f1_score(y_train, y_log_train, pos_label=0))\n",
    "print(\"\\n\\n========================== \\n\\n F1 Score for Class 1\\n\\n\",f1_score(y_train, y_log_train, pos_label=1))\n",
    "print(\"\\n\\n========================== \\n\\n Average F1 Score\\n\\n\", f1_score(y_train, y_log_train, pos_label=1)/2 + f1_score(y_train, y_log_train, pos_label=1)/2)\n",
    "\n",
    "### Val Data Accuracy - Log Reg\n",
    "print(\"=========================== \\n\\n VALIDATION DATA METRICS\\n\\n\") \n",
    "print(\"=========================== \\n\\n Confusion Matrix\\n\\n\", confusion_matrix(y_val, y_log_pred))\n",
    "print(\"\\n\\n========================== \\n\\n Accuracy Score\\n\\n\", accuracy_score(y_val, y_log_pred))\n",
    "print(\"\\n\\n========================== \\n\\n F1 Score for Class 0\\n\\n\", f1_score(y_val, y_log_pred, pos_label=0))\n",
    "print(\"\\n\\n========================== \\n\\n F1 Score for Class 1\\n\\n\", f1_score(y_val, y_log_pred, pos_label=1))\n",
    "print(\"\\n\\n========================== \\n\\n Average F1 Score\\n\\n\", f1_score(y_val, y_log_pred, pos_label=1)/2 + f1_score(y_val, y_log_pred, pos_label=1)/2)\n"
   ]
  },
  {
   "cell_type": "markdown",
   "metadata": {},
   "source": [
    "#### Test"
   ]
  },
  {
   "cell_type": "code",
   "execution_count": 61,
   "metadata": {},
   "outputs": [],
   "source": [
    "y_log_test = logreg_cv.predict(x_test)"
   ]
  },
  {
   "cell_type": "code",
   "execution_count": 62,
   "metadata": {},
   "outputs": [],
   "source": [
    "log_pred_file = {'id': test_df['id_x'], 'long_term_outlook': y_log_test}\n",
    "\n",
    "log_pred_file = pd.DataFrame(log_pred_file)\n",
    "\n",
    "log_pred_file.to_csv('Logistic_Regression_Prediction.csv', index = False)"
   ]
  },
  {
   "cell_type": "markdown",
   "metadata": {},
   "source": [
    "### Naive Bayes\n"
   ]
  },
  {
   "cell_type": "markdown",
   "metadata": {},
   "source": [
    "#### Load Algorithm"
   ]
  },
  {
   "cell_type": "code",
   "execution_count": 63,
   "metadata": {},
   "outputs": [],
   "source": [
    "from sklearn.naive_bayes import MultinomialNB"
   ]
  },
  {
   "cell_type": "markdown",
   "metadata": {},
   "source": [
    "#### Train and Validation"
   ]
  },
  {
   "cell_type": "code",
   "execution_count": 64,
   "metadata": {},
   "outputs": [],
   "source": [
    "NBmodel = MultinomialNB().fit(x_train, y_train)\n",
    "\n",
    "y_NB_pred = NBmodel.predict(x_val)\n",
    "y_NB_train = NBmodel.predict(x_train)\n"
   ]
  },
  {
   "cell_type": "code",
   "execution_count": 65,
   "metadata": {
    "scrolled": true
   },
   "outputs": [
    {
     "name": "stdout",
     "output_type": "stream",
     "text": [
      "=========================== \n",
      "\n",
      " TRAIN DATA METRICS\n",
      "\n",
      "\n",
      "=========================== \n",
      "\n",
      " Confusion Matrix\n",
      "\n",
      " [[   0  541]\n",
      " [   0 1337]]\n",
      "\n",
      "\n",
      "========================== \n",
      "\n",
      " Accuracy Score\n",
      "\n",
      " 0.7119275825346113\n",
      "\n",
      "\n",
      "========================== \n",
      "\n",
      " F1 Score for Class 0\n",
      "\n",
      " 0.0\n",
      "\n",
      "\n",
      "========================== \n",
      "\n",
      " F1 Score for Class 1\n",
      "\n",
      " 0.8317262830482115\n",
      "\n",
      "\n",
      "========================== \n",
      "\n",
      " Average F1 Score\n",
      "\n",
      " 0.8317262830482115\n",
      "=========================== \n",
      "\n",
      " VALIDATION DATA METRICS\n",
      "\n",
      "\n",
      "=========================== \n",
      "\n",
      " Confusion Matrix\n",
      "\n",
      " [[  0 135]\n",
      " [  0 335]]\n",
      "\n",
      "\n",
      "========================== \n",
      "\n",
      " Accuracy Score\n",
      "\n",
      " 0.7127659574468085\n",
      "\n",
      "\n",
      "========================== \n",
      "\n",
      " F1 Score for Class 0\n",
      "\n",
      " 0.0\n",
      "\n",
      "\n",
      "========================== \n",
      "\n",
      " F1 Score for Class 1\n",
      "\n",
      " 0.8322981366459626\n",
      "\n",
      "\n",
      "========================== \n",
      "\n",
      " Average F1 Score\n",
      "\n",
      " 0.7220524672496361\n"
     ]
    },
    {
     "name": "stderr",
     "output_type": "stream",
     "text": [
      "C:\\Users\\UrMili\\Anaconda3\\lib\\site-packages\\sklearn\\metrics\\classification.py:1143: UndefinedMetricWarning: F-score is ill-defined and being set to 0.0 due to no predicted samples.\n",
      "  'precision', 'predicted', average, warn_for)\n"
     ]
    }
   ],
   "source": [
    "### Train Data Accuracy - NB\n",
    "print(\"=========================== \\n\\n TRAIN DATA METRICS\\n\\n\") \n",
    "print(\"=========================== \\n\\n Confusion Matrix\\n\\n\", confusion_matrix(y_train, y_NB_train))\n",
    "print(\"\\n\\n========================== \\n\\n Accuracy Score\\n\\n\",accuracy_score(y_train, y_NB_train))\n",
    "print(\"\\n\\n========================== \\n\\n F1 Score for Class 0\\n\\n\",f1_score(y_train, y_NB_train, pos_label=0))\n",
    "print(\"\\n\\n========================== \\n\\n F1 Score for Class 1\\n\\n\",f1_score(y_train, y_NB_train, pos_label=1))\n",
    "print(\"\\n\\n========================== \\n\\n Average F1 Score\\n\\n\", f1_score(y_train, y_NB_train, pos_label=1)/2 + f1_score(y_train, y_NB_train, pos_label=1)/2)\n",
    "\n",
    "### Val Data Accuracy - NB\n",
    "print(\"=========================== \\n\\n VALIDATION DATA METRICS\\n\\n\") \n",
    "print(\"=========================== \\n\\n Confusion Matrix\\n\\n\", confusion_matrix(y_val, y_NB_pred))\n",
    "print(\"\\n\\n========================== \\n\\n Accuracy Score\\n\\n\", accuracy_score(y_val, y_NB_pred))\n",
    "print(\"\\n\\n========================== \\n\\n F1 Score for Class 0\\n\\n\", f1_score(y_val, y_NB_pred, pos_label=0))\n",
    "print(\"\\n\\n========================== \\n\\n F1 Score for Class 1\\n\\n\", f1_score(y_val, y_NB_pred, pos_label=1))\n",
    "print(\"\\n\\n========================== \\n\\n Average F1 Score\\n\\n\", f1_score(y_val, y_NB_pred, pos_label=1)/2 + f1_score(y_val, y_log_pred, pos_label=1)/2)\n",
    "\n"
   ]
  },
  {
   "cell_type": "markdown",
   "metadata": {},
   "source": [
    "#### Test"
   ]
  },
  {
   "cell_type": "code",
   "execution_count": 66,
   "metadata": {},
   "outputs": [],
   "source": [
    "y_NB_test = NBmodel.predict(x_test)"
   ]
  },
  {
   "cell_type": "code",
   "execution_count": 67,
   "metadata": {},
   "outputs": [],
   "source": [
    "NB_pred_file = {'id': test_df['id_x'], 'long_term_outlook': y_NB_test}\n",
    "\n",
    "NB_pred_file = pd.DataFrame(NB_pred_file)\n",
    "\n",
    "NB_pred_file.to_csv('Naive_Bayes_Prediction.csv', index = False)"
   ]
  },
  {
   "cell_type": "markdown",
   "metadata": {},
   "source": [
    "### Linear Support Vector Machine"
   ]
  },
  {
   "cell_type": "markdown",
   "metadata": {},
   "source": [
    "#### Load Algorithm"
   ]
  },
  {
   "cell_type": "code",
   "execution_count": 68,
   "metadata": {},
   "outputs": [],
   "source": [
    "from sklearn import svm"
   ]
  },
  {
   "cell_type": "code",
   "execution_count": 69,
   "metadata": {},
   "outputs": [],
   "source": [
    "from sklearn.model_selection import RandomizedSearchCV"
   ]
  },
  {
   "cell_type": "code",
   "execution_count": 70,
   "metadata": {},
   "outputs": [],
   "source": [
    "#Create a svm Classifier\n",
    "clf = svm.SVC(class_weight='balanced') # Linear Kernel"
   ]
  },
  {
   "cell_type": "code",
   "execution_count": 71,
   "metadata": {},
   "outputs": [
    {
     "name": "stderr",
     "output_type": "stream",
     "text": [
      "C:\\Users\\UrMili\\Anaconda3\\lib\\site-packages\\sklearn\\svm\\base.py:196: FutureWarning: The default value of gamma will change from 'auto' to 'scale' in version 0.22 to account better for unscaled features. Set gamma explicitly to 'auto' or 'scale' to avoid this warning.\n",
      "  \"avoid this warning.\", FutureWarning)\n"
     ]
    },
    {
     "data": {
      "text/plain": [
       "SVC(C=1.0, cache_size=200, class_weight='balanced', coef0=0.0,\n",
       "  decision_function_shape='ovr', degree=3, gamma='auto_deprecated',\n",
       "  kernel='rbf', max_iter=-1, probability=False, random_state=None,\n",
       "  shrinking=True, tol=0.001, verbose=False)"
      ]
     },
     "execution_count": 71,
     "metadata": {},
     "output_type": "execute_result"
    }
   ],
   "source": [
    "#Train the model using the training sets\n",
    "clf.fit(x_train, y_train)"
   ]
  },
  {
   "cell_type": "code",
   "execution_count": 72,
   "metadata": {},
   "outputs": [],
   "source": [
    "#Predict the response for train & Validation dataset\n",
    "y_SVMclf_pred = clf.predict(x_val)\n",
    "y_SVMclf_train = clf.predict(x_train)"
   ]
  },
  {
   "cell_type": "code",
   "execution_count": 73,
   "metadata": {
    "scrolled": true
   },
   "outputs": [
    {
     "name": "stdout",
     "output_type": "stream",
     "text": [
      "=========================== \n",
      "\n",
      " TRAIN DATA METRICS\n",
      "\n",
      "\n",
      "=========================== \n",
      "\n",
      " Confusion Matrix\n",
      "\n",
      " [[362 179]\n",
      " [472 865]]\n",
      "\n",
      "\n",
      "========================== \n",
      "\n",
      " Accuracy Score\n",
      "\n",
      " 0.6533546325878594\n",
      "\n",
      "\n",
      "========================== \n",
      "\n",
      " F1 Score for Class 0\n",
      "\n",
      " 0.5265454545454545\n",
      "\n",
      "\n",
      "========================== \n",
      "\n",
      " F1 Score for Class 1\n",
      "\n",
      " 0.7265854682906342\n",
      "\n",
      "\n",
      "========================== \n",
      "\n",
      " Average F1 Score\n",
      "\n",
      " 0.7265854682906342\n",
      "=========================== \n",
      "\n",
      " VALIDATION DATA METRICS\n",
      "\n",
      "\n",
      "=========================== \n",
      "\n",
      " Confusion Matrix\n",
      "\n",
      " [[ 53  82]\n",
      " [143 192]]\n",
      "\n",
      "\n",
      "========================== \n",
      "\n",
      " Accuracy Score\n",
      "\n",
      " 0.5212765957446809\n",
      "\n",
      "\n",
      "========================== \n",
      "\n",
      " F1 Score for Class 0\n",
      "\n",
      " 0.32024169184290036\n",
      "\n",
      "\n",
      "========================== \n",
      "\n",
      " F1 Score for Class 1\n",
      "\n",
      " 0.6305418719211823\n",
      "\n",
      "\n",
      "========================== \n",
      "\n",
      " Average F1 Score\n",
      "\n",
      " 0.6305418719211823\n"
     ]
    }
   ],
   "source": [
    "### Train Data Accuracy - SVM\n",
    "print(\"=========================== \\n\\n TRAIN DATA METRICS\\n\\n\") \n",
    "print(\"=========================== \\n\\n Confusion Matrix\\n\\n\", confusion_matrix(y_train, y_SVMclf_train))\n",
    "print(\"\\n\\n========================== \\n\\n Accuracy Score\\n\\n\",accuracy_score(y_train, y_SVMclf_train))\n",
    "print(\"\\n\\n========================== \\n\\n F1 Score for Class 0\\n\\n\",f1_score(y_train, y_SVMclf_train, pos_label=0))\n",
    "print(\"\\n\\n========================== \\n\\n F1 Score for Class 1\\n\\n\",f1_score(y_train, y_SVMclf_train, pos_label=1))\n",
    "print(\"\\n\\n========================== \\n\\n Average F1 Score\\n\\n\", f1_score(y_train, y_SVMclf_train, pos_label=1, labels=np.unique(y_train))/2 + f1_score(y_train, y_SVMclf_train, pos_label=1, labels=np.unique(y_train))/2)\n",
    "\n",
    "### Val Data Accuracy - SVM\n",
    "print(\"=========================== \\n\\n VALIDATION DATA METRICS\\n\\n\") \n",
    "print(\"=========================== \\n\\n Confusion Matrix\\n\\n\", confusion_matrix(y_val, y_SVMclf_pred))\n",
    "print(\"\\n\\n========================== \\n\\n Accuracy Score\\n\\n\", accuracy_score(y_val, y_SVMclf_pred))\n",
    "print(\"\\n\\n========================== \\n\\n F1 Score for Class 0\\n\\n\", f1_score(y_val, y_SVMclf_pred, pos_label=0))\n",
    "print(\"\\n\\n========================== \\n\\n F1 Score for Class 1\\n\\n\", f1_score(y_val, y_SVMclf_pred, pos_label=1))\n",
    "print(\"\\n\\n========================== \\n\\n Average F1 Score\\n\\n\", f1_score(y_val, y_SVMclf_pred, pos_label=1)/2 + f1_score(y_val, y_SVMclf_pred, pos_label=1)/2)\n",
    "\n"
   ]
  },
  {
   "cell_type": "markdown",
   "metadata": {},
   "source": [
    "#### Test"
   ]
  },
  {
   "cell_type": "code",
   "execution_count": 74,
   "metadata": {},
   "outputs": [],
   "source": [
    "y_SVMclf_test = clf.predict(x_test)"
   ]
  },
  {
   "cell_type": "code",
   "execution_count": 75,
   "metadata": {},
   "outputs": [],
   "source": [
    "SVM_pred_file = {'id': test_df['id_x'], 'long_term_outlook': y_SVMclf_test}\n",
    "\n",
    "SVM_pred_file = pd.DataFrame(SVM_pred_file)\n",
    "\n",
    "SVM_pred_file.to_csv('SVM_Prediction.csv', index = False)"
   ]
  },
  {
   "cell_type": "markdown",
   "metadata": {},
   "source": [
    "### Decision Tree\n"
   ]
  },
  {
   "cell_type": "markdown",
   "metadata": {},
   "source": [
    "#### Load Algorithm"
   ]
  },
  {
   "cell_type": "code",
   "execution_count": 76,
   "metadata": {},
   "outputs": [],
   "source": [
    "from sklearn import tree\n",
    "import matplotlib.pyplot as plt\n"
   ]
  },
  {
   "cell_type": "code",
   "execution_count": 77,
   "metadata": {},
   "outputs": [],
   "source": [
    "DT_classifier = tree.DecisionTreeClassifier(random_state=2, criterion = 'entropy')"
   ]
  },
  {
   "cell_type": "markdown",
   "metadata": {},
   "source": [
    "#### Validation "
   ]
  },
  {
   "cell_type": "code",
   "execution_count": 78,
   "metadata": {},
   "outputs": [
    {
     "data": {
      "text/plain": [
       "DecisionTreeClassifier(class_weight=None, criterion='entropy', max_depth=None,\n",
       "            max_features=None, max_leaf_nodes=None,\n",
       "            min_impurity_decrease=0.0, min_impurity_split=None,\n",
       "            min_samples_leaf=1, min_samples_split=2,\n",
       "            min_weight_fraction_leaf=0.0, presort=False, random_state=2,\n",
       "            splitter='best')"
      ]
     },
     "execution_count": 78,
     "metadata": {},
     "output_type": "execute_result"
    }
   ],
   "source": [
    "DT_classifier.fit(x_train, y_train)"
   ]
  },
  {
   "cell_type": "code",
   "execution_count": 79,
   "metadata": {},
   "outputs": [
    {
     "data": {
      "text/plain": [
       "<matplotlib.axes._subplots.AxesSubplot at 0x20f0bbecac8>"
      ]
     },
     "execution_count": 79,
     "metadata": {},
     "output_type": "execute_result"
    },
    {
     "data": {
      "image/png": "[encoded data removed]",
      "text/plain": [
       "<Figure size 1440x720 with 1 Axes>"
      ]
     },
     "metadata": {
      "needs_background": "light"
     },
     "output_type": "display_data"
    }
   ],
   "source": [
    "imp_feature = pd.Series(DT_classifier.feature_importances_, index = x_train.columns)\n",
    "imp_ordered = imp_feature.nlargest(100)\n",
    "plt.rcParams['figure.figsize'] = (20,10)\n",
    "imp_ordered.plot(kind = 'bar')"
   ]
  },
  {
   "cell_type": "code",
   "execution_count": 80,
   "metadata": {},
   "outputs": [
    {
     "name": "stdout",
     "output_type": "stream",
     "text": [
      "\n",
      "\n",
      "6 Most important feautures: \n",
      "\n",
      " filing_year    0.098887\n",
      "commission     0.016228\n",
      "dtype: float64\n",
      "=========================================\n",
      "\n",
      "\n",
      "6 Least important features: \n",
      "\n",
      " favorably    0.005918\n",
      "allowed      0.005847\n",
      "dtype: float64\n"
     ]
    }
   ],
   "source": [
    "print('\\n\\n6 Most important feautures: \\n\\n', imp_ordered.head(2))\n",
    "print('=========================================')\n",
    "print('\\n\\n6 Least important features: \\n\\n',imp_ordered.tail(2))"
   ]
  },
  {
   "cell_type": "code",
   "execution_count": 81,
   "metadata": {},
   "outputs": [],
   "source": [
    "y_DT_pred = DT_classifier.predict(x_val)\n",
    "y_DT_train = DT_classifier.predict(x_train)"
   ]
  },
  {
   "cell_type": "code",
   "execution_count": 82,
   "metadata": {},
   "outputs": [
    {
     "name": "stdout",
     "output_type": "stream",
     "text": [
      "=========================== \n",
      "\n",
      " TRAIN DATA METRICS\n",
      "\n",
      "\n",
      "=========================== \n",
      "\n",
      " Confusion Matrix\n",
      "\n",
      " [[ 541    0]\n",
      " [   0 1337]]\n",
      "\n",
      "\n",
      "========================== \n",
      "\n",
      " Accuracy Score\n",
      "\n",
      " 1.0\n",
      "\n",
      "\n",
      "========================== \n",
      "\n",
      " F1 Score for Class 0\n",
      "\n",
      " 1.0\n",
      "\n",
      "\n",
      "========================== \n",
      "\n",
      " F1 Score for Class 1\n",
      "\n",
      " 1.0\n",
      "\n",
      "\n",
      "========================== \n",
      "\n",
      " Average F1 Score\n",
      "\n",
      " 1.0\n",
      "=========================== \n",
      "\n",
      " vALIDATIION DATA METRICS\n",
      "\n",
      "\n",
      "=========================== \n",
      "\n",
      " Confusion Matrix\n",
      "\n",
      " [[ 50  85]\n",
      " [ 75 260]]\n",
      "\n",
      "\n",
      "========================== \n",
      "\n",
      " Accuracy Score\n",
      "\n",
      " 0.6595744680851063\n",
      "\n",
      "\n",
      "========================== \n",
      "\n",
      " F1 Score for Class 0\n",
      "\n",
      " 0.3846153846153846\n",
      "\n",
      "\n",
      "========================== \n",
      "\n",
      " F1 Score for Class 1\n",
      "\n",
      " 0.7647058823529411\n",
      "\n",
      "\n",
      "========================== \n",
      "\n",
      " Average F1 Score\n",
      "\n",
      " 0.7647058823529411\n"
     ]
    }
   ],
   "source": [
    "### Train Data Accuracy - DT\n",
    "print(\"=========================== \\n\\n TRAIN DATA METRICS\\n\\n\")\n",
    "print(\"=========================== \\n\\n Confusion Matrix\\n\\n\", confusion_matrix(y_train, y_DT_train))\n",
    "print(\"\\n\\n========================== \\n\\n Accuracy Score\\n\\n\",accuracy_score(y_train, y_DT_train))\n",
    "print(\"\\n\\n========================== \\n\\n F1 Score for Class 0\\n\\n\",f1_score(y_train, y_DT_train, pos_label=0))\n",
    "print(\"\\n\\n========================== \\n\\n F1 Score for Class 1\\n\\n\",f1_score(y_train, y_DT_train, pos_label=1))\n",
    "print(\"\\n\\n========================== \\n\\n Average F1 Score\\n\\n\", f1_score(y_train, y_DT_train, pos_label=1)/2 + f1_score(y_train, y_DT_train, pos_label=1)/2)\n",
    "\n",
    "### Val Data Accuracy - DT\n",
    "print(\"=========================== \\n\\n vALIDATIION DATA METRICS\\n\\n\") \n",
    "print(\"=========================== \\n\\n Confusion Matrix\\n\\n\", confusion_matrix(y_val, y_DT_pred))\n",
    "print(\"\\n\\n========================== \\n\\n Accuracy Score\\n\\n\", accuracy_score(y_val, y_DT_pred))\n",
    "print(\"\\n\\n========================== \\n\\n F1 Score for Class 0\\n\\n\", f1_score(y_val, y_DT_pred, pos_label=0))\n",
    "print(\"\\n\\n========================== \\n\\n F1 Score for Class 1\\n\\n\", f1_score(y_val, y_DT_pred, pos_label=1))\n",
    "print(\"\\n\\n========================== \\n\\n Average F1 Score\\n\\n\", f1_score(y_val, y_DT_pred, pos_label=1)/2 + f1_score(y_val, y_DT_pred, pos_label=1)/2)\n",
    "\n"
   ]
  },
  {
   "cell_type": "markdown",
   "metadata": {},
   "source": [
    "#### Test"
   ]
  },
  {
   "cell_type": "code",
   "execution_count": 83,
   "metadata": {},
   "outputs": [],
   "source": [
    "y_DT_test = DT_classifier.predict(x_test)"
   ]
  },
  {
   "cell_type": "code",
   "execution_count": 84,
   "metadata": {},
   "outputs": [],
   "source": [
    "DT_pred_file = {'id': test_df['id_x'], 'long_term_outlook': y_DT_test}\n",
    "\n",
    "DT_pred_file = pd.DataFrame(DT_pred_file)\n",
    "\n",
    "DT_pred_file.to_csv('Decision_Tree_Prediction.csv', index = False)"
   ]
  },
  {
   "cell_type": "markdown",
   "metadata": {},
   "source": [
    "### Random Forest"
   ]
  },
  {
   "cell_type": "markdown",
   "metadata": {},
   "source": [
    "#### Load ALgorithm"
   ]
  },
  {
   "cell_type": "code",
   "execution_count": 85,
   "metadata": {},
   "outputs": [],
   "source": [
    "from scipy.stats import uniform\n",
    "from sklearn.ensemble import RandomForestClassifier\n",
    "from sklearn.model_selection import RandomizedSearchCV\n"
   ]
  },
  {
   "cell_type": "markdown",
   "metadata": {},
   "source": [
    "#### Train and Validation"
   ]
  },
  {
   "cell_type": "code",
   "execution_count": 86,
   "metadata": {},
   "outputs": [],
   "source": [
    "RF_classifier = RandomForestClassifier(n_estimators=10, criterion='entropy', random_state=2)\n",
    "\n",
    "param_grid = {'n_estimators' : [5,7,9,11,13,15,17,19],\n",
    "             'max_depth' : [2,3,4,5,6,7,8,9,10,11,12],\n",
    "              \"min_samples_leaf\" : [5, 10, 15, 20],\n",
    "              \"class_weight\" : ['balanced','balanced_subsample']}"
   ]
  },
  {
   "cell_type": "code",
   "execution_count": null,
   "metadata": {},
   "outputs": [],
   "source": [
    "# Create regularization penalty space\n",
    "#penalty = ['l1', 'l2']\n",
    "\n",
    "# Create regularization hyperparameter distribution using uniform distribution\n",
    "#C = uniform(loc=0, scale=4)\n",
    "\n",
    "# Create hyperparameter options\n",
    "#hyperparameters = dict(C=C, penalty=penalty)"
   ]
  },
  {
   "cell_type": "code",
   "execution_count": 87,
   "metadata": {},
   "outputs": [],
   "source": [
    "rfc_cv = RandomizedSearchCV(estimator=RF_classifier, param_distributions=param_grid, n_iter=10,cv=4)\n"
   ]
  },
  {
   "cell_type": "code",
   "execution_count": 88,
   "metadata": {},
   "outputs": [
    {
     "data": {
      "text/plain": [
       "RandomizedSearchCV(cv=4, error_score='raise-deprecating',\n",
       "          estimator=RandomForestClassifier(bootstrap=True, class_weight=None, criterion='entropy',\n",
       "            max_depth=None, max_features='auto', max_leaf_nodes=None,\n",
       "            min_impurity_decrease=0.0, min_impurity_split=None,\n",
       "            min_samples_leaf=1, min_samples_split=2,\n",
       "            min_weight_fraction_leaf=0.0, n_estimators=10, n_jobs=None,\n",
       "            oob_score=False, random_state=2, verbose=0, warm_start=False),\n",
       "          fit_params=None, iid='warn', n_iter=10, n_jobs=None,\n",
       "          param_distributions={'n_estimators': [5, 7, 9, 11, 13, 15, 17, 19], 'max_depth': [2, 3, 4, 5, 6, 7, 8, 9, 10, 11, 12], 'min_samples_leaf': [5, 10, 15, 20], 'class_weight': ['balanced', 'balanced_subsample']},\n",
       "          pre_dispatch='2*n_jobs', random_state=None, refit=True,\n",
       "          return_train_score='warn', scoring=None, verbose=0)"
      ]
     },
     "execution_count": 88,
     "metadata": {},
     "output_type": "execute_result"
    }
   ],
   "source": [
    "rfc_cv.fit(x_train, y_train)\n"
   ]
  },
  {
   "cell_type": "code",
   "execution_count": 89,
   "metadata": {},
   "outputs": [
    {
     "data": {
      "text/plain": [
       "{'n_estimators': 17,\n",
       " 'min_samples_leaf': 10,\n",
       " 'max_depth': 11,\n",
       " 'class_weight': 'balanced_subsample'}"
      ]
     },
     "execution_count": 89,
     "metadata": {},
     "output_type": "execute_result"
    }
   ],
   "source": [
    "rfc_cv.best_params_\n"
   ]
  },
  {
   "cell_type": "code",
   "execution_count": 90,
   "metadata": {},
   "outputs": [
    {
     "data": {
      "text/plain": [
       "<matplotlib.axes._subplots.AxesSubplot at 0x20f55bdf8d0>"
      ]
     },
     "execution_count": 90,
     "metadata": {},
     "output_type": "execute_result"
    },
    {
     "data": {
      "image/png": "[encoded data removed]",
      "text/plain": [
       "<Figure size 1440x720 with 1 Axes>"
      ]
     },
     "metadata": {
      "needs_background": "light"
     },
     "output_type": "display_data"
    }
   ],
   "source": [
    "feat_importances = pd.Series(rfc_cv.best_estimator_.feature_importances_, index = x_train.columns)\n",
    "feat_importances_ordered = feat_importances.nlargest(100)\n",
    "feat_importances_ordered.plot(kind='bar')"
   ]
  },
  {
   "cell_type": "code",
   "execution_count": 93,
   "metadata": {},
   "outputs": [],
   "source": [
    "rf_clf = RandomForestClassifier(n_estimators = 17, min_samples_leaf = 10, max_depth = 11, class_weight = 'balanced_subsample', criterion = 'entropy')"
   ]
  },
  {
   "cell_type": "code",
   "execution_count": 95,
   "metadata": {},
   "outputs": [
    {
     "data": {
      "text/plain": [
       "RandomForestClassifier(bootstrap=True, class_weight='balanced_subsample',\n",
       "            criterion='entropy', max_depth=11, max_features='auto',\n",
       "            max_leaf_nodes=None, min_impurity_decrease=0.0,\n",
       "            min_impurity_split=None, min_samples_leaf=10,\n",
       "            min_samples_split=2, min_weight_fraction_leaf=0.0,\n",
       "            n_estimators=17, n_jobs=None, oob_score=False,\n",
       "            random_state=None, verbose=0, warm_start=False)"
      ]
     },
     "execution_count": 95,
     "metadata": {},
     "output_type": "execute_result"
    }
   ],
   "source": [
    "rf_clf.fit(x_train,y_train)"
   ]
  },
  {
   "cell_type": "code",
   "execution_count": 96,
   "metadata": {},
   "outputs": [],
   "source": [
    "y_RF_pred = rf_clf.predict(x_val)\n",
    "y_RF_train = rf_clf.predict(x_train)"
   ]
  },
  {
   "cell_type": "code",
   "execution_count": 97,
   "metadata": {},
   "outputs": [
    {
     "name": "stdout",
     "output_type": "stream",
     "text": [
      "=========================== \n",
      "\n",
      " TRAIN DATA METRICS\n",
      "\n",
      "\n",
      "=========================== \n",
      "\n",
      " Confusion Matrix\n",
      "\n",
      " [[ 412  129]\n",
      " [ 190 1147]]\n",
      "\n",
      "\n",
      "========================== \n",
      "\n",
      " Accuracy Score\n",
      "\n",
      " 0.8301384451544196\n",
      "\n",
      "\n",
      "========================== \n",
      "\n",
      " F1 Score for Class 0\n",
      "\n",
      " 0.720909886264217\n",
      "\n",
      "\n",
      "========================== \n",
      "\n",
      " F1 Score for Class 1\n",
      "\n",
      " 0.8779181017986988\n",
      "\n",
      "\n",
      "========================== \n",
      "\n",
      " Average F1 Score\n",
      "\n",
      " 0.8779181017986988\n",
      "=========================== \n",
      "\n",
      " vALIDATIION DATA METRICS\n",
      "\n",
      "\n",
      "=========================== \n",
      "\n",
      " Confusion Matrix\n",
      "\n",
      " [[ 45  90]\n",
      " [ 93 242]]\n",
      "\n",
      "\n",
      "========================== \n",
      "\n",
      " Accuracy Score\n",
      "\n",
      " 0.6106382978723405\n",
      "\n",
      "\n",
      "========================== \n",
      "\n",
      " F1 Score for Class 0\n",
      "\n",
      " 0.32967032967032966\n",
      "\n",
      "\n",
      "========================== \n",
      "\n",
      " F1 Score for Class 1\n",
      "\n",
      " 0.7256371814092953\n",
      "\n",
      "\n",
      "========================== \n",
      "\n",
      " Average F1 Score\n",
      "\n",
      " 0.7256371814092953\n"
     ]
    }
   ],
   "source": [
    "### Train Data Accuracy - RF\n",
    "print(\"=========================== \\n\\n TRAIN DATA METRICS\\n\\n\")\n",
    "print(\"=========================== \\n\\n Confusion Matrix\\n\\n\", confusion_matrix(y_train, y_RF_train))\n",
    "print(\"\\n\\n========================== \\n\\n Accuracy Score\\n\\n\",accuracy_score(y_train, y_RF_train))\n",
    "print(\"\\n\\n========================== \\n\\n F1 Score for Class 0\\n\\n\",f1_score(y_train, y_RF_train, pos_label=0))\n",
    "print(\"\\n\\n========================== \\n\\n F1 Score for Class 1\\n\\n\",f1_score(y_train, y_RF_train, pos_label=1))\n",
    "print(\"\\n\\n========================== \\n\\n Average F1 Score\\n\\n\", f1_score(y_train, y_RF_train, pos_label=1)/2 + f1_score(y_train, y_RF_train, pos_label=1)/2)\n",
    "\n",
    "### Val Data Accuracy - RF\n",
    "print(\"=========================== \\n\\n vALIDATIION DATA METRICS\\n\\n\") \n",
    "print(\"=========================== \\n\\n Confusion Matrix\\n\\n\", confusion_matrix(y_val, y_RF_pred))\n",
    "print(\"\\n\\n========================== \\n\\n Accuracy Score\\n\\n\", accuracy_score(y_val, y_RF_pred))\n",
    "print(\"\\n\\n========================== \\n\\n F1 Score for Class 0\\n\\n\", f1_score(y_val, y_RF_pred, pos_label=0))\n",
    "print(\"\\n\\n========================== \\n\\n F1 Score for Class 1\\n\\n\", f1_score(y_val, y_RF_pred, pos_label=1))\n",
    "print(\"\\n\\n========================== \\n\\n Average F1 Score\\n\\n\", f1_score(y_val, y_RF_pred, pos_label=1)/2 + f1_score(y_val, y_RF_pred, pos_label=1)/2)\n"
   ]
  },
  {
   "cell_type": "markdown",
   "metadata": {},
   "source": [
    "#### Test"
   ]
  },
  {
   "cell_type": "code",
   "execution_count": 98,
   "metadata": {},
   "outputs": [],
   "source": [
    "y_RF_test = rf_clf.predict(x_test)"
   ]
  },
  {
   "cell_type": "code",
   "execution_count": 99,
   "metadata": {},
   "outputs": [],
   "source": [
    "RF_pred_file = {'id': test_df['id_x'], 'long_term_outlook': y_RF_test}\n",
    "\n",
    "RF_pred_file = pd.DataFrame(RF_pred_file)\n",
    "\n",
    "RF_pred_file.to_csv('Random_Forest_Prediction.csv', index = False)"
   ]
  },
  {
   "cell_type": "markdown",
   "metadata": {},
   "source": [
    "### Stacking"
   ]
  },
  {
   "cell_type": "markdown",
   "metadata": {},
   "source": [
    "#### Load Algorithm"
   ]
  },
  {
   "cell_type": "code",
   "execution_count": 100,
   "metadata": {},
   "outputs": [],
   "source": [
    "from sklearn.linear_model import LogisticRegression\n",
    "from sklearn.svm import SVC\n",
    "from sklearn.tree import DecisionTreeClassifier"
   ]
  },
  {
   "cell_type": "markdown",
   "metadata": {},
   "source": [
    "#### Train and Validation"
   ]
  },
  {
   "cell_type": "code",
   "execution_count": 101,
   "metadata": {},
   "outputs": [],
   "source": [
    "#Decision Tree\n",
    "\n",
    "dtc = DecisionTreeClassifier()"
   ]
  },
  {
   "cell_type": "code",
   "execution_count": 124,
   "metadata": {},
   "outputs": [
    {
     "data": {
      "text/plain": [
       "DecisionTreeClassifier(class_weight=None, criterion='gini', max_depth=None,\n",
       "            max_features=None, max_leaf_nodes=None,\n",
       "            min_impurity_decrease=0.0, min_impurity_split=None,\n",
       "            min_samples_leaf=1, min_samples_split=2,\n",
       "            min_weight_fraction_leaf=0.0, presort=False, random_state=None,\n",
       "            splitter='best')"
      ]
     },
     "execution_count": 124,
     "metadata": {},
     "output_type": "execute_result"
    }
   ],
   "source": [
    "dtc.fit(x_train,y_train)\n",
    "\n",
    "y_stac_DT_pred = dtc.predict(x_val)\n",
    "y_stac_DT_train = dtc.predict(x_train)\n"
   ]
  },
  {
   "cell_type": "code",
   "execution_count": 113,
   "metadata": {},
   "outputs": [
    {
     "data": {
      "text/plain": [
       "1878"
      ]
     },
     "execution_count": 113,
     "metadata": {},
     "output_type": "execute_result"
    }
   ],
   "source": [
    "len(y_stac_DT_train)"
   ]
  },
  {
   "cell_type": "code",
   "execution_count": 103,
   "metadata": {},
   "outputs": [],
   "source": [
    "#Logistic regression\n",
    "\n",
    "lrc = LogisticRegression()"
   ]
  },
  {
   "cell_type": "code",
   "execution_count": 125,
   "metadata": {},
   "outputs": [
    {
     "name": "stderr",
     "output_type": "stream",
     "text": [
      "C:\\Users\\UrMili\\Anaconda3\\lib\\site-packages\\sklearn\\linear_model\\logistic.py:433: FutureWarning: Default solver will be changed to 'lbfgs' in 0.22. Specify a solver to silence this warning.\n",
      "  FutureWarning)\n"
     ]
    },
    {
     "data": {
      "text/plain": [
       "LogisticRegression(C=1.0, class_weight=None, dual=False, fit_intercept=True,\n",
       "          intercept_scaling=1, max_iter=100, multi_class='warn',\n",
       "          n_jobs=None, penalty='l2', random_state=None, solver='warn',\n",
       "          tol=0.0001, verbose=0, warm_start=False)"
      ]
     },
     "execution_count": 125,
     "metadata": {},
     "output_type": "execute_result"
    }
   ],
   "source": [
    "lrc.fit(x_train,y_train)\n",
    "\n",
    "y_stac_lrc_pred = lrc.predict(x_val)\n",
    "y_stac_lrc_train = lrc.predict(x_train)"
   ]
  },
  {
   "cell_type": "code",
   "execution_count": 105,
   "metadata": {},
   "outputs": [],
   "source": [
    "# SVM\n",
    "clf = svm.SVC(kernel='linear')"
   ]
  },
  {
   "cell_type": "code",
   "execution_count": 126,
   "metadata": {},
   "outputs": [
    {
     "data": {
      "text/plain": [
       "SVC(C=1.0, cache_size=200, class_weight=None, coef0=0.0,\n",
       "  decision_function_shape='ovr', degree=3, gamma='auto_deprecated',\n",
       "  kernel='linear', max_iter=-1, probability=False, random_state=None,\n",
       "  shrinking=True, tol=0.001, verbose=False)"
      ]
     },
     "execution_count": 126,
     "metadata": {},
     "output_type": "execute_result"
    }
   ],
   "source": [
    "clf.fit(x_train,y_train)\n",
    "\n",
    "# y_stac_SVM_pred = clf.predict(x_val)\n",
    "# y_stac_SVM_train = clf.predict(x_train)\n"
   ]
  },
  {
   "cell_type": "markdown",
   "metadata": {},
   "source": [
    "##### Stacking"
   ]
  },
  {
   "cell_type": "code",
   "execution_count": 107,
   "metadata": {},
   "outputs": [],
   "source": [
    "stack_val = pd.DataFrame([y_stac_DT_pred,y_stac_lrc_pred, y_stac_SVM_pred])\n",
    "stack_train = pd.DataFrame([y_stac_DT_train,y_stac_lrc_train, y_stac_SVM_train])\n"
   ]
  },
  {
   "cell_type": "code",
   "execution_count": 108,
   "metadata": {},
   "outputs": [
    {
     "name": "stdout",
     "output_type": "stream",
     "text": [
      "   0    1    2    3    4    5    6    7    8    9    ...  460  461  462  463  \\\n",
      "0    1    1    1    1    1    1    0    1    1    1  ...    1    1    0    0   \n",
      "1    1    1    1    1    1    1    1    1    1    1  ...    1    1    1    1   \n",
      "2    1    1    1    1    1    1    1    1    1    1  ...    1    1    1    1   \n",
      "\n",
      "   464  465  466  467  468  469  \n",
      "0    0    1    1    1    1    1  \n",
      "1    1    1    1    1    1    1  \n",
      "2    1    1    1    1    1    1  \n",
      "\n",
      "[3 rows x 470 columns]\n"
     ]
    }
   ],
   "source": [
    "print(stack_val.head())"
   ]
  },
  {
   "cell_type": "code",
   "execution_count": 109,
   "metadata": {},
   "outputs": [],
   "source": [
    "stack_val = stack_val.T\n",
    "stack_train = stack_train.T"
   ]
  },
  {
   "cell_type": "code",
   "execution_count": 110,
   "metadata": {},
   "outputs": [],
   "source": [
    "stack_val.columns = ['y_stac_DT_pred','y_stac_lrc_pred', 'y_stac_SVM_pred']\n",
    "stack_train.columns = ['y_stac_DT_train','y_stac_lrc_train', 'y_stac_SVM_pred']"
   ]
  },
  {
   "cell_type": "code",
   "execution_count": 111,
   "metadata": {},
   "outputs": [
    {
     "name": "stdout",
     "output_type": "stream",
     "text": [
      "(470, 3)\n",
      "(1878, 3)\n"
     ]
    }
   ],
   "source": [
    "print(stack_val.shape)\n",
    "print(stack_train.shape)"
   ]
  },
  {
   "cell_type": "code",
   "execution_count": 118,
   "metadata": {},
   "outputs": [],
   "source": [
    "stack = LogisticRegression()"
   ]
  },
  {
   "cell_type": "code",
   "execution_count": 119,
   "metadata": {},
   "outputs": [
    {
     "name": "stderr",
     "output_type": "stream",
     "text": [
      "C:\\Users\\UrMili\\Anaconda3\\lib\\site-packages\\sklearn\\linear_model\\logistic.py:433: FutureWarning: Default solver will be changed to 'lbfgs' in 0.22. Specify a solver to silence this warning.\n",
      "  FutureWarning)\n"
     ]
    },
    {
     "data": {
      "text/plain": [
       "LogisticRegression(C=1.0, class_weight=None, dual=False, fit_intercept=True,\n",
       "          intercept_scaling=1, max_iter=100, multi_class='warn',\n",
       "          n_jobs=None, penalty='l2', random_state=None, solver='warn',\n",
       "          tol=0.0001, verbose=0, warm_start=False)"
      ]
     },
     "execution_count": 119,
     "metadata": {},
     "output_type": "execute_result"
    }
   ],
   "source": [
    "stack.fit(stack_train,y_train)"
   ]
  },
  {
   "cell_type": "code",
   "execution_count": 121,
   "metadata": {},
   "outputs": [],
   "source": [
    "y_stacked_pred_val = stack.predict(stack_val)\n",
    "y_stacked_pred_train = stack.predict(stack_train)"
   ]
  },
  {
   "cell_type": "code",
   "execution_count": 122,
   "metadata": {},
   "outputs": [
    {
     "name": "stdout",
     "output_type": "stream",
     "text": [
      "=========================== \n",
      "\n",
      " TRAIN DATA METRICS\n",
      "\n",
      "\n",
      "=========================== \n",
      "\n",
      " Confusion Matrix\n",
      "\n",
      " [[ 541    0]\n",
      " [   0 1337]]\n",
      "\n",
      "\n",
      "========================== \n",
      "\n",
      " Accuracy Score\n",
      "\n",
      " 1.0\n",
      "\n",
      "\n",
      "========================== \n",
      "\n",
      " F1 Score for Class 0\n",
      "\n",
      " 1.0\n",
      "\n",
      "\n",
      "========================== \n",
      "\n",
      " F1 Score for Class 1\n",
      "\n",
      " 1.0\n",
      "\n",
      "\n",
      "========================== \n",
      "\n",
      " Average F1 Score\n",
      "\n",
      " 1.0\n",
      "=========================== \n",
      "\n",
      " vALIDATIION DATA METRICS\n",
      "\n",
      "\n",
      "=========================== \n",
      "\n",
      " Confusion Matrix\n",
      "\n",
      " [[ 54  81]\n",
      " [ 89 246]]\n",
      "\n",
      "\n",
      "========================== \n",
      "\n",
      " Accuracy Score\n",
      "\n",
      " 0.6382978723404256\n",
      "\n",
      "\n",
      "========================== \n",
      "\n",
      " F1 Score for Class 0\n",
      "\n",
      " 0.38848920863309355\n",
      "\n",
      "\n",
      "========================== \n",
      "\n",
      " F1 Score for Class 1\n",
      "\n",
      " 0.7432024169184289\n",
      "\n",
      "\n",
      "========================== \n",
      "\n",
      " Average F1 Score\n",
      "\n",
      " 0.7432024169184289\n"
     ]
    }
   ],
   "source": [
    "### Train Data Accuracy - Stacking\n",
    "print(\"=========================== \\n\\n TRAIN DATA METRICS\\n\\n\")\n",
    "print(\"=========================== \\n\\n Confusion Matrix\\n\\n\", confusion_matrix(y_train, y_stacked_pred_train))\n",
    "print(\"\\n\\n========================== \\n\\n Accuracy Score\\n\\n\",accuracy_score(y_train, y_stacked_pred_train))\n",
    "print(\"\\n\\n========================== \\n\\n F1 Score for Class 0\\n\\n\",f1_score(y_train, y_stacked_pred_train, pos_label=0))\n",
    "print(\"\\n\\n========================== \\n\\n F1 Score for Class 1\\n\\n\",f1_score(y_train, y_stacked_pred_train, pos_label=1))\n",
    "print(\"\\n\\n========================== \\n\\n Average F1 Score\\n\\n\", f1_score(y_train, y_stacked_pred_train, pos_label=1)/2 + f1_score(y_train, y_stacked_pred_train, pos_label=1)/2)\n",
    "\n",
    "### Val Data Accuracy - Stacking\n",
    "print(\"=========================== \\n\\n vALIDATIION DATA METRICS\\n\\n\") \n",
    "print(\"=========================== \\n\\n Confusion Matrix\\n\\n\", confusion_matrix(y_val, y_stacked_pred_val))\n",
    "print(\"\\n\\n========================== \\n\\n Accuracy Score\\n\\n\", accuracy_score(y_val, y_stacked_pred_val))\n",
    "print(\"\\n\\n========================== \\n\\n F1 Score for Class 0\\n\\n\", f1_score(y_val, y_stacked_pred_val, pos_label=0))\n",
    "print(\"\\n\\n========================== \\n\\n F1 Score for Class 1\\n\\n\", f1_score(y_val, y_stacked_pred_val, pos_label=1))\n",
    "print(\"\\n\\n========================== \\n\\n Average F1 Score\\n\\n\", f1_score(y_val, y_stacked_pred_val, pos_label=1)/2 + f1_score(y_val, y_stacked_pred_val, pos_label=1)/2)"
   ]
  },
  {
   "cell_type": "markdown",
   "metadata": {},
   "source": [
    "#### Test"
   ]
  },
  {
   "cell_type": "code",
   "execution_count": 127,
   "metadata": {},
   "outputs": [],
   "source": [
    "#Decision Tree\n",
    "\n",
    "#dtc = DecisionTreeClassifier()\n",
    "\n",
    "y_stac_DT_test = dtc.predict(x_test)\n",
    "\n",
    "\n",
    "#Logistic regression\n",
    "\n",
    "#lrc = LogisticRegression()\n",
    "\n",
    "y_stac_lrc_test = lrc.predict(x_test)\n",
    "\n",
    "#SVM\n",
    "\n",
    "#clf = svm.SVC(kernel='linear')\n",
    "\n",
    "y_stac_SVM_test = clf.predict(x_test)\n"
   ]
  },
  {
   "cell_type": "code",
   "execution_count": 129,
   "metadata": {},
   "outputs": [
    {
     "data": {
      "text/plain": [
       "856"
      ]
     },
     "execution_count": 129,
     "metadata": {},
     "output_type": "execute_result"
    }
   ],
   "source": [
    "len(y_stac_DT_test)"
   ]
  },
  {
   "cell_type": "code",
   "execution_count": 131,
   "metadata": {},
   "outputs": [
    {
     "name": "stdout",
     "output_type": "stream",
     "text": [
      "   0    1    2    3    4    5    6    7    8    9    ...  846  847  848  849  \\\n",
      "0    1    1    1    1    1    0    0    0    1    0  ...    1    0    0    0   \n",
      "1    1    1    1    1    1    1    1    1    1    1  ...    1    1    1    1   \n",
      "2    1    1    1    1    1    1    1    1    1    1  ...    1    1    1    1   \n",
      "\n",
      "   850  851  852  853  854  855  \n",
      "0    1    1    0    1    1    0  \n",
      "1    1    1    1    1    1    1  \n",
      "2    1    1    1    1    1    1  \n",
      "\n",
      "[3 rows x 856 columns]\n",
      "(856, 3)\n",
      "856\n"
     ]
    }
   ],
   "source": [
    "stack_test = pd.DataFrame([y_stac_DT_test, y_stac_lrc_test, y_stac_SVM_test])\n",
    "\n",
    "\n",
    "print(stack_test.head())\n",
    "\n",
    "stack_test = stack_test.T\n",
    "\n",
    "stack_test.columns = ['y_stac_DT_test','y_stac_lrc_test', 'y_stac_SVM_test']\n",
    "\n",
    "print(stack_test.shape)\n",
    "#print(stack_train.shape)\n",
    "\n",
    "#stack = LogisticRegression()\n",
    "\n",
    "y_stacked_pred_test = stack.predict(stack_test)\n",
    "\n",
    "print(len(y_stacked_pred_test))"
   ]
  },
  {
   "cell_type": "code",
   "execution_count": 133,
   "metadata": {},
   "outputs": [],
   "source": [
    "Stack_pred_file = {'id': test_df['id_x'], 'long_term_outlook': y_stacked_pred_test}\n",
    "\n",
    "Stack_pred_file = pd.DataFrame(Stack_pred_file)\n",
    "\n",
    "Stack_pred_file.to_csv('Stacking_Prediction.csv', index = False)"
   ]
  },
  {
   "cell_type": "markdown",
   "metadata": {},
   "source": [
    "## Conclusion"
   ]
  },
  {
   "cell_type": "markdown",
   "metadata": {},
   "source": [
    "The Average F1 Scores for the algorithms."
   ]
  },
  {
   "cell_type": "code",
   "execution_count": 136,
   "metadata": {},
   "outputs": [],
   "source": [
    "final_metrics = {'Logistic_Regression': f1_score(y_val, y_log_pred, pos_label=1)/2 + f1_score(y_val, y_log_pred, pos_label=1)/2, 'Naive_Bayes': f1_score(y_val, y_NB_pred, pos_label=1)/2 + f1_score(y_val, y_log_pred, pos_label=1)/2, 'SVM' : f1_score(y_val, y_SVMclf_pred, pos_label=1)/2 + f1_score(y_val, y_SVMclf_pred, pos_label=1)/2,'Decision_Tree': f1_score(y_val, y_DT_pred, pos_label=1)/2 + f1_score(y_val, y_DT_pred, pos_label=1)/2,'Random_Forest': f1_score(y_val, y_RF_pred, pos_label=1)/2 + f1_score(y_val, y_RF_pred, pos_label=1)/2, 'Stacking': f1_score(y_val, y_stacked_pred_val, pos_label=1)/2 + f1_score(y_val, y_stacked_pred_val, pos_label=1)/2}"
   ]
  },
  {
   "cell_type": "code",
   "execution_count": 137,
   "metadata": {},
   "outputs": [
    {
     "name": "stdout",
     "output_type": "stream",
     "text": [
      "**Average F1 score values of different algorithms**: \n",
      "\n"
     ]
    },
    {
     "data": {
      "text/html": [
       "<div>\n",
       "<style scoped>\n",
       "    .dataframe tbody tr th:only-of-type {\n",
       "        vertical-align: middle;\n",
       "    }\n",
       "\n",
       "    .dataframe tbody tr th {\n",
       "        vertical-align: top;\n",
       "    }\n",
       "\n",
       "    .dataframe thead th {\n",
       "        text-align: right;\n",
       "    }\n",
       "</style>\n",
       "<table border=\"1\" class=\"dataframe\">\n",
       "  <thead>\n",
       "    <tr style=\"text-align: right;\">\n",
       "      <th></th>\n",
       "      <th>Logistic_Regression</th>\n",
       "      <th>Naive_Bayes</th>\n",
       "      <th>SVM</th>\n",
       "      <th>Decision_Tree</th>\n",
       "      <th>Random_Forest</th>\n",
       "      <th>Stacking</th>\n",
       "    </tr>\n",
       "  </thead>\n",
       "  <tbody>\n",
       "    <tr>\n",
       "      <th>0</th>\n",
       "      <td>0.611807</td>\n",
       "      <td>0.722052</td>\n",
       "      <td>0.630542</td>\n",
       "      <td>0.764706</td>\n",
       "      <td>0.725637</td>\n",
       "      <td>0.743202</td>\n",
       "    </tr>\n",
       "  </tbody>\n",
       "</table>\n",
       "</div>"
      ],
      "text/plain": [
       "   Logistic_Regression  Naive_Bayes       SVM  Decision_Tree  Random_Forest  \\\n",
       "0             0.611807     0.722052  0.630542       0.764706       0.725637   \n",
       "\n",
       "   Stacking  \n",
       "0  0.743202  "
      ]
     },
     "execution_count": 137,
     "metadata": {},
     "output_type": "execute_result"
    }
   ],
   "source": [
    "print('**Average F1 score values of different algorithms**: \\n')\n",
    "f1_score = pd.DataFrame(final_metrics, index = [0])\n",
    "f1_score"
   ]
  }
 ],
 "metadata": {
  "kernelspec": {
   "display_name": "Python 3",
   "language": "python",
   "name": "python3"
  },
  "language_info": {
   "codemirror_mode": {
    "name": "ipython",
    "version": 3
   },
   "file_extension": ".py",
   "mimetype": "text/x-python",
   "name": "python",
   "nbconvert_exporter": "python",
   "pygments_lexer": "ipython3",
   "version": "3.7.3"
  },
  "toc": {
   "base_numbering": 1,
   "nav_menu": {},
   "number_sections": true,
   "sideBar": true,
   "skip_h1_title": false,
   "title_cell": "Table of Contents",
   "title_sidebar": "Contents",
   "toc_cell": false,
   "toc_position": {},
   "toc_section_display": true,
   "toc_window_display": false
  },
  "varInspector": {
   "cols": {
    "lenName": 16,
    "lenType": 16,
    "lenVar": 40
   },
   "kernels_config": {
    "python": {
     "delete_cmd_postfix": "",
     "delete_cmd_prefix": "del ",
     "library": "var_list.py",
     "varRefreshCmd": "print(var_dic_list())"
    },
    "r": {
     "delete_cmd_postfix": ") ",
     "delete_cmd_prefix": "rm(",
     "library": "var_list.r",
     "varRefreshCmd": "cat(var_dic_list()) "
    }
   },
   "types_to_exclude": [
    "module",
    "function",
    "builtin_function_or_method",
    "instance",
    "_Feature"
   ],
   "window_display": false
  }
 },
 "nbformat": 4,
 "nbformat_minor": 2
}
