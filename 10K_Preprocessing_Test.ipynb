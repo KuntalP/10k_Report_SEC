{
 "cells": [
  {
   "cell_type": "markdown",
   "metadata": {},
   "source": [
    "### Importing the libraries"
   ]
  },
  {
   "cell_type": "code",
   "execution_count": 1,
   "metadata": {},
   "outputs": [],
   "source": [
    "import pandas as pd\n",
    "import numpy as np\n",
    "import requests\n",
    "from bs4 import BeautifulSoup as bs\n",
    "import numpy as np\n",
    "import pandas as pd\n",
    "import urllib.request as url \n",
    "import re, string, unicodedata\n",
    "import nltk\n",
    "from bs4 import BeautifulSoup\n",
    "from nltk import word_tokenize, sent_tokenize\n",
    "from nltk.corpus import stopwords\n",
    "from nltk.stem import LancasterStemmer, WordNetLemmatizer\n",
    "import string"
   ]
  },
  {
   "cell_type": "code",
   "execution_count": 2,
   "metadata": {},
   "outputs": [],
   "source": [
    "firstTest = pd.read_csv('firstf_test.csv', encoding = 'unicode_escape')"
   ]
  },
  {
   "cell_type": "code",
   "execution_count": 3,
   "metadata": {},
   "outputs": [
    {
     "data": {
      "text/html": [
       "<div>\n",
       "<style scoped>\n",
       "    .dataframe tbody tr th:only-of-type {\n",
       "        vertical-align: middle;\n",
       "    }\n",
       "\n",
       "    .dataframe tbody tr th {\n",
       "        vertical-align: top;\n",
       "    }\n",
       "\n",
       "    .dataframe thead th {\n",
       "        text-align: right;\n",
       "    }\n",
       "</style>\n",
       "<table border=\"1\" class=\"dataframe\">\n",
       "  <thead>\n",
       "    <tr style=\"text-align: right;\">\n",
       "      <th></th>\n",
       "      <th>Unnamed: 0</th>\n",
       "      <th>id</th>\n",
       "      <th>ticker</th>\n",
       "      <th>cik</th>\n",
       "      <th>filing_date</th>\n",
       "      <th>X10k_link</th>\n",
       "      <th>tenk_data</th>\n",
       "    </tr>\n",
       "  </thead>\n",
       "  <tbody>\n",
       "    <tr>\n",
       "      <th>425</th>\n",
       "      <td>426</td>\n",
       "      <td>425</td>\n",
       "      <td>AZO</td>\n",
       "      <td>866787</td>\n",
       "      <td>10/22/2012</td>\n",
       "      <td>https://www.sec.gov/Archives/edgar/data/866787...</td>\n",
       "      <td>Table of Contents UNITED STATES SECURITIES AN...</td>\n",
       "    </tr>\n",
       "    <tr>\n",
       "      <th>426</th>\n",
       "      <td>427</td>\n",
       "      <td>426</td>\n",
       "      <td>HBAN</td>\n",
       "      <td>49196</td>\n",
       "      <td>3/20/2003</td>\n",
       "      <td>https://www.sec.gov/Archives/edgar/data/49196/...</td>\n",
       "      <td>SECURITIES AND EXCHANGE COMMISSION WASHINGTON...</td>\n",
       "    </tr>\n",
       "    <tr>\n",
       "      <th>427</th>\n",
       "      <td>428</td>\n",
       "      <td>427</td>\n",
       "      <td>FE</td>\n",
       "      <td>1031296</td>\n",
       "      <td>2/27/2014</td>\n",
       "      <td>https://www.sec.gov/Archives/edgar/data/103129...</td>\n",
       "      <td>\\t \\t UNITED STATES SECURITIES AND EXCHANGE C...</td>\n",
       "    </tr>\n",
       "    <tr>\n",
       "      <th>428</th>\n",
       "      <td>429</td>\n",
       "      <td>428</td>\n",
       "      <td>PFE</td>\n",
       "      <td>78003</td>\n",
       "      <td>2/23/2017</td>\n",
       "      <td>https://www.sec.gov/Archives/edgar/data/78003/...</td>\n",
       "      <td>\\t \\t (Mark One) x ANNUAL REPORT PURSUANT TO ...</td>\n",
       "    </tr>\n",
       "    <tr>\n",
       "      <th>429</th>\n",
       "      <td>430</td>\n",
       "      <td>429</td>\n",
       "      <td>MAT</td>\n",
       "      <td>63276</td>\n",
       "      <td>3/22/1995</td>\n",
       "      <td>https://www.sec.gov/Archives/edgar/data/63276/...</td>\n",
       "      <td>=============================================...</td>\n",
       "    </tr>\n",
       "  </tbody>\n",
       "</table>\n",
       "</div>"
      ],
      "text/plain": [
       "     Unnamed: 0   id ticker      cik filing_date  \\\n",
       "425         426  425    AZO   866787  10/22/2012   \n",
       "426         427  426   HBAN    49196   3/20/2003   \n",
       "427         428  427     FE  1031296   2/27/2014   \n",
       "428         429  428    PFE    78003   2/23/2017   \n",
       "429         430  429    MAT    63276   3/22/1995   \n",
       "\n",
       "                                             X10k_link  \\\n",
       "425  https://www.sec.gov/Archives/edgar/data/866787...   \n",
       "426  https://www.sec.gov/Archives/edgar/data/49196/...   \n",
       "427  https://www.sec.gov/Archives/edgar/data/103129...   \n",
       "428  https://www.sec.gov/Archives/edgar/data/78003/...   \n",
       "429  https://www.sec.gov/Archives/edgar/data/63276/...   \n",
       "\n",
       "                                             tenk_data  \n",
       "425   Table of Contents UNITED STATES SECURITIES AN...  \n",
       "426   SECURITIES AND EXCHANGE COMMISSION WASHINGTON...  \n",
       "427   \\t \\t UNITED STATES SECURITIES AND EXCHANGE C...  \n",
       "428   \\t \\t (Mark One) x ANNUAL REPORT PURSUANT TO ...  \n",
       "429   =============================================...  "
      ]
     },
     "execution_count": 3,
     "metadata": {},
     "output_type": "execute_result"
    }
   ],
   "source": [
    "firstTest.tail()"
   ]
  },
  {
   "cell_type": "code",
   "execution_count": 4,
   "metadata": {},
   "outputs": [
    {
     "name": "stdout",
     "output_type": "stream",
     "text": [
      "How many most common words to print: 50\n",
      "\n",
      "OK. The 50 most common words are as follows\n",
      "\n",
      "the :  1059789\n",
      "of :  851247\n",
      "and :  768634\n",
      "to :  512823\n",
      "in :  469471\n",
      "for :  234290\n",
      "a :  227735\n",
      "$ :  221607\n",
      "as :  177520\n",
      "on :  171133\n",
      "our :  167058\n",
      "or :  137545\n",
      ") :  137301\n",
      "by :  133368\n",
      "are :  129065\n",
      "company :  123111\n",
      "million :  119294\n",
      "is :  116266\n",
      "with :  108514\n",
      "that :  106559\n",
      "other :  100309\n",
      "we :  99054\n",
      "financial :  97006\n",
      "from :  92918\n",
      "december :  88902\n",
      "31 :  87827\n",
      "s :  84616\n",
      "at :  82724\n",
      "net :  80181\n",
      "income :  76240\n",
      "be :  72937\n",
      "which :  65988\n",
      "an :  59620\n",
      "not :  57514\n",
      "assets :  57253\n",
      "stock :  56076\n",
      "these :  55688\n",
      "cash :  54988\n",
      "value :  54738\n",
      "its :  54400\n",
      "have :  51503\n",
      "may :  51011\n",
      "was :  50775\n",
      "operations :  48971\n",
      "tax :  48538\n",
      "interest :  48200\n",
      "under :  47871\n",
      "year :  47022\n",
      "consolidated :  46749\n",
      " :  46718\n"
     ]
    },
    {
     "data": {
      "text/plain": [
       "<matplotlib.axes._subplots.AxesSubplot at 0x1754e82ac18>"
      ]
     },
     "execution_count": 4,
     "metadata": {},
     "output_type": "execute_result"
    },
    {
     "data": {
      "image/png": "[encoded data removed]",
      "text/plain": [
       "<Figure size 432x288 with 1 Axes>"
      ]
     },
     "metadata": {
      "needs_background": "light"
     },
     "output_type": "display_data"
    }
   ],
   "source": [
    "import collections\n",
    "import pandas as pd\n",
    "import matplotlib.pyplot as plt\n",
    "%matplotlib inline\n",
    "\n",
    "file = open('firstf_test.csv', encoding = 'unicode_escape')\n",
    "a= file.read()         \n",
    "            \n",
    "# Stopwords\n",
    "stopwords = set(line.strip() for line in open('firstf_test.csv'))\n",
    "stopwords = stopwords.union(set(['mr','mrs','one','two','said']))\n",
    "# Instantiate a dictionary, and for every word in the file, \n",
    "# Add to the dictionary if it doesn't exist. If it does, increase the count.\n",
    "wordcount = {}\n",
    "# To eliminate duplicates, remember to split by punctuation, and use case demiliters.\n",
    "for word in a.lower().split():\n",
    "    word = word.replace(\".\",\"\")\n",
    "    word = word.replace(\",\",\"\")\n",
    "    word = word.replace(\":\",\"\")\n",
    "    word = word.replace(\"\\\"\",\"\")\n",
    "    word = word.replace(\"!\",\"\")\n",
    "    word = word.replace(\"â€œ\",\"\")\n",
    "    word = word.replace(\"â€˜\",\"\")\n",
    "    word = word.replace(\"*\",\"\")\n",
    "    if word not in stopwords:\n",
    "        if word not in wordcount:\n",
    "            wordcount[word] = 1\n",
    "        else:\n",
    "            wordcount[word] += 1\n",
    "# Print most common word\n",
    "n_print = int(input(\"How many most common words to print: \"))\n",
    "print(\"\\nOK. The {} most common words are as follows\\n\".format(n_print))\n",
    "word_counter = collections.Counter(wordcount)\n",
    "for word, count in word_counter.most_common(n_print):\n",
    "    print(word, \": \", count)\n",
    "# Close the file\n",
    "file.close()\n",
    "# Create a data frame of the most common words \n",
    "# Draw a bar chart\n",
    "lsthalfTest = word_counter.most_common(n_print)\n",
    "df1sthalftest = pd.DataFrame(lsthalfTest, columns = ['Word', 'Count'])\n",
    "df1sthalftest.plot.bar(x='Word',y='Count')"
   ]
  },
  {
   "cell_type": "code",
   "execution_count": 5,
   "metadata": {},
   "outputs": [],
   "source": [
    "secondTest = pd.read_csv('secondtf_test.csv', encoding = 'unicode_escape')\n"
   ]
  },
  {
   "cell_type": "code",
   "execution_count": 6,
   "metadata": {},
   "outputs": [
    {
     "data": {
      "text/html": [
       "<div>\n",
       "<style scoped>\n",
       "    .dataframe tbody tr th:only-of-type {\n",
       "        vertical-align: middle;\n",
       "    }\n",
       "\n",
       "    .dataframe tbody tr th {\n",
       "        vertical-align: top;\n",
       "    }\n",
       "\n",
       "    .dataframe thead th {\n",
       "        text-align: right;\n",
       "    }\n",
       "</style>\n",
       "<table border=\"1\" class=\"dataframe\">\n",
       "  <thead>\n",
       "    <tr style=\"text-align: right;\">\n",
       "      <th></th>\n",
       "      <th>Unnamed: 0</th>\n",
       "      <th>id</th>\n",
       "      <th>ticker</th>\n",
       "      <th>cik</th>\n",
       "      <th>filing_date</th>\n",
       "      <th>X10k_link</th>\n",
       "      <th>tenk_data</th>\n",
       "    </tr>\n",
       "  </thead>\n",
       "  <tbody>\n",
       "    <tr>\n",
       "      <th>421</th>\n",
       "      <td>852</td>\n",
       "      <td>851</td>\n",
       "      <td>UTX</td>\n",
       "      <td>101829</td>\n",
       "      <td>2/6/2014</td>\n",
       "      <td>https://www.sec.gov/Archives/edgar/data/101829...</td>\n",
       "      <td>\\t \\t Table of Contents UNITED STATES SECURIT...</td>\n",
       "    </tr>\n",
       "    <tr>\n",
       "      <th>422</th>\n",
       "      <td>853</td>\n",
       "      <td>852</td>\n",
       "      <td>MRO</td>\n",
       "      <td>101778</td>\n",
       "      <td>3/10/2005</td>\n",
       "      <td>https://www.sec.gov/Archives/edgar/data/101778...</td>\n",
       "      <td>Use these links to rapidly review the documen...</td>\n",
       "    </tr>\n",
       "    <tr>\n",
       "      <th>423</th>\n",
       "      <td>854</td>\n",
       "      <td>853</td>\n",
       "      <td>KIM</td>\n",
       "      <td>879101</td>\n",
       "      <td>2/27/2013</td>\n",
       "      <td>https://www.sec.gov/Archives/edgar/data/879101...</td>\n",
       "      <td>UNITED STATES SECURITIES AND EXCHANGE COMMISS...</td>\n",
       "    </tr>\n",
       "    <tr>\n",
       "      <th>424</th>\n",
       "      <td>855</td>\n",
       "      <td>854</td>\n",
       "      <td>SYMC</td>\n",
       "      <td>849399</td>\n",
       "      <td>5/21/2012</td>\n",
       "      <td>https://www.sec.gov/Archives/edgar/data/849399...</td>\n",
       "      <td>Table of Contents UNITED STATES SECURITIES AN...</td>\n",
       "    </tr>\n",
       "    <tr>\n",
       "      <th>425</th>\n",
       "      <td>856</td>\n",
       "      <td>855</td>\n",
       "      <td>MAT</td>\n",
       "      <td>63276</td>\n",
       "      <td>2/24/2011</td>\n",
       "      <td>https://www.sec.gov/Archives/edgar/data/63276/...</td>\n",
       "      <td>Table of Contents UNITED STATES SECURITIES AN...</td>\n",
       "    </tr>\n",
       "  </tbody>\n",
       "</table>\n",
       "</div>"
      ],
      "text/plain": [
       "     Unnamed: 0   id ticker     cik filing_date  \\\n",
       "421         852  851    UTX  101829    2/6/2014   \n",
       "422         853  852    MRO  101778   3/10/2005   \n",
       "423         854  853    KIM  879101   2/27/2013   \n",
       "424         855  854   SYMC  849399   5/21/2012   \n",
       "425         856  855    MAT   63276   2/24/2011   \n",
       "\n",
       "                                             X10k_link  \\\n",
       "421  https://www.sec.gov/Archives/edgar/data/101829...   \n",
       "422  https://www.sec.gov/Archives/edgar/data/101778...   \n",
       "423  https://www.sec.gov/Archives/edgar/data/879101...   \n",
       "424  https://www.sec.gov/Archives/edgar/data/849399...   \n",
       "425  https://www.sec.gov/Archives/edgar/data/63276/...   \n",
       "\n",
       "                                             tenk_data  \n",
       "421   \\t \\t Table of Contents UNITED STATES SECURIT...  \n",
       "422   Use these links to rapidly review the documen...  \n",
       "423   UNITED STATES SECURITIES AND EXCHANGE COMMISS...  \n",
       "424   Table of Contents UNITED STATES SECURITIES AN...  \n",
       "425   Table of Contents UNITED STATES SECURITIES AN...  "
      ]
     },
     "execution_count": 6,
     "metadata": {},
     "output_type": "execute_result"
    }
   ],
   "source": [
    "secondTest.tail()"
   ]
  },
  {
   "cell_type": "code",
   "execution_count": 7,
   "metadata": {},
   "outputs": [],
   "source": [
    "dfTest = pd.concat([firstTest,secondTest])"
   ]
  },
  {
   "cell_type": "code",
   "execution_count": 8,
   "metadata": {},
   "outputs": [
    {
     "data": {
      "text/plain": [
       "(856, 7)"
      ]
     },
     "execution_count": 8,
     "metadata": {},
     "output_type": "execute_result"
    }
   ],
   "source": [
    "dfTest.shape"
   ]
  },
  {
   "cell_type": "markdown",
   "metadata": {},
   "source": [
    "## Data Preprocessing"
   ]
  },
  {
   "cell_type": "markdown",
   "metadata": {},
   "source": [
    "Drop the columns ticker and Unnamed: 0. \n",
    "\n",
    "Ticker and cik are both indicative of the company name, so we drop ticker."
   ]
  },
  {
   "cell_type": "code",
   "execution_count": 9,
   "metadata": {},
   "outputs": [],
   "source": [
    "dfTest = dfTest.drop(columns = ['ticker', 'Unnamed: 0'])"
   ]
  },
  {
   "cell_type": "code",
   "execution_count": 10,
   "metadata": {},
   "outputs": [
    {
     "data": {
      "text/html": [
       "<div>\n",
       "<style scoped>\n",
       "    .dataframe tbody tr th:only-of-type {\n",
       "        vertical-align: middle;\n",
       "    }\n",
       "\n",
       "    .dataframe tbody tr th {\n",
       "        vertical-align: top;\n",
       "    }\n",
       "\n",
       "    .dataframe thead th {\n",
       "        text-align: right;\n",
       "    }\n",
       "</style>\n",
       "<table border=\"1\" class=\"dataframe\">\n",
       "  <thead>\n",
       "    <tr style=\"text-align: right;\">\n",
       "      <th></th>\n",
       "      <th>id</th>\n",
       "      <th>cik</th>\n",
       "      <th>filing_date</th>\n",
       "      <th>X10k_link</th>\n",
       "      <th>tenk_data</th>\n",
       "    </tr>\n",
       "  </thead>\n",
       "  <tbody>\n",
       "    <tr>\n",
       "      <th>0</th>\n",
       "      <td>0</td>\n",
       "      <td>40533</td>\n",
       "      <td>2/17/2012</td>\n",
       "      <td>https://www.sec.gov/Archives/edgar/data/40533/...</td>\n",
       "      <td>Table of Contents UNITED STATES SECURITIES AN...</td>\n",
       "    </tr>\n",
       "    <tr>\n",
       "      <th>1</th>\n",
       "      <td>1</td>\n",
       "      <td>36270</td>\n",
       "      <td>3/19/1999</td>\n",
       "      <td>https://www.sec.gov/Archives/edgar/data/36270/...</td>\n",
       "      <td>UNITED STATES SECURITIES AND EXCHANGE COMMISS...</td>\n",
       "    </tr>\n",
       "    <tr>\n",
       "      <th>2</th>\n",
       "      <td>2</td>\n",
       "      <td>315852</td>\n",
       "      <td>3/6/2001</td>\n",
       "      <td>https://www.sec.gov/Archives/edgar/data/315852...</td>\n",
       "      <td>TABLE OF CONTENTS SECURITIES AND EXCHANGE COM...</td>\n",
       "    </tr>\n",
       "    <tr>\n",
       "      <th>3</th>\n",
       "      <td>3</td>\n",
       "      <td>920148</td>\n",
       "      <td>2/26/2009</td>\n",
       "      <td>https://www.sec.gov/Archives/edgar/data/920148...</td>\n",
       "      <td>UNITED STATES SECURITIES AND EXCHANGE COMMISS...</td>\n",
       "    </tr>\n",
       "    <tr>\n",
       "      <th>4</th>\n",
       "      <td>4</td>\n",
       "      <td>96021</td>\n",
       "      <td>9/16/2004</td>\n",
       "      <td>https://www.sec.gov/Archives/edgar/data/96021/...</td>\n",
       "      <td>- -------------------------------------------...</td>\n",
       "    </tr>\n",
       "  </tbody>\n",
       "</table>\n",
       "</div>"
      ],
      "text/plain": [
       "   id     cik filing_date                                          X10k_link  \\\n",
       "0   0   40533   2/17/2012  https://www.sec.gov/Archives/edgar/data/40533/...   \n",
       "1   1   36270   3/19/1999  https://www.sec.gov/Archives/edgar/data/36270/...   \n",
       "2   2  315852    3/6/2001  https://www.sec.gov/Archives/edgar/data/315852...   \n",
       "3   3  920148   2/26/2009  https://www.sec.gov/Archives/edgar/data/920148...   \n",
       "4   4   96021   9/16/2004  https://www.sec.gov/Archives/edgar/data/96021/...   \n",
       "\n",
       "                                           tenk_data  \n",
       "0   Table of Contents UNITED STATES SECURITIES AN...  \n",
       "1   UNITED STATES SECURITIES AND EXCHANGE COMMISS...  \n",
       "2   TABLE OF CONTENTS SECURITIES AND EXCHANGE COM...  \n",
       "3   UNITED STATES SECURITIES AND EXCHANGE COMMISS...  \n",
       "4   - -------------------------------------------...  "
      ]
     },
     "execution_count": 10,
     "metadata": {},
     "output_type": "execute_result"
    }
   ],
   "source": [
    "dfTest.head()"
   ]
  },
  {
   "cell_type": "code",
   "execution_count": 11,
   "metadata": {},
   "outputs": [],
   "source": [
    "def remove_accented_chars(text):\n",
    "    text = unicodedata.normalize('NFKD', text).encode('ascii', 'ignore').decode('utf-8', 'ignore')\n",
    "    return text\n",
    "\n",
    "def remove_punctuation(text):\n",
    "    for c in string.punctuation:\n",
    "        text = text.replace(c,\"\")\n",
    "    return text\n",
    "  \n",
    "def remove_digits(text):\n",
    "    return re.sub('[\\d%/$]', '', text)\n",
    "  \n",
    "def to_upper_case(text):\n",
    "    text = text.upper()\n",
    "    return text\n",
    "  \n",
    "def remove_extra_hyphens(text):\n",
    "    text = re.sub('-+', ' ', text)\n",
    "    return text"
   ]
  },
  {
   "cell_type": "code",
   "execution_count": 12,
   "metadata": {},
   "outputs": [],
   "source": [
    "def clean_text(text):\n",
    "    text = remove_accented_chars(text).replace('\\\\n', '').replace('\\t', '')\n",
    "    text = remove_digits(text)\n",
    "    text =  remove_extra_hyphens(text)\n",
    "    text = remove_punctuation(text)\n",
    "    text = to_upper_case(text)\n",
    "    #text = text.replace('\\\\n', '').replace('\\\\t', '')\n",
    "    return text"
   ]
  },
  {
   "cell_type": "code",
   "execution_count": 13,
   "metadata": {},
   "outputs": [],
   "source": [
    "cleaned_data_list = []\n",
    "for i in dfTest['tenk_data']:\n",
    "    cleaned_data_list.append(clean_text(i))"
   ]
  },
  {
   "cell_type": "code",
   "execution_count": 14,
   "metadata": {},
   "outputs": [],
   "source": [
    "dfTest['cleaned_data'] = cleaned_data_list"
   ]
  },
  {
   "cell_type": "code",
   "execution_count": 15,
   "metadata": {},
   "outputs": [
    {
     "data": {
      "text/html": [
       "<div>\n",
       "<style scoped>\n",
       "    .dataframe tbody tr th:only-of-type {\n",
       "        vertical-align: middle;\n",
       "    }\n",
       "\n",
       "    .dataframe tbody tr th {\n",
       "        vertical-align: top;\n",
       "    }\n",
       "\n",
       "    .dataframe thead th {\n",
       "        text-align: right;\n",
       "    }\n",
       "</style>\n",
       "<table border=\"1\" class=\"dataframe\">\n",
       "  <thead>\n",
       "    <tr style=\"text-align: right;\">\n",
       "      <th></th>\n",
       "      <th>id</th>\n",
       "      <th>cik</th>\n",
       "      <th>filing_date</th>\n",
       "      <th>X10k_link</th>\n",
       "      <th>tenk_data</th>\n",
       "      <th>cleaned_data</th>\n",
       "    </tr>\n",
       "  </thead>\n",
       "  <tbody>\n",
       "    <tr>\n",
       "      <th>0</th>\n",
       "      <td>0</td>\n",
       "      <td>40533</td>\n",
       "      <td>2/17/2012</td>\n",
       "      <td>https://www.sec.gov/Archives/edgar/data/40533/...</td>\n",
       "      <td>Table of Contents UNITED STATES SECURITIES AN...</td>\n",
       "      <td>TABLE OF CONTENTS UNITED STATES SECURITIES AN...</td>\n",
       "    </tr>\n",
       "    <tr>\n",
       "      <th>1</th>\n",
       "      <td>1</td>\n",
       "      <td>36270</td>\n",
       "      <td>3/19/1999</td>\n",
       "      <td>https://www.sec.gov/Archives/edgar/data/36270/...</td>\n",
       "      <td>UNITED STATES SECURITIES AND EXCHANGE COMMISS...</td>\n",
       "      <td>UNITED STATES SECURITIES AND EXCHANGE COMMISS...</td>\n",
       "    </tr>\n",
       "    <tr>\n",
       "      <th>2</th>\n",
       "      <td>2</td>\n",
       "      <td>315852</td>\n",
       "      <td>3/6/2001</td>\n",
       "      <td>https://www.sec.gov/Archives/edgar/data/315852...</td>\n",
       "      <td>TABLE OF CONTENTS SECURITIES AND EXCHANGE COM...</td>\n",
       "      <td>TABLE OF CONTENTS SECURITIES AND EXCHANGE COM...</td>\n",
       "    </tr>\n",
       "    <tr>\n",
       "      <th>3</th>\n",
       "      <td>3</td>\n",
       "      <td>920148</td>\n",
       "      <td>2/26/2009</td>\n",
       "      <td>https://www.sec.gov/Archives/edgar/data/920148...</td>\n",
       "      <td>UNITED STATES SECURITIES AND EXCHANGE COMMISS...</td>\n",
       "      <td>UNITED STATES SECURITIES AND EXCHANGE COMMISS...</td>\n",
       "    </tr>\n",
       "    <tr>\n",
       "      <th>4</th>\n",
       "      <td>4</td>\n",
       "      <td>96021</td>\n",
       "      <td>9/16/2004</td>\n",
       "      <td>https://www.sec.gov/Archives/edgar/data/96021/...</td>\n",
       "      <td>- -------------------------------------------...</td>\n",
       "      <td>UNITED STATES SECURITIES AND EXCHANGE...</td>\n",
       "    </tr>\n",
       "  </tbody>\n",
       "</table>\n",
       "</div>"
      ],
      "text/plain": [
       "   id     cik filing_date                                          X10k_link  \\\n",
       "0   0   40533   2/17/2012  https://www.sec.gov/Archives/edgar/data/40533/...   \n",
       "1   1   36270   3/19/1999  https://www.sec.gov/Archives/edgar/data/36270/...   \n",
       "2   2  315852    3/6/2001  https://www.sec.gov/Archives/edgar/data/315852...   \n",
       "3   3  920148   2/26/2009  https://www.sec.gov/Archives/edgar/data/920148...   \n",
       "4   4   96021   9/16/2004  https://www.sec.gov/Archives/edgar/data/96021/...   \n",
       "\n",
       "                                           tenk_data  \\\n",
       "0   Table of Contents UNITED STATES SECURITIES AN...   \n",
       "1   UNITED STATES SECURITIES AND EXCHANGE COMMISS...   \n",
       "2   TABLE OF CONTENTS SECURITIES AND EXCHANGE COM...   \n",
       "3   UNITED STATES SECURITIES AND EXCHANGE COMMISS...   \n",
       "4   - -------------------------------------------...   \n",
       "\n",
       "                                        cleaned_data  \n",
       "0   TABLE OF CONTENTS UNITED STATES SECURITIES AN...  \n",
       "1   UNITED STATES SECURITIES AND EXCHANGE COMMISS...  \n",
       "2   TABLE OF CONTENTS SECURITIES AND EXCHANGE COM...  \n",
       "3   UNITED STATES SECURITIES AND EXCHANGE COMMISS...  \n",
       "4           UNITED STATES SECURITIES AND EXCHANGE...  "
      ]
     },
     "execution_count": 15,
     "metadata": {},
     "output_type": "execute_result"
    }
   ],
   "source": [
    "dfTest.head()"
   ]
  },
  {
   "cell_type": "code",
   "execution_count": null,
   "metadata": {},
   "outputs": [],
   "source": []
  },
  {
   "cell_type": "markdown",
   "metadata": {},
   "source": [
    "## Tokenize"
   ]
  },
  {
   "cell_type": "code",
   "execution_count": 16,
   "metadata": {},
   "outputs": [],
   "source": [
    "token_text = []\n",
    "\n",
    "for i in dfTest['cleaned_data']:\n",
    "    token_text.append(word_tokenize(i))"
   ]
  },
  {
   "cell_type": "code",
   "execution_count": 17,
   "metadata": {},
   "outputs": [],
   "source": [
    "dfTest['token_data'] = token_text"
   ]
  },
  {
   "cell_type": "code",
   "execution_count": 18,
   "metadata": {},
   "outputs": [
    {
     "data": {
      "text/html": [
       "<div>\n",
       "<style scoped>\n",
       "    .dataframe tbody tr th:only-of-type {\n",
       "        vertical-align: middle;\n",
       "    }\n",
       "\n",
       "    .dataframe tbody tr th {\n",
       "        vertical-align: top;\n",
       "    }\n",
       "\n",
       "    .dataframe thead th {\n",
       "        text-align: right;\n",
       "    }\n",
       "</style>\n",
       "<table border=\"1\" class=\"dataframe\">\n",
       "  <thead>\n",
       "    <tr style=\"text-align: right;\">\n",
       "      <th></th>\n",
       "      <th>id</th>\n",
       "      <th>cik</th>\n",
       "      <th>filing_date</th>\n",
       "      <th>X10k_link</th>\n",
       "      <th>tenk_data</th>\n",
       "      <th>cleaned_data</th>\n",
       "      <th>token_data</th>\n",
       "    </tr>\n",
       "  </thead>\n",
       "  <tbody>\n",
       "    <tr>\n",
       "      <th>0</th>\n",
       "      <td>0</td>\n",
       "      <td>40533</td>\n",
       "      <td>2/17/2012</td>\n",
       "      <td>https://www.sec.gov/Archives/edgar/data/40533/...</td>\n",
       "      <td>Table of Contents UNITED STATES SECURITIES AN...</td>\n",
       "      <td>TABLE OF CONTENTS UNITED STATES SECURITIES AN...</td>\n",
       "      <td>[TABLE, OF, CONTENTS, UNITED, STATES, SECURITI...</td>\n",
       "    </tr>\n",
       "    <tr>\n",
       "      <th>1</th>\n",
       "      <td>1</td>\n",
       "      <td>36270</td>\n",
       "      <td>3/19/1999</td>\n",
       "      <td>https://www.sec.gov/Archives/edgar/data/36270/...</td>\n",
       "      <td>UNITED STATES SECURITIES AND EXCHANGE COMMISS...</td>\n",
       "      <td>UNITED STATES SECURITIES AND EXCHANGE COMMISS...</td>\n",
       "      <td>[UNITED, STATES, SECURITIES, AND, EXCHANGE, CO...</td>\n",
       "    </tr>\n",
       "    <tr>\n",
       "      <th>2</th>\n",
       "      <td>2</td>\n",
       "      <td>315852</td>\n",
       "      <td>3/6/2001</td>\n",
       "      <td>https://www.sec.gov/Archives/edgar/data/315852...</td>\n",
       "      <td>TABLE OF CONTENTS SECURITIES AND EXCHANGE COM...</td>\n",
       "      <td>TABLE OF CONTENTS SECURITIES AND EXCHANGE COM...</td>\n",
       "      <td>[TABLE, OF, CONTENTS, SECURITIES, AND, EXCHANG...</td>\n",
       "    </tr>\n",
       "    <tr>\n",
       "      <th>3</th>\n",
       "      <td>3</td>\n",
       "      <td>920148</td>\n",
       "      <td>2/26/2009</td>\n",
       "      <td>https://www.sec.gov/Archives/edgar/data/920148...</td>\n",
       "      <td>UNITED STATES SECURITIES AND EXCHANGE COMMISS...</td>\n",
       "      <td>UNITED STATES SECURITIES AND EXCHANGE COMMISS...</td>\n",
       "      <td>[UNITED, STATES, SECURITIES, AND, EXCHANGE, CO...</td>\n",
       "    </tr>\n",
       "    <tr>\n",
       "      <th>4</th>\n",
       "      <td>4</td>\n",
       "      <td>96021</td>\n",
       "      <td>9/16/2004</td>\n",
       "      <td>https://www.sec.gov/Archives/edgar/data/96021/...</td>\n",
       "      <td>- -------------------------------------------...</td>\n",
       "      <td>UNITED STATES SECURITIES AND EXCHANGE...</td>\n",
       "      <td>[UNITED, STATES, SECURITIES, AND, EXCHANGE, CO...</td>\n",
       "    </tr>\n",
       "  </tbody>\n",
       "</table>\n",
       "</div>"
      ],
      "text/plain": [
       "   id     cik filing_date                                          X10k_link  \\\n",
       "0   0   40533   2/17/2012  https://www.sec.gov/Archives/edgar/data/40533/...   \n",
       "1   1   36270   3/19/1999  https://www.sec.gov/Archives/edgar/data/36270/...   \n",
       "2   2  315852    3/6/2001  https://www.sec.gov/Archives/edgar/data/315852...   \n",
       "3   3  920148   2/26/2009  https://www.sec.gov/Archives/edgar/data/920148...   \n",
       "4   4   96021   9/16/2004  https://www.sec.gov/Archives/edgar/data/96021/...   \n",
       "\n",
       "                                           tenk_data  \\\n",
       "0   Table of Contents UNITED STATES SECURITIES AN...   \n",
       "1   UNITED STATES SECURITIES AND EXCHANGE COMMISS...   \n",
       "2   TABLE OF CONTENTS SECURITIES AND EXCHANGE COM...   \n",
       "3   UNITED STATES SECURITIES AND EXCHANGE COMMISS...   \n",
       "4   - -------------------------------------------...   \n",
       "\n",
       "                                        cleaned_data  \\\n",
       "0   TABLE OF CONTENTS UNITED STATES SECURITIES AN...   \n",
       "1   UNITED STATES SECURITIES AND EXCHANGE COMMISS...   \n",
       "2   TABLE OF CONTENTS SECURITIES AND EXCHANGE COM...   \n",
       "3   UNITED STATES SECURITIES AND EXCHANGE COMMISS...   \n",
       "4           UNITED STATES SECURITIES AND EXCHANGE...   \n",
       "\n",
       "                                          token_data  \n",
       "0  [TABLE, OF, CONTENTS, UNITED, STATES, SECURITI...  \n",
       "1  [UNITED, STATES, SECURITIES, AND, EXCHANGE, CO...  \n",
       "2  [TABLE, OF, CONTENTS, SECURITIES, AND, EXCHANG...  \n",
       "3  [UNITED, STATES, SECURITIES, AND, EXCHANGE, CO...  \n",
       "4  [UNITED, STATES, SECURITIES, AND, EXCHANGE, CO...  "
      ]
     },
     "execution_count": 18,
     "metadata": {},
     "output_type": "execute_result"
    }
   ],
   "source": [
    "dfTest.head()"
   ]
  },
  {
   "cell_type": "code",
   "execution_count": 19,
   "metadata": {},
   "outputs": [],
   "source": [
    "dfTest['word_count_token'] = dfTest['token_data'].apply(lambda x: len(x))"
   ]
  },
  {
   "cell_type": "code",
   "execution_count": 20,
   "metadata": {},
   "outputs": [
    {
     "data": {
      "text/html": [
       "<div>\n",
       "<style scoped>\n",
       "    .dataframe tbody tr th:only-of-type {\n",
       "        vertical-align: middle;\n",
       "    }\n",
       "\n",
       "    .dataframe tbody tr th {\n",
       "        vertical-align: top;\n",
       "    }\n",
       "\n",
       "    .dataframe thead th {\n",
       "        text-align: right;\n",
       "    }\n",
       "</style>\n",
       "<table border=\"1\" class=\"dataframe\">\n",
       "  <thead>\n",
       "    <tr style=\"text-align: right;\">\n",
       "      <th></th>\n",
       "      <th>id</th>\n",
       "      <th>cik</th>\n",
       "      <th>filing_date</th>\n",
       "      <th>X10k_link</th>\n",
       "      <th>tenk_data</th>\n",
       "      <th>cleaned_data</th>\n",
       "      <th>token_data</th>\n",
       "      <th>word_count_token</th>\n",
       "    </tr>\n",
       "  </thead>\n",
       "  <tbody>\n",
       "    <tr>\n",
       "      <th>0</th>\n",
       "      <td>0</td>\n",
       "      <td>40533</td>\n",
       "      <td>2/17/2012</td>\n",
       "      <td>https://www.sec.gov/Archives/edgar/data/40533/...</td>\n",
       "      <td>Table of Contents UNITED STATES SECURITIES AN...</td>\n",
       "      <td>TABLE OF CONTENTS UNITED STATES SECURITIES AN...</td>\n",
       "      <td>[TABLE, OF, CONTENTS, UNITED, STATES, SECURITI...</td>\n",
       "      <td>41108</td>\n",
       "    </tr>\n",
       "    <tr>\n",
       "      <th>1</th>\n",
       "      <td>1</td>\n",
       "      <td>36270</td>\n",
       "      <td>3/19/1999</td>\n",
       "      <td>https://www.sec.gov/Archives/edgar/data/36270/...</td>\n",
       "      <td>UNITED STATES SECURITIES AND EXCHANGE COMMISS...</td>\n",
       "      <td>UNITED STATES SECURITIES AND EXCHANGE COMMISS...</td>\n",
       "      <td>[UNITED, STATES, SECURITIES, AND, EXCHANGE, CO...</td>\n",
       "      <td>37429</td>\n",
       "    </tr>\n",
       "    <tr>\n",
       "      <th>2</th>\n",
       "      <td>2</td>\n",
       "      <td>315852</td>\n",
       "      <td>3/6/2001</td>\n",
       "      <td>https://www.sec.gov/Archives/edgar/data/315852...</td>\n",
       "      <td>TABLE OF CONTENTS SECURITIES AND EXCHANGE COM...</td>\n",
       "      <td>TABLE OF CONTENTS SECURITIES AND EXCHANGE COM...</td>\n",
       "      <td>[TABLE, OF, CONTENTS, SECURITIES, AND, EXCHANG...</td>\n",
       "      <td>29882</td>\n",
       "    </tr>\n",
       "    <tr>\n",
       "      <th>3</th>\n",
       "      <td>3</td>\n",
       "      <td>920148</td>\n",
       "      <td>2/26/2009</td>\n",
       "      <td>https://www.sec.gov/Archives/edgar/data/920148...</td>\n",
       "      <td>UNITED STATES SECURITIES AND EXCHANGE COMMISS...</td>\n",
       "      <td>UNITED STATES SECURITIES AND EXCHANGE COMMISS...</td>\n",
       "      <td>[UNITED, STATES, SECURITIES, AND, EXCHANGE, CO...</td>\n",
       "      <td>43991</td>\n",
       "    </tr>\n",
       "    <tr>\n",
       "      <th>4</th>\n",
       "      <td>4</td>\n",
       "      <td>96021</td>\n",
       "      <td>9/16/2004</td>\n",
       "      <td>https://www.sec.gov/Archives/edgar/data/96021/...</td>\n",
       "      <td>- -------------------------------------------...</td>\n",
       "      <td>UNITED STATES SECURITIES AND EXCHANGE...</td>\n",
       "      <td>[UNITED, STATES, SECURITIES, AND, EXCHANGE, CO...</td>\n",
       "      <td>28766</td>\n",
       "    </tr>\n",
       "  </tbody>\n",
       "</table>\n",
       "</div>"
      ],
      "text/plain": [
       "   id     cik filing_date                                          X10k_link  \\\n",
       "0   0   40533   2/17/2012  https://www.sec.gov/Archives/edgar/data/40533/...   \n",
       "1   1   36270   3/19/1999  https://www.sec.gov/Archives/edgar/data/36270/...   \n",
       "2   2  315852    3/6/2001  https://www.sec.gov/Archives/edgar/data/315852...   \n",
       "3   3  920148   2/26/2009  https://www.sec.gov/Archives/edgar/data/920148...   \n",
       "4   4   96021   9/16/2004  https://www.sec.gov/Archives/edgar/data/96021/...   \n",
       "\n",
       "                                           tenk_data  \\\n",
       "0   Table of Contents UNITED STATES SECURITIES AN...   \n",
       "1   UNITED STATES SECURITIES AND EXCHANGE COMMISS...   \n",
       "2   TABLE OF CONTENTS SECURITIES AND EXCHANGE COM...   \n",
       "3   UNITED STATES SECURITIES AND EXCHANGE COMMISS...   \n",
       "4   - -------------------------------------------...   \n",
       "\n",
       "                                        cleaned_data  \\\n",
       "0   TABLE OF CONTENTS UNITED STATES SECURITIES AN...   \n",
       "1   UNITED STATES SECURITIES AND EXCHANGE COMMISS...   \n",
       "2   TABLE OF CONTENTS SECURITIES AND EXCHANGE COM...   \n",
       "3   UNITED STATES SECURITIES AND EXCHANGE COMMISS...   \n",
       "4           UNITED STATES SECURITIES AND EXCHANGE...   \n",
       "\n",
       "                                          token_data  word_count_token  \n",
       "0  [TABLE, OF, CONTENTS, UNITED, STATES, SECURITI...             41108  \n",
       "1  [UNITED, STATES, SECURITIES, AND, EXCHANGE, CO...             37429  \n",
       "2  [TABLE, OF, CONTENTS, SECURITIES, AND, EXCHANG...             29882  \n",
       "3  [UNITED, STATES, SECURITIES, AND, EXCHANGE, CO...             43991  \n",
       "4  [UNITED, STATES, SECURITIES, AND, EXCHANGE, CO...             28766  "
      ]
     },
     "execution_count": 20,
     "metadata": {},
     "output_type": "execute_result"
    }
   ],
   "source": [
    "dfTest.head()"
   ]
  },
  {
   "cell_type": "markdown",
   "metadata": {},
   "source": [
    "## Remove stopwords"
   ]
  },
  {
   "cell_type": "code",
   "execution_count": 25,
   "metadata": {},
   "outputs": [],
   "source": [
    "\n",
    "from nltk.corpus import stopwords \n",
    "from nltk.tokenize import word_tokenize \n",
    "  \n",
    "stopset = set(w.upper for w in stopwords.words('english')) \n",
    "  "
   ]
  },
  {
   "cell_type": "code",
   "execution_count": 26,
   "metadata": {},
   "outputs": [],
   "source": [
    "stop_words_removed = []\n",
    "for tokenized_words in dfTest['token_data']:\n",
    "    \n",
    "    stop_words_removed.append([word for word in tokenized_words if word not in stopset])"
   ]
  },
  {
   "cell_type": "code",
   "execution_count": 28,
   "metadata": {},
   "outputs": [],
   "source": [
    "dfTest['sw_rem_data'] = stop_words_removed"
   ]
  },
  {
   "cell_type": "code",
   "execution_count": 29,
   "metadata": {},
   "outputs": [
    {
     "data": {
      "text/html": [
       "<div>\n",
       "<style scoped>\n",
       "    .dataframe tbody tr th:only-of-type {\n",
       "        vertical-align: middle;\n",
       "    }\n",
       "\n",
       "    .dataframe tbody tr th {\n",
       "        vertical-align: top;\n",
       "    }\n",
       "\n",
       "    .dataframe thead th {\n",
       "        text-align: right;\n",
       "    }\n",
       "</style>\n",
       "<table border=\"1\" class=\"dataframe\">\n",
       "  <thead>\n",
       "    <tr style=\"text-align: right;\">\n",
       "      <th></th>\n",
       "      <th>id</th>\n",
       "      <th>cik</th>\n",
       "      <th>filing_date</th>\n",
       "      <th>X10k_link</th>\n",
       "      <th>tenk_data</th>\n",
       "      <th>cleaned_data</th>\n",
       "      <th>token_data</th>\n",
       "      <th>word_count_token</th>\n",
       "      <th>sw_rem_data</th>\n",
       "    </tr>\n",
       "  </thead>\n",
       "  <tbody>\n",
       "    <tr>\n",
       "      <th>0</th>\n",
       "      <td>0</td>\n",
       "      <td>40533</td>\n",
       "      <td>2/17/2012</td>\n",
       "      <td>https://www.sec.gov/Archives/edgar/data/40533/...</td>\n",
       "      <td>Table of Contents UNITED STATES SECURITIES AN...</td>\n",
       "      <td>TABLE OF CONTENTS UNITED STATES SECURITIES AN...</td>\n",
       "      <td>[TABLE, OF, CONTENTS, UNITED, STATES, SECURITI...</td>\n",
       "      <td>41108</td>\n",
       "      <td>[TABLE, OF, CONTENTS, UNITED, STATES, SECURITI...</td>\n",
       "    </tr>\n",
       "    <tr>\n",
       "      <th>1</th>\n",
       "      <td>1</td>\n",
       "      <td>36270</td>\n",
       "      <td>3/19/1999</td>\n",
       "      <td>https://www.sec.gov/Archives/edgar/data/36270/...</td>\n",
       "      <td>UNITED STATES SECURITIES AND EXCHANGE COMMISS...</td>\n",
       "      <td>UNITED STATES SECURITIES AND EXCHANGE COMMISS...</td>\n",
       "      <td>[UNITED, STATES, SECURITIES, AND, EXCHANGE, CO...</td>\n",
       "      <td>37429</td>\n",
       "      <td>[UNITED, STATES, SECURITIES, AND, EXCHANGE, CO...</td>\n",
       "    </tr>\n",
       "    <tr>\n",
       "      <th>2</th>\n",
       "      <td>2</td>\n",
       "      <td>315852</td>\n",
       "      <td>3/6/2001</td>\n",
       "      <td>https://www.sec.gov/Archives/edgar/data/315852...</td>\n",
       "      <td>TABLE OF CONTENTS SECURITIES AND EXCHANGE COM...</td>\n",
       "      <td>TABLE OF CONTENTS SECURITIES AND EXCHANGE COM...</td>\n",
       "      <td>[TABLE, OF, CONTENTS, SECURITIES, AND, EXCHANG...</td>\n",
       "      <td>29882</td>\n",
       "      <td>[TABLE, OF, CONTENTS, SECURITIES, AND, EXCHANG...</td>\n",
       "    </tr>\n",
       "    <tr>\n",
       "      <th>3</th>\n",
       "      <td>3</td>\n",
       "      <td>920148</td>\n",
       "      <td>2/26/2009</td>\n",
       "      <td>https://www.sec.gov/Archives/edgar/data/920148...</td>\n",
       "      <td>UNITED STATES SECURITIES AND EXCHANGE COMMISS...</td>\n",
       "      <td>UNITED STATES SECURITIES AND EXCHANGE COMMISS...</td>\n",
       "      <td>[UNITED, STATES, SECURITIES, AND, EXCHANGE, CO...</td>\n",
       "      <td>43991</td>\n",
       "      <td>[UNITED, STATES, SECURITIES, AND, EXCHANGE, CO...</td>\n",
       "    </tr>\n",
       "    <tr>\n",
       "      <th>4</th>\n",
       "      <td>4</td>\n",
       "      <td>96021</td>\n",
       "      <td>9/16/2004</td>\n",
       "      <td>https://www.sec.gov/Archives/edgar/data/96021/...</td>\n",
       "      <td>- -------------------------------------------...</td>\n",
       "      <td>UNITED STATES SECURITIES AND EXCHANGE...</td>\n",
       "      <td>[UNITED, STATES, SECURITIES, AND, EXCHANGE, CO...</td>\n",
       "      <td>28766</td>\n",
       "      <td>[UNITED, STATES, SECURITIES, AND, EXCHANGE, CO...</td>\n",
       "    </tr>\n",
       "  </tbody>\n",
       "</table>\n",
       "</div>"
      ],
      "text/plain": [
       "   id     cik filing_date                                          X10k_link  \\\n",
       "0   0   40533   2/17/2012  https://www.sec.gov/Archives/edgar/data/40533/...   \n",
       "1   1   36270   3/19/1999  https://www.sec.gov/Archives/edgar/data/36270/...   \n",
       "2   2  315852    3/6/2001  https://www.sec.gov/Archives/edgar/data/315852...   \n",
       "3   3  920148   2/26/2009  https://www.sec.gov/Archives/edgar/data/920148...   \n",
       "4   4   96021   9/16/2004  https://www.sec.gov/Archives/edgar/data/96021/...   \n",
       "\n",
       "                                           tenk_data  \\\n",
       "0   Table of Contents UNITED STATES SECURITIES AN...   \n",
       "1   UNITED STATES SECURITIES AND EXCHANGE COMMISS...   \n",
       "2   TABLE OF CONTENTS SECURITIES AND EXCHANGE COM...   \n",
       "3   UNITED STATES SECURITIES AND EXCHANGE COMMISS...   \n",
       "4   - -------------------------------------------...   \n",
       "\n",
       "                                        cleaned_data  \\\n",
       "0   TABLE OF CONTENTS UNITED STATES SECURITIES AN...   \n",
       "1   UNITED STATES SECURITIES AND EXCHANGE COMMISS...   \n",
       "2   TABLE OF CONTENTS SECURITIES AND EXCHANGE COM...   \n",
       "3   UNITED STATES SECURITIES AND EXCHANGE COMMISS...   \n",
       "4           UNITED STATES SECURITIES AND EXCHANGE...   \n",
       "\n",
       "                                          token_data  word_count_token  \\\n",
       "0  [TABLE, OF, CONTENTS, UNITED, STATES, SECURITI...             41108   \n",
       "1  [UNITED, STATES, SECURITIES, AND, EXCHANGE, CO...             37429   \n",
       "2  [TABLE, OF, CONTENTS, SECURITIES, AND, EXCHANG...             29882   \n",
       "3  [UNITED, STATES, SECURITIES, AND, EXCHANGE, CO...             43991   \n",
       "4  [UNITED, STATES, SECURITIES, AND, EXCHANGE, CO...             28766   \n",
       "\n",
       "                                         sw_rem_data  \n",
       "0  [TABLE, OF, CONTENTS, UNITED, STATES, SECURITI...  \n",
       "1  [UNITED, STATES, SECURITIES, AND, EXCHANGE, CO...  \n",
       "2  [TABLE, OF, CONTENTS, SECURITIES, AND, EXCHANG...  \n",
       "3  [UNITED, STATES, SECURITIES, AND, EXCHANGE, CO...  \n",
       "4  [UNITED, STATES, SECURITIES, AND, EXCHANGE, CO...  "
      ]
     },
     "execution_count": 29,
     "metadata": {},
     "output_type": "execute_result"
    }
   ],
   "source": [
    "dfTest.head()"
   ]
  },
  {
   "cell_type": "code",
   "execution_count": 30,
   "metadata": {},
   "outputs": [],
   "source": [
    "dfTest['word_count_sw_rem'] = dfTest['sw_rem_data'].apply(lambda x: len(x))"
   ]
  },
  {
   "cell_type": "code",
   "execution_count": 31,
   "metadata": {},
   "outputs": [
    {
     "data": {
      "text/html": [
       "<div>\n",
       "<style scoped>\n",
       "    .dataframe tbody tr th:only-of-type {\n",
       "        vertical-align: middle;\n",
       "    }\n",
       "\n",
       "    .dataframe tbody tr th {\n",
       "        vertical-align: top;\n",
       "    }\n",
       "\n",
       "    .dataframe thead th {\n",
       "        text-align: right;\n",
       "    }\n",
       "</style>\n",
       "<table border=\"1\" class=\"dataframe\">\n",
       "  <thead>\n",
       "    <tr style=\"text-align: right;\">\n",
       "      <th></th>\n",
       "      <th>id</th>\n",
       "      <th>cik</th>\n",
       "      <th>filing_date</th>\n",
       "      <th>X10k_link</th>\n",
       "      <th>tenk_data</th>\n",
       "      <th>cleaned_data</th>\n",
       "      <th>token_data</th>\n",
       "      <th>word_count_token</th>\n",
       "      <th>sw_rem_data</th>\n",
       "      <th>word_count_sw_rem</th>\n",
       "    </tr>\n",
       "  </thead>\n",
       "  <tbody>\n",
       "    <tr>\n",
       "      <th>423</th>\n",
       "      <td>853</td>\n",
       "      <td>879101</td>\n",
       "      <td>2/27/2013</td>\n",
       "      <td>https://www.sec.gov/Archives/edgar/data/879101...</td>\n",
       "      <td>UNITED STATES SECURITIES AND EXCHANGE COMMISS...</td>\n",
       "      <td>UNITED STATES SECURITIES AND EXCHANGE COMMISS...</td>\n",
       "      <td>[UNITED, STATES, SECURITIES, AND, EXCHANGE, CO...</td>\n",
       "      <td>56179</td>\n",
       "      <td>[UNITED, STATES, SECURITIES, AND, EXCHANGE, CO...</td>\n",
       "      <td>56179</td>\n",
       "    </tr>\n",
       "    <tr>\n",
       "      <th>424</th>\n",
       "      <td>854</td>\n",
       "      <td>849399</td>\n",
       "      <td>5/21/2012</td>\n",
       "      <td>https://www.sec.gov/Archives/edgar/data/849399...</td>\n",
       "      <td>Table of Contents UNITED STATES SECURITIES AN...</td>\n",
       "      <td>TABLE OF CONTENTS UNITED STATES SECURITIES AN...</td>\n",
       "      <td>[TABLE, OF, CONTENTS, UNITED, STATES, SECURITI...</td>\n",
       "      <td>47351</td>\n",
       "      <td>[TABLE, OF, CONTENTS, UNITED, STATES, SECURITI...</td>\n",
       "      <td>47351</td>\n",
       "    </tr>\n",
       "    <tr>\n",
       "      <th>425</th>\n",
       "      <td>855</td>\n",
       "      <td>63276</td>\n",
       "      <td>2/24/2011</td>\n",
       "      <td>https://www.sec.gov/Archives/edgar/data/63276/...</td>\n",
       "      <td>Table of Contents UNITED STATES SECURITIES AN...</td>\n",
       "      <td>TABLE OF CONTENTS UNITED STATES SECURITIES AN...</td>\n",
       "      <td>[TABLE, OF, CONTENTS, UNITED, STATES, SECURITI...</td>\n",
       "      <td>52851</td>\n",
       "      <td>[TABLE, OF, CONTENTS, UNITED, STATES, SECURITI...</td>\n",
       "      <td>52851</td>\n",
       "    </tr>\n",
       "  </tbody>\n",
       "</table>\n",
       "</div>"
      ],
      "text/plain": [
       "      id     cik filing_date  \\\n",
       "423  853  879101   2/27/2013   \n",
       "424  854  849399   5/21/2012   \n",
       "425  855   63276   2/24/2011   \n",
       "\n",
       "                                             X10k_link  \\\n",
       "423  https://www.sec.gov/Archives/edgar/data/879101...   \n",
       "424  https://www.sec.gov/Archives/edgar/data/849399...   \n",
       "425  https://www.sec.gov/Archives/edgar/data/63276/...   \n",
       "\n",
       "                                             tenk_data  \\\n",
       "423   UNITED STATES SECURITIES AND EXCHANGE COMMISS...   \n",
       "424   Table of Contents UNITED STATES SECURITIES AN...   \n",
       "425   Table of Contents UNITED STATES SECURITIES AN...   \n",
       "\n",
       "                                          cleaned_data  \\\n",
       "423   UNITED STATES SECURITIES AND EXCHANGE COMMISS...   \n",
       "424   TABLE OF CONTENTS UNITED STATES SECURITIES AN...   \n",
       "425   TABLE OF CONTENTS UNITED STATES SECURITIES AN...   \n",
       "\n",
       "                                            token_data  word_count_token  \\\n",
       "423  [UNITED, STATES, SECURITIES, AND, EXCHANGE, CO...             56179   \n",
       "424  [TABLE, OF, CONTENTS, UNITED, STATES, SECURITI...             47351   \n",
       "425  [TABLE, OF, CONTENTS, UNITED, STATES, SECURITI...             52851   \n",
       "\n",
       "                                           sw_rem_data  word_count_sw_rem  \n",
       "423  [UNITED, STATES, SECURITIES, AND, EXCHANGE, CO...              56179  \n",
       "424  [TABLE, OF, CONTENTS, UNITED, STATES, SECURITI...              47351  \n",
       "425  [TABLE, OF, CONTENTS, UNITED, STATES, SECURITI...              52851  "
      ]
     },
     "execution_count": 31,
     "metadata": {},
     "output_type": "execute_result"
    }
   ],
   "source": [
    "dfTest.tail(3)"
   ]
  },
  {
   "cell_type": "markdown",
   "metadata": {},
   "source": [
    "## Lemmatizing"
   ]
  },
  {
   "cell_type": "code",
   "execution_count": 33,
   "metadata": {},
   "outputs": [],
   "source": [
    "from nltk.stem import WordNetLemmatizer \n",
    "  \n",
    "lemmatizer = WordNetLemmatizer()"
   ]
  },
  {
   "cell_type": "code",
   "execution_count": 34,
   "metadata": {},
   "outputs": [],
   "source": [
    "dfTest['lemma_data'] = dfTest[\"sw_rem_data\"].apply(lambda x: [lemmatizer.lemmatize(y,pos = 'v') for y in x])"
   ]
  },
  {
   "cell_type": "code",
   "execution_count": 35,
   "metadata": {
    "scrolled": true
   },
   "outputs": [
    {
     "data": {
      "text/html": [
       "<div>\n",
       "<style scoped>\n",
       "    .dataframe tbody tr th:only-of-type {\n",
       "        vertical-align: middle;\n",
       "    }\n",
       "\n",
       "    .dataframe tbody tr th {\n",
       "        vertical-align: top;\n",
       "    }\n",
       "\n",
       "    .dataframe thead th {\n",
       "        text-align: right;\n",
       "    }\n",
       "</style>\n",
       "<table border=\"1\" class=\"dataframe\">\n",
       "  <thead>\n",
       "    <tr style=\"text-align: right;\">\n",
       "      <th></th>\n",
       "      <th>id</th>\n",
       "      <th>cik</th>\n",
       "      <th>filing_date</th>\n",
       "      <th>X10k_link</th>\n",
       "      <th>tenk_data</th>\n",
       "      <th>cleaned_data</th>\n",
       "      <th>token_data</th>\n",
       "      <th>word_count_token</th>\n",
       "      <th>sw_rem_data</th>\n",
       "      <th>word_count_sw_rem</th>\n",
       "      <th>lemma_data</th>\n",
       "    </tr>\n",
       "  </thead>\n",
       "  <tbody>\n",
       "    <tr>\n",
       "      <th>0</th>\n",
       "      <td>0</td>\n",
       "      <td>40533</td>\n",
       "      <td>2/17/2012</td>\n",
       "      <td>https://www.sec.gov/Archives/edgar/data/40533/...</td>\n",
       "      <td>Table of Contents UNITED STATES SECURITIES AN...</td>\n",
       "      <td>TABLE OF CONTENTS UNITED STATES SECURITIES AN...</td>\n",
       "      <td>[TABLE, OF, CONTENTS, UNITED, STATES, SECURITI...</td>\n",
       "      <td>41108</td>\n",
       "      <td>[TABLE, OF, CONTENTS, UNITED, STATES, SECURITI...</td>\n",
       "      <td>41108</td>\n",
       "      <td>[TABLE, OF, CONTENTS, UNITED, STATES, SECURITI...</td>\n",
       "    </tr>\n",
       "    <tr>\n",
       "      <th>1</th>\n",
       "      <td>1</td>\n",
       "      <td>36270</td>\n",
       "      <td>3/19/1999</td>\n",
       "      <td>https://www.sec.gov/Archives/edgar/data/36270/...</td>\n",
       "      <td>UNITED STATES SECURITIES AND EXCHANGE COMMISS...</td>\n",
       "      <td>UNITED STATES SECURITIES AND EXCHANGE COMMISS...</td>\n",
       "      <td>[UNITED, STATES, SECURITIES, AND, EXCHANGE, CO...</td>\n",
       "      <td>37429</td>\n",
       "      <td>[UNITED, STATES, SECURITIES, AND, EXCHANGE, CO...</td>\n",
       "      <td>37429</td>\n",
       "      <td>[UNITED, STATES, SECURITIES, AND, EXCHANGE, CO...</td>\n",
       "    </tr>\n",
       "  </tbody>\n",
       "</table>\n",
       "</div>"
      ],
      "text/plain": [
       "   id    cik filing_date                                          X10k_link  \\\n",
       "0   0  40533   2/17/2012  https://www.sec.gov/Archives/edgar/data/40533/...   \n",
       "1   1  36270   3/19/1999  https://www.sec.gov/Archives/edgar/data/36270/...   \n",
       "\n",
       "                                           tenk_data  \\\n",
       "0   Table of Contents UNITED STATES SECURITIES AN...   \n",
       "1   UNITED STATES SECURITIES AND EXCHANGE COMMISS...   \n",
       "\n",
       "                                        cleaned_data  \\\n",
       "0   TABLE OF CONTENTS UNITED STATES SECURITIES AN...   \n",
       "1   UNITED STATES SECURITIES AND EXCHANGE COMMISS...   \n",
       "\n",
       "                                          token_data  word_count_token  \\\n",
       "0  [TABLE, OF, CONTENTS, UNITED, STATES, SECURITI...             41108   \n",
       "1  [UNITED, STATES, SECURITIES, AND, EXCHANGE, CO...             37429   \n",
       "\n",
       "                                         sw_rem_data  word_count_sw_rem  \\\n",
       "0  [TABLE, OF, CONTENTS, UNITED, STATES, SECURITI...              41108   \n",
       "1  [UNITED, STATES, SECURITIES, AND, EXCHANGE, CO...              37429   \n",
       "\n",
       "                                          lemma_data  \n",
       "0  [TABLE, OF, CONTENTS, UNITED, STATES, SECURITI...  \n",
       "1  [UNITED, STATES, SECURITIES, AND, EXCHANGE, CO...  "
      ]
     },
     "execution_count": 35,
     "metadata": {},
     "output_type": "execute_result"
    }
   ],
   "source": [
    "dfTest.head(2)"
   ]
  },
  {
   "cell_type": "markdown",
   "metadata": {},
   "source": [
    "### Extracting year from the filing date column"
   ]
  },
  {
   "cell_type": "code",
   "execution_count": 36,
   "metadata": {},
   "outputs": [
    {
     "data": {
      "text/html": [
       "<div>\n",
       "<style scoped>\n",
       "    .dataframe tbody tr th:only-of-type {\n",
       "        vertical-align: middle;\n",
       "    }\n",
       "\n",
       "    .dataframe tbody tr th {\n",
       "        vertical-align: top;\n",
       "    }\n",
       "\n",
       "    .dataframe thead th {\n",
       "        text-align: right;\n",
       "    }\n",
       "</style>\n",
       "<table border=\"1\" class=\"dataframe\">\n",
       "  <thead>\n",
       "    <tr style=\"text-align: right;\">\n",
       "      <th></th>\n",
       "      <th>id</th>\n",
       "      <th>cik</th>\n",
       "      <th>filing_date</th>\n",
       "      <th>X10k_link</th>\n",
       "      <th>tenk_data</th>\n",
       "      <th>cleaned_data</th>\n",
       "      <th>token_data</th>\n",
       "      <th>word_count_token</th>\n",
       "      <th>sw_rem_data</th>\n",
       "      <th>word_count_sw_rem</th>\n",
       "      <th>lemma_data</th>\n",
       "      <th>filing_year</th>\n",
       "    </tr>\n",
       "  </thead>\n",
       "  <tbody>\n",
       "    <tr>\n",
       "      <th>0</th>\n",
       "      <td>0</td>\n",
       "      <td>40533</td>\n",
       "      <td>2/17/2012</td>\n",
       "      <td>https://www.sec.gov/Archives/edgar/data/40533/...</td>\n",
       "      <td>Table of Contents UNITED STATES SECURITIES AN...</td>\n",
       "      <td>TABLE OF CONTENTS UNITED STATES SECURITIES AN...</td>\n",
       "      <td>[TABLE, OF, CONTENTS, UNITED, STATES, SECURITI...</td>\n",
       "      <td>41108</td>\n",
       "      <td>[TABLE, OF, CONTENTS, UNITED, STATES, SECURITI...</td>\n",
       "      <td>41108</td>\n",
       "      <td>[TABLE, OF, CONTENTS, UNITED, STATES, SECURITI...</td>\n",
       "      <td>2012</td>\n",
       "    </tr>\n",
       "    <tr>\n",
       "      <th>1</th>\n",
       "      <td>1</td>\n",
       "      <td>36270</td>\n",
       "      <td>3/19/1999</td>\n",
       "      <td>https://www.sec.gov/Archives/edgar/data/36270/...</td>\n",
       "      <td>UNITED STATES SECURITIES AND EXCHANGE COMMISS...</td>\n",
       "      <td>UNITED STATES SECURITIES AND EXCHANGE COMMISS...</td>\n",
       "      <td>[UNITED, STATES, SECURITIES, AND, EXCHANGE, CO...</td>\n",
       "      <td>37429</td>\n",
       "      <td>[UNITED, STATES, SECURITIES, AND, EXCHANGE, CO...</td>\n",
       "      <td>37429</td>\n",
       "      <td>[UNITED, STATES, SECURITIES, AND, EXCHANGE, CO...</td>\n",
       "      <td>1999</td>\n",
       "    </tr>\n",
       "  </tbody>\n",
       "</table>\n",
       "</div>"
      ],
      "text/plain": [
       "   id    cik filing_date                                          X10k_link  \\\n",
       "0   0  40533   2/17/2012  https://www.sec.gov/Archives/edgar/data/40533/...   \n",
       "1   1  36270   3/19/1999  https://www.sec.gov/Archives/edgar/data/36270/...   \n",
       "\n",
       "                                           tenk_data  \\\n",
       "0   Table of Contents UNITED STATES SECURITIES AN...   \n",
       "1   UNITED STATES SECURITIES AND EXCHANGE COMMISS...   \n",
       "\n",
       "                                        cleaned_data  \\\n",
       "0   TABLE OF CONTENTS UNITED STATES SECURITIES AN...   \n",
       "1   UNITED STATES SECURITIES AND EXCHANGE COMMISS...   \n",
       "\n",
       "                                          token_data  word_count_token  \\\n",
       "0  [TABLE, OF, CONTENTS, UNITED, STATES, SECURITI...             41108   \n",
       "1  [UNITED, STATES, SECURITIES, AND, EXCHANGE, CO...             37429   \n",
       "\n",
       "                                         sw_rem_data  word_count_sw_rem  \\\n",
       "0  [TABLE, OF, CONTENTS, UNITED, STATES, SECURITI...              41108   \n",
       "1  [UNITED, STATES, SECURITIES, AND, EXCHANGE, CO...              37429   \n",
       "\n",
       "                                          lemma_data  filing_year  \n",
       "0  [TABLE, OF, CONTENTS, UNITED, STATES, SECURITI...         2012  \n",
       "1  [UNITED, STATES, SECURITIES, AND, EXCHANGE, CO...         1999  "
      ]
     },
     "execution_count": 36,
     "metadata": {},
     "output_type": "execute_result"
    }
   ],
   "source": [
    "import datetime\n",
    "\n",
    "\n",
    "dfTest['filing_year'] = pd.DatetimeIndex(dfTest['filing_date']).year\n",
    "dfTest.head(2)"
   ]
  },
  {
   "cell_type": "markdown",
   "metadata": {},
   "source": [
    "### Dropping columns"
   ]
  },
  {
   "cell_type": "code",
   "execution_count": 37,
   "metadata": {},
   "outputs": [],
   "source": [
    "data = dfTest.drop(columns = ['X10k_link', 'tenk_data', 'cleaned_data', 'token_data', 'word_count_token', 'filing_date'])"
   ]
  },
  {
   "cell_type": "code",
   "execution_count": 38,
   "metadata": {},
   "outputs": [
    {
     "data": {
      "text/html": [
       "<div>\n",
       "<style scoped>\n",
       "    .dataframe tbody tr th:only-of-type {\n",
       "        vertical-align: middle;\n",
       "    }\n",
       "\n",
       "    .dataframe tbody tr th {\n",
       "        vertical-align: top;\n",
       "    }\n",
       "\n",
       "    .dataframe thead th {\n",
       "        text-align: right;\n",
       "    }\n",
       "</style>\n",
       "<table border=\"1\" class=\"dataframe\">\n",
       "  <thead>\n",
       "    <tr style=\"text-align: right;\">\n",
       "      <th></th>\n",
       "      <th>id</th>\n",
       "      <th>cik</th>\n",
       "      <th>sw_rem_data</th>\n",
       "      <th>word_count_sw_rem</th>\n",
       "      <th>lemma_data</th>\n",
       "      <th>filing_year</th>\n",
       "    </tr>\n",
       "  </thead>\n",
       "  <tbody>\n",
       "    <tr>\n",
       "      <th>0</th>\n",
       "      <td>0</td>\n",
       "      <td>40533</td>\n",
       "      <td>[TABLE, OF, CONTENTS, UNITED, STATES, SECURITI...</td>\n",
       "      <td>41108</td>\n",
       "      <td>[TABLE, OF, CONTENTS, UNITED, STATES, SECURITI...</td>\n",
       "      <td>2012</td>\n",
       "    </tr>\n",
       "    <tr>\n",
       "      <th>1</th>\n",
       "      <td>1</td>\n",
       "      <td>36270</td>\n",
       "      <td>[UNITED, STATES, SECURITIES, AND, EXCHANGE, CO...</td>\n",
       "      <td>37429</td>\n",
       "      <td>[UNITED, STATES, SECURITIES, AND, EXCHANGE, CO...</td>\n",
       "      <td>1999</td>\n",
       "    </tr>\n",
       "    <tr>\n",
       "      <th>2</th>\n",
       "      <td>2</td>\n",
       "      <td>315852</td>\n",
       "      <td>[TABLE, OF, CONTENTS, SECURITIES, AND, EXCHANG...</td>\n",
       "      <td>29882</td>\n",
       "      <td>[TABLE, OF, CONTENTS, SECURITIES, AND, EXCHANG...</td>\n",
       "      <td>2001</td>\n",
       "    </tr>\n",
       "  </tbody>\n",
       "</table>\n",
       "</div>"
      ],
      "text/plain": [
       "   id     cik                                        sw_rem_data  \\\n",
       "0   0   40533  [TABLE, OF, CONTENTS, UNITED, STATES, SECURITI...   \n",
       "1   1   36270  [UNITED, STATES, SECURITIES, AND, EXCHANGE, CO...   \n",
       "2   2  315852  [TABLE, OF, CONTENTS, SECURITIES, AND, EXCHANG...   \n",
       "\n",
       "   word_count_sw_rem                                         lemma_data  \\\n",
       "0              41108  [TABLE, OF, CONTENTS, UNITED, STATES, SECURITI...   \n",
       "1              37429  [UNITED, STATES, SECURITIES, AND, EXCHANGE, CO...   \n",
       "2              29882  [TABLE, OF, CONTENTS, SECURITIES, AND, EXCHANG...   \n",
       "\n",
       "   filing_year  \n",
       "0         2012  \n",
       "1         1999  \n",
       "2         2001  "
      ]
     },
     "execution_count": 38,
     "metadata": {},
     "output_type": "execute_result"
    }
   ],
   "source": [
    "data.head(3)"
   ]
  },
  {
   "cell_type": "markdown",
   "metadata": {},
   "source": [
    "## Data Visualization"
   ]
  },
  {
   "cell_type": "code",
   "execution_count": 39,
   "metadata": {},
   "outputs": [],
   "source": [
    "import seaborn as sns\n",
    "import matplotlib.pyplot as plt"
   ]
  },
  {
   "cell_type": "code",
   "execution_count": 40,
   "metadata": {},
   "outputs": [
    {
     "data": {
      "text/plain": [
       "<matplotlib.axes._subplots.AxesSubplot at 0x17542286278>"
      ]
     },
     "execution_count": 40,
     "metadata": {},
     "output_type": "execute_result"
    },
    {
     "data": {
      "image/png": "[encoded data removed]",
      "text/plain": [
       "<Figure size 1440x576 with 1 Axes>"
      ]
     },
     "metadata": {
      "needs_background": "light"
     },
     "output_type": "display_data"
    }
   ],
   "source": [
    "f,ax=plt.subplots(figsize = (20,8))\n",
    "f.suptitle('Distribution of Word Count', fontsize = 25)\n",
    "sns.distplot(data['word_count_sw_rem'])"
   ]
  },
  {
   "cell_type": "markdown",
   "metadata": {},
   "source": [
    "Majority of the word count distribution centers arount 3000 words."
   ]
  },
  {
   "cell_type": "code",
   "execution_count": 41,
   "metadata": {},
   "outputs": [
    {
     "data": {
      "text/plain": [
       "<matplotlib.axes._subplots.AxesSubplot at 0x17542944438>"
      ]
     },
     "execution_count": 41,
     "metadata": {},
     "output_type": "execute_result"
    },
    {
     "data": {
      "image/png": "[encoded data removed]",
      "text/plain": [
       "<Figure size 1440x576 with 1 Axes>"
      ]
     },
     "metadata": {
      "needs_background": "light"
     },
     "output_type": "display_data"
    }
   ],
   "source": [
    "f,ax=plt.subplots(figsize = (20,8))\n",
    "f.suptitle('Frequency Distribution of the Filing year', fontsize = 25)\n",
    "sns.countplot(data['filing_year'])"
   ]
  },
  {
   "cell_type": "markdown",
   "metadata": {},
   "source": [
    "Most 10-K report data is from the years 2008 to 2017."
   ]
  },
  {
   "cell_type": "code",
   "execution_count": 43,
   "metadata": {},
   "outputs": [],
   "source": [
    "#f,ax=plt.subplots(figsize = (10,8))\n",
    "#f.suptitle('Class Imbalance of Target', fontsize = 25)\n",
    "#sns.countplot(data['long_term_outlook'])"
   ]
  },
  {
   "cell_type": "code",
   "execution_count": 44,
   "metadata": {},
   "outputs": [],
   "source": [
    "#f,ax=plt.subplots(figsize = (25,10))\n",
    "#f.suptitle('Frequency Distribution of Filing year with Class label', fontsize = 25)\n",
    "#sns.countplot(data['filing_year'], hue = data['long_term_outlook'])"
   ]
  },
  {
   "cell_type": "markdown",
   "metadata": {},
   "source": [
    "The year 2008 shows record maximum of label 0. This is beacause of the 2008 recession."
   ]
  },
  {
   "cell_type": "code",
   "execution_count": 45,
   "metadata": {},
   "outputs": [
    {
     "data": {
      "text/plain": [
       "<seaborn.axisgrid.JointGrid at 0x1754297de48>"
      ]
     },
     "execution_count": 45,
     "metadata": {},
     "output_type": "execute_result"
    },
    {
     "data": {
      "image/png": "[encoded data removed]",
      "text/plain": [
       "<Figure size 576x576 with 3 Axes>"
      ]
     },
     "metadata": {
      "needs_background": "light"
     },
     "output_type": "display_data"
    }
   ],
   "source": [
    "#f,ax=plt.subplots(figsize = (25,10))\n",
    "f.suptitle('Distribution of filing year with word count', fontsize = 25)\n",
    "sns.jointplot(x = data['filing_year'], y = data['word_count_sw_rem'], height = 8, ratio = 8)"
   ]
  },
  {
   "cell_type": "code",
   "execution_count": 46,
   "metadata": {},
   "outputs": [
    {
     "data": {
      "text/plain": [
       "<matplotlib.axes._subplots.AxesSubplot at 0x17542e8ce48>"
      ]
     },
     "execution_count": 46,
     "metadata": {},
     "output_type": "execute_result"
    },
    {
     "data": {
      "image/png": "[encoded data removed]",
      "text/plain": [
       "<Figure size 432x288 with 2 Axes>"
      ]
     },
     "metadata": {
      "needs_background": "light"
     },
     "output_type": "display_data"
    }
   ],
   "source": [
    "corr = data.corr()\n",
    "\n",
    "sns.heatmap(corr)"
   ]
  },
  {
   "cell_type": "code",
   "execution_count": null,
   "metadata": {},
   "outputs": [],
   "source": [
    "#f,ax=plt.subplots(figsize = (25,10))\n",
    "#f.suptitle('Frequency Distribution of Filing year with Class label', fontsize = 25)\n",
    "#sns.catplot(x=\"filing_year\", y=\"word_count_sw_rem\", hue=\"long_term_outlook\", kind=\"swarm\", data=data, aspect = 3)"
   ]
  },
  {
   "cell_type": "code",
   "execution_count": 47,
   "metadata": {},
   "outputs": [],
   "source": [
    "from wordcloud import WordCloud"
   ]
  },
  {
   "cell_type": "code",
   "execution_count": 48,
   "metadata": {},
   "outputs": [],
   "source": [
    "data['lemma'] = [' '.join(text) for text in data['lemma_data']]"
   ]
  },
  {
   "cell_type": "code",
   "execution_count": 49,
   "metadata": {},
   "outputs": [
    {
     "data": {
      "text/plain": [
       "0    TABLE OF CONTENTS UNITED STATES SECURITIES AND...\n",
       "0    UNITED STATES SECURITIES AND EXCHANGE COMMISSI...\n",
       "Name: lemma, dtype: object"
      ]
     },
     "execution_count": 49,
     "metadata": {},
     "output_type": "execute_result"
    }
   ],
   "source": [
    "data['lemma'][0]"
   ]
  },
  {
   "cell_type": "code",
   "execution_count": 50,
   "metadata": {},
   "outputs": [
    {
     "data": {
      "image/png": "[encoded data removed]",
      "text/plain": [
       "<Figure size 432x288 with 1 Axes>"
      ]
     },
     "metadata": {
      "needs_background": "light"
     },
     "output_type": "display_data"
    }
   ],
   "source": [
    "wordcloud = WordCloud(max_font_size=50, max_words=25, background_color=\"white\").generate(str(data['lemma_data'][10]))\n",
    "import matplotlib.pyplot as plt\n",
    "%matplotlib inline\n",
    "plt.imshow(wordcloud)\n",
    "plt.axis(\"off\")\n",
    "plt.show()"
   ]
  },
  {
   "cell_type": "code",
   "execution_count": 52,
   "metadata": {},
   "outputs": [
    {
     "data": {
      "text/plain": [
       "id                    int64\n",
       "cik                   int64\n",
       "filing_date          object\n",
       "X10k_link            object\n",
       "tenk_data            object\n",
       "cleaned_data         object\n",
       "token_data           object\n",
       "word_count_token      int64\n",
       "sw_rem_data          object\n",
       "word_count_sw_rem     int64\n",
       "lemma_data           object\n",
       "filing_year           int64\n",
       "dtype: object"
      ]
     },
     "execution_count": 52,
     "metadata": {},
     "output_type": "execute_result"
    }
   ],
   "source": [
    "dfTest.dtypes"
   ]
  },
  {
   "cell_type": "code",
   "execution_count": 53,
   "metadata": {},
   "outputs": [
    {
     "data": {
      "text/plain": [
       "0     Table of Contents UNITED STATES SECURITIES AN...\n",
       "0     \\t \\t UNITED STATES SECURITIES AND EXCHANGE C...\n",
       "Name: tenk_data, dtype: object"
      ]
     },
     "execution_count": 53,
     "metadata": {},
     "output_type": "execute_result"
    }
   ],
   "source": [
    "dfTest['tenk_data'][0]"
   ]
  },
  {
   "cell_type": "code",
   "execution_count": 54,
   "metadata": {},
   "outputs": [],
   "source": [
    "data.to_csv('final_test_data.csv')"
   ]
  },
  {
   "cell_type": "code",
   "execution_count": null,
   "metadata": {},
   "outputs": [],
   "source": []
  }
 ],
 "metadata": {
  "kernelspec": {
   "display_name": "Python 3",
   "language": "python",
   "name": "python3"
  },
  "language_info": {
   "codemirror_mode": {
    "name": "ipython",
    "version": 3
   },
   "file_extension": ".py",
   "mimetype": "text/x-python",
   "name": "python",
   "nbconvert_exporter": "python",
   "pygments_lexer": "ipython3",
   "version": "3.7.3"
  },
  "toc": {
   "base_numbering": 1,
   "nav_menu": {},
   "number_sections": true,
   "sideBar": true,
   "skip_h1_title": false,
   "title_cell": "Table of Contents",
   "title_sidebar": "Contents",
   "toc_cell": false,
   "toc_position": {},
   "toc_section_display": true,
   "toc_window_display": false
  },
  "varInspector": {
   "cols": {
    "lenName": 16,
    "lenType": 16,
    "lenVar": 40
   },
   "kernels_config": {
    "python": {
     "delete_cmd_postfix": "",
     "delete_cmd_prefix": "del ",
     "library": "var_list.py",
     "varRefreshCmd": "print(var_dic_list())"
    },
    "r": {
     "delete_cmd_postfix": ") ",
     "delete_cmd_prefix": "rm(",
     "library": "var_list.r",
     "varRefreshCmd": "cat(var_dic_list()) "
    }
   },
   "types_to_exclude": [
    "module",
    "function",
    "builtin_function_or_method",
    "instance",
    "_Feature"
   ],
   "window_display": false
  }
 },
 "nbformat": 4,
 "nbformat_minor": 2
}
